{
 "cells": [
  {
   "cell_type": "markdown",
   "id": "9061d7d6-3524-4fa2-a379-2165f636415e",
   "metadata": {},
   "source": [
    "# Decision Tree Regressor"
   ]
  },
  {
   "cell_type": "code",
   "execution_count": 1,
   "id": "1ad2e12f-d0d5-4297-9e91-ac44b2607f2a",
   "metadata": {},
   "outputs": [],
   "source": [
    "import pandas as pd\n",
    "import numpy as np\n",
    "from sklearn.model_selection import train_test_split\n",
    "import matplotlib.pyplot as plt\n",
    "from sklearn import tree\n",
    "from sklearn.model_selection import GridSearchCV\n",
    "from sklearn.preprocessing import StandardScaler\n",
    "from sklearn.pipeline import make_pipeline\n",
    "from sklearn.metrics import make_scorer"
   ]
  },
  {
   "cell_type": "code",
   "execution_count": 2,
   "id": "9bc435d6-d118-4d9e-84ec-4cebf8695198",
   "metadata": {},
   "outputs": [],
   "source": [
    "grd = pd.read_csv(\"../data/graphene_data_final.csv\")"
   ]
  },
  {
   "cell_type": "code",
   "execution_count": 3,
   "id": "f622e1df-602f-44de-903a-2bc394e94d21",
   "metadata": {},
   "outputs": [],
   "source": [
    "X, Y = grd[['Graphene_percentage', 'FEED', 'RPM', 'DOC']], grd['MRR_gm_per_sec']\n",
    "Y2 = grd['Ra']"
   ]
  },
  {
   "cell_type": "code",
   "execution_count": 4,
   "id": "4ed3fe54-662b-4b03-8fda-07094bee48c3",
   "metadata": {},
   "outputs": [],
   "source": [
    "X_train, X_test, Y_train, Y_test = train_test_split(X, Y, test_size = 0.3, random_state=33)\n",
    "X_train2, X_test2, Y2_train, Y2_test = train_test_split(X, Y2, test_size = 0.3, random_state=1)"
   ]
  },
  {
   "cell_type": "code",
   "execution_count": 5,
   "id": "a5f60187-daaa-4668-96b8-d0ea2b06e3d7",
   "metadata": {},
   "outputs": [
    {
     "name": "stdout",
     "output_type": "stream",
     "text": [
      "0.8594779567262018\n"
     ]
    }
   ],
   "source": [
    "print(tree.DecisionTreeRegressor().fit(X_train,Y_train).score(X_test,Y_test))"
   ]
  },
  {
   "cell_type": "code",
   "execution_count": 6,
   "id": "97f11f13-b67e-45cf-a10d-95cd9f45fb08",
   "metadata": {},
   "outputs": [],
   "source": [
    "param_grid = { \n",
    "    'min_samples_split': [2,4,8,12,16],\n",
    "    'max_features': ['auto', 'sqrt', 'log2'],\n",
    "    'min_samples_leaf': [2,4,6,8],\n",
    "    'max_depth' : [1,3,5,7,9,11,13,15],\n",
    "}"
   ]
  },
  {
   "cell_type": "code",
   "execution_count": 7,
   "id": "554da502-fa31-4f7b-91d5-f9c85027cf4a",
   "metadata": {},
   "outputs": [],
   "source": [
    "dtr_cv = tree.DecisionTreeRegressor(random_state=16)"
   ]
  },
  {
   "cell_type": "code",
   "execution_count": 8,
   "id": "3acabc56-a497-4d3f-8967-b466bd240aaf",
   "metadata": {},
   "outputs": [
    {
     "data": {
      "text/plain": [
       "GridSearchCV(cv=5, estimator=DecisionTreeRegressor(random_state=16),\n",
       "             param_grid={'max_depth': [1, 3, 5, 7, 9, 11, 13, 15],\n",
       "                         'max_features': ['auto', 'sqrt', 'log2'],\n",
       "                         'min_samples_leaf': [2, 4, 6, 8],\n",
       "                         'min_samples_split': [2, 4, 8, 12, 16]})"
      ]
     },
     "execution_count": 8,
     "metadata": {},
     "output_type": "execute_result"
    }
   ],
   "source": [
    "CV_dtr = GridSearchCV(estimator=dtr_cv, param_grid=param_grid, cv= 5)\n",
    "CV_dtr.fit(X_train, Y_train)"
   ]
  },
  {
   "cell_type": "code",
   "execution_count": 9,
   "id": "96a6e08e-a9c8-4d67-8196-4f3572bdc6fd",
   "metadata": {},
   "outputs": [
    {
     "data": {
      "text/plain": [
       "0.8730574949203294"
      ]
     },
     "execution_count": 9,
     "metadata": {},
     "output_type": "execute_result"
    }
   ],
   "source": [
    "CV_dtr.score(X_test, Y_test)"
   ]
  },
  {
   "cell_type": "code",
   "execution_count": 10,
   "id": "e765be84-76c0-4b18-8d97-c5512cb96d1e",
   "metadata": {},
   "outputs": [
    {
     "data": {
      "text/plain": [
       "{'max_depth': 7,\n",
       " 'max_features': 'auto',\n",
       " 'min_samples_leaf': 2,\n",
       " 'min_samples_split': 8}"
      ]
     },
     "execution_count": 10,
     "metadata": {},
     "output_type": "execute_result"
    }
   ],
   "source": [
    "CV_dtr.best_params_"
   ]
  },
  {
   "cell_type": "code",
   "execution_count": 11,
   "id": "bd30bdbf-f0b0-4a77-8ebc-6f32c804bef1",
   "metadata": {},
   "outputs": [],
   "source": [
    "dtr_cv2 = tree.DecisionTreeRegressor(random_state=6)"
   ]
  },
  {
   "cell_type": "code",
   "execution_count": 12,
   "id": "e74fc312-7dd0-4899-93e4-95562465a413",
   "metadata": {},
   "outputs": [
    {
     "data": {
      "text/plain": [
       "GridSearchCV(cv=5, estimator=DecisionTreeRegressor(random_state=6),\n",
       "             param_grid={'max_depth': [1, 3, 5, 7, 9, 11, 13, 15],\n",
       "                         'max_features': ['auto', 'sqrt', 'log2'],\n",
       "                         'min_samples_leaf': [2, 4, 6, 8],\n",
       "                         'min_samples_split': [2, 4, 8, 12, 16]})"
      ]
     },
     "execution_count": 12,
     "metadata": {},
     "output_type": "execute_result"
    }
   ],
   "source": [
    "CV_dtr2 = GridSearchCV(estimator=dtr_cv2, param_grid=param_grid, cv= 5)\n",
    "CV_dtr2.fit(X_train2, Y2_train)"
   ]
  },
  {
   "cell_type": "code",
   "execution_count": 13,
   "id": "d8ef780e-c868-4068-9817-2a5cb143d1a4",
   "metadata": {},
   "outputs": [
    {
     "data": {
      "text/plain": [
       "0.34724831489740293"
      ]
     },
     "execution_count": 13,
     "metadata": {},
     "output_type": "execute_result"
    }
   ],
   "source": [
    "CV_dtr2.score(X_test2, Y2_test)"
   ]
  },
  {
   "cell_type": "markdown",
   "id": "967d3233-2b83-4344-889e-4366c84d281e",
   "metadata": {},
   "source": [
    "Now let's save the best performing decision tree model as a \"Pickle\" file."
   ]
  },
  {
   "cell_type": "code",
   "execution_count": 14,
   "id": "4ad8e978-fcba-4acd-a452-7a04653e54b8",
   "metadata": {},
   "outputs": [],
   "source": [
    "import pickle\n",
    "with open('../trained_models/decision_tree_MRR.pkl','wb') as f:\n",
    "    pickle.dump(CV_dtr,f)\n",
    "with open('../trained_models/decision_tree_RA.pkl','wb') as f:\n",
    "    pickle.dump(CV_dtr2,f)"
   ]
  }
 ],
 "metadata": {
  "kernelspec": {
   "display_name": "Python 3 (ipykernel)",
   "language": "python",
   "name": "python3"
  },
  "language_info": {
   "codemirror_mode": {
    "name": "ipython",
    "version": 3
   },
   "file_extension": ".py",
   "mimetype": "text/x-python",
   "name": "python",
   "nbconvert_exporter": "python",
   "pygments_lexer": "ipython3",
   "version": "3.9.7"
  }
 },
 "nbformat": 4,
 "nbformat_minor": 5
}
