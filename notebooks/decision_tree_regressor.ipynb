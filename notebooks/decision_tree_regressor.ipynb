{
 "cells": [
  {
   "cell_type": "markdown",
   "id": "9061d7d6-3524-4fa2-a379-2165f636415e",
   "metadata": {},
   "source": [
    "# Decision Tree Regressor"
   ]
  },
  {
   "cell_type": "code",
   "execution_count": 46,
   "id": "1ad2e12f-d0d5-4297-9e91-ac44b2607f2a",
   "metadata": {},
   "outputs": [],
   "source": [
    "import pandas as pd\n",
    "import numpy as np\n",
    "from sklearn.model_selection import train_test_split\n",
    "import matplotlib.pyplot as plt\n",
    "from sklearn import tree\n",
    "from sklearn.model_selection import GridSearchCV\n",
    "from sklearn.preprocessing import StandardScaler\n",
    "from sklearn.pipeline import make_pipeline\n",
    "from sklearn.metrics import make_scorer"
   ]
  },
  {
   "cell_type": "code",
   "execution_count": 2,
   "id": "9bc435d6-d118-4d9e-84ec-4cebf8695198",
   "metadata": {},
   "outputs": [],
   "source": [
    "grd = pd.read_csv(\"../data/graphene_data_final.csv\")"
   ]
  },
  {
   "cell_type": "code",
   "execution_count": 4,
   "id": "f622e1df-602f-44de-903a-2bc394e94d21",
   "metadata": {},
   "outputs": [],
   "source": [
    "X, Y = grd[['Graphene_percentage', 'FEED', 'RPM', 'DOC']], grd['MRR_gm_per_sec']"
   ]
  },
  {
   "cell_type": "code",
   "execution_count": 5,
   "id": "4ed3fe54-662b-4b03-8fda-07094bee48c3",
   "metadata": {},
   "outputs": [],
   "source": [
    "X_train, X_test, Y_train, Y_test = train_test_split(X, Y, test_size = 0.3, random_state=1)"
   ]
  },
  {
   "cell_type": "code",
   "execution_count": 8,
   "id": "770688e1-8b69-41db-8120-64a76602c603",
   "metadata": {},
   "outputs": [
    {
     "data": {
      "text/plain": [
       "['BaseDecisionTree',\n",
       " 'DecisionTreeClassifier',\n",
       " 'DecisionTreeRegressor',\n",
       " 'ExtraTreeClassifier',\n",
       " 'ExtraTreeRegressor',\n",
       " '__all__',\n",
       " '__builtins__',\n",
       " '__cached__',\n",
       " '__doc__',\n",
       " '__file__',\n",
       " '__loader__',\n",
       " '__name__',\n",
       " '__package__',\n",
       " '__path__',\n",
       " '__spec__',\n",
       " '_classes',\n",
       " '_criterion',\n",
       " '_export',\n",
       " '_reingold_tilford',\n",
       " '_splitter',\n",
       " '_tree',\n",
       " '_utils',\n",
       " 'export_graphviz',\n",
       " 'export_text',\n",
       " 'plot_tree']"
      ]
     },
     "execution_count": 8,
     "metadata": {},
     "output_type": "execute_result"
    }
   ],
   "source": [
    "dir(tree)"
   ]
  },
  {
   "cell_type": "code",
   "execution_count": 37,
   "id": "a5f60187-daaa-4668-96b8-d0ea2b06e3d7",
   "metadata": {},
   "outputs": [
    {
     "data": {
      "text/plain": [
       "0.8456605882420749"
      ]
     },
     "execution_count": 37,
     "metadata": {},
     "output_type": "execute_result"
    }
   ],
   "source": [
    "tree.DecisionTreeRegressor().fit(X_train,Y_train).score(X_test,Y_test)"
   ]
  },
  {
   "cell_type": "code",
   "execution_count": 34,
   "id": "f9e46b7c-4172-438e-9722-79f8d1781dbb",
   "metadata": {},
   "outputs": [
    {
     "name": "stdout",
     "output_type": "stream",
     "text": [
      "1  0.34215504461832535\n",
      "2  0.6584615859318392\n",
      "3  0.7683696377168678\n",
      "4  0.8427968886279223\n",
      "5  0.8294883692112021\n",
      "6  0.8316129305883024\n",
      "7  0.8497825924673458\n",
      "8  0.8456605882420749\n",
      "9  0.8456605882420749\n"
     ]
    }
   ],
   "source": [
    "for i in range(1,10):\n",
    "    tree_0 = tree.DecisionTreeRegressor(max_depth=i).fit(X_train,Y_train)   \n",
    "    print(str(i)+\"  \"+str(tree_0.score(X_test,Y_test)))"
   ]
  },
  {
   "cell_type": "code",
   "execution_count": 36,
   "id": "af5f4cee-af7b-4855-9b84-7e3fde1df859",
   "metadata": {},
   "outputs": [
    {
     "name": "stdout",
     "output_type": "stream",
     "text": [
      "2  0.8456605882420749\n",
      "3  0.8470616635414071\n",
      "4  0.860390263796653\n",
      "5  0.8701307304048008\n",
      "6  0.8473999412257508\n",
      "7  0.8467823180570306\n",
      "8  0.8461547716851097\n",
      "9  0.8383191686380057\n",
      "10  0.8432851400474273\n",
      "11  0.8432564135002851\n",
      "12  0.8464894105095315\n",
      "13  0.8513055680304795\n",
      "14  0.8513055680304796\n",
      "15  0.8513055680304796\n",
      "16  0.8513055680304795\n",
      "17  0.8513055680304795\n",
      "18  0.8534638877180606\n",
      "19  0.8332526763504086\n",
      "20  0.8332526763504086\n"
     ]
    }
   ],
   "source": [
    "for i in range(1,20):\n",
    "    tree_0 = tree.DecisionTreeRegressor(min_samples_split=i+1).fit(X_train,Y_train)   \n",
    "    print(str(i+1)+\"  \"+str(tree_0.score(X_test,Y_test)))"
   ]
  },
  {
   "cell_type": "code",
   "execution_count": 56,
   "id": "f246f224-7ae8-4f38-b0b0-ff5573825a25",
   "metadata": {},
   "outputs": [
    {
     "name": "stdout",
     "output_type": "stream",
     "text": [
      "2  0.8629876868642068\n",
      "3  0.847232833145562\n",
      "4  0.8522967533572814\n",
      "5  0.8551022398855788\n",
      "6  0.8493352290787524\n",
      "7  0.8496606267024551\n",
      "8  0.8496606267024551\n",
      "9  0.8330052587584644\n",
      "10  0.758129224778583\n",
      "11  0.758129224778583\n",
      "12  0.7272398824831834\n",
      "13  0.7213185183452002\n",
      "14  0.7213185183452002\n",
      "15  0.7213185183452002\n",
      "16  0.7213185183452002\n",
      "17  0.7213185183452002\n",
      "18  0.7213185183452002\n",
      "19  0.5695004993981045\n",
      "20  0.5695004993981045\n"
     ]
    }
   ],
   "source": [
    "for i in range(1,20):\n",
    "    tree_0 = tree.DecisionTreeRegressor(min_samples_leaf=i+1).fit(X_train,Y_train)   \n",
    "    print(str(i+1)+\"  \"+str(tree_0.score(X_test,Y_test)))"
   ]
  },
  {
   "cell_type": "code",
   "execution_count": 57,
   "id": "8109c7f6-3010-4fda-bbd8-48bbd2d68a15",
   "metadata": {},
   "outputs": [
    {
     "data": {
      "text/plain": [
       "DecisionTreeRegressor(max_depth=7, min_samples_leaf=2, min_samples_split=5)"
      ]
     },
     "execution_count": 57,
     "metadata": {},
     "output_type": "execute_result"
    }
   ],
   "source": [
    "best_tree = tree.DecisionTreeRegressor(min_samples_leaf=2,min_samples_split=5,max_depth=7)\n",
    "best_tree.fit(X_train,Y_train)"
   ]
  },
  {
   "cell_type": "code",
   "execution_count": 59,
   "id": "d9db5761-586d-43f2-abaa-92bd63ddc5e8",
   "metadata": {},
   "outputs": [
    {
     "data": {
      "text/plain": [
       "0.8701307304048008"
      ]
     },
     "execution_count": 59,
     "metadata": {},
     "output_type": "execute_result"
    }
   ],
   "source": [
    "best_tree.score(X_test,Y_test)"
   ]
  }
 ],
 "metadata": {
  "kernelspec": {
   "display_name": "Python 3 (ipykernel)",
   "language": "python",
   "name": "python3"
  },
  "language_info": {
   "codemirror_mode": {
    "name": "ipython",
    "version": 3
   },
   "file_extension": ".py",
   "mimetype": "text/x-python",
   "name": "python",
   "nbconvert_exporter": "python",
   "pygments_lexer": "ipython3",
   "version": "3.9.7"
  }
 },
 "nbformat": 4,
 "nbformat_minor": 5
}
