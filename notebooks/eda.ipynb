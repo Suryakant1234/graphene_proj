{
 "cells": [
  {
   "cell_type": "markdown",
   "id": "749b35ca-71be-4cb5-9ad5-a1b33a07936d",
   "metadata": {},
   "source": [
    "# Exploratory Data Analysis"
   ]
  },
  {
   "cell_type": "markdown",
   "id": "aa03e2f4-9303-49e2-9cb2-d87329d4a4f6",
   "metadata": {},
   "source": [
    "Pandas module is imported to create dataframes from csv file and manipulate the created dataframes to carry out analytical tasks.\n",
    "Pyplot submodule of Matplotlib library is used here to create simple plots."
   ]
  },
  {
   "cell_type": "code",
   "execution_count": null,
   "id": "2f250832-fa16-4338-b81a-e3879fa73931",
   "metadata": {},
   "outputs": [],
   "source": [
    "!conda activate surya"
   ]
  },
  {
   "cell_type": "code",
   "execution_count": 1,
   "id": "542fe965-7a20-4d16-b75a-1e78904156eb",
   "metadata": {},
   "outputs": [],
   "source": [
    "import pandas as pd\n",
    "import matplotlib.pyplot as plt"
   ]
  },
  {
   "cell_type": "markdown",
   "id": "a806d0ff-2b32-4d16-a7f8-505f99891501",
   "metadata": {},
   "source": [
    "Here using _read_csv_ function of Pandas library, the dataset in csv format is converted to a pandas dataframe saved in variable `grd`."
   ]
  },
  {
   "cell_type": "code",
   "execution_count": 2,
   "id": "b5b40e70-d04f-42c2-941b-caea0fc8887c",
   "metadata": {},
   "outputs": [],
   "source": [
    "grd = pd.read_csv('../data/graphene_data_final.csv')"
   ]
  },
  {
   "cell_type": "markdown",
   "id": "447d30f2-5106-421b-958d-57661f50380a",
   "metadata": {},
   "source": [
    "A glimple of the imported dataset is shown below."
   ]
  },
  {
   "cell_type": "code",
   "execution_count": 3,
   "id": "973b6976-2ed0-4227-8de6-da1202babf4d",
   "metadata": {},
   "outputs": [
    {
     "data": {
      "text/html": [
       "<div>\n",
       "<style scoped>\n",
       "    .dataframe tbody tr th:only-of-type {\n",
       "        vertical-align: middle;\n",
       "    }\n",
       "\n",
       "    .dataframe tbody tr th {\n",
       "        vertical-align: top;\n",
       "    }\n",
       "\n",
       "    .dataframe thead th {\n",
       "        text-align: right;\n",
       "    }\n",
       "</style>\n",
       "<table border=\"1\" class=\"dataframe\">\n",
       "  <thead>\n",
       "    <tr style=\"text-align: right;\">\n",
       "      <th></th>\n",
       "      <th>Graphene_percentage</th>\n",
       "      <th>FEED</th>\n",
       "      <th>RPM</th>\n",
       "      <th>DOC</th>\n",
       "      <th>MRR_gm_per_sec</th>\n",
       "      <th>Ra</th>\n",
       "    </tr>\n",
       "  </thead>\n",
       "  <tbody>\n",
       "    <tr>\n",
       "      <th>0</th>\n",
       "      <td>0.00</td>\n",
       "      <td>100</td>\n",
       "      <td>1000</td>\n",
       "      <td>0.10</td>\n",
       "      <td>0.012697</td>\n",
       "      <td>0.418</td>\n",
       "    </tr>\n",
       "    <tr>\n",
       "      <th>1</th>\n",
       "      <td>0.00</td>\n",
       "      <td>100</td>\n",
       "      <td>1000</td>\n",
       "      <td>0.15</td>\n",
       "      <td>0.020327</td>\n",
       "      <td>0.959</td>\n",
       "    </tr>\n",
       "    <tr>\n",
       "      <th>2</th>\n",
       "      <td>0.00</td>\n",
       "      <td>100</td>\n",
       "      <td>1000</td>\n",
       "      <td>0.20</td>\n",
       "      <td>0.031002</td>\n",
       "      <td>0.331</td>\n",
       "    </tr>\n",
       "    <tr>\n",
       "      <th>3</th>\n",
       "      <td>0.00</td>\n",
       "      <td>100</td>\n",
       "      <td>2000</td>\n",
       "      <td>0.10</td>\n",
       "      <td>0.012720</td>\n",
       "      <td>0.378</td>\n",
       "    </tr>\n",
       "    <tr>\n",
       "      <th>4</th>\n",
       "      <td>0.00</td>\n",
       "      <td>100</td>\n",
       "      <td>2000</td>\n",
       "      <td>0.15</td>\n",
       "      <td>0.019914</td>\n",
       "      <td>0.441</td>\n",
       "    </tr>\n",
       "    <tr>\n",
       "      <th>...</th>\n",
       "      <td>...</td>\n",
       "      <td>...</td>\n",
       "      <td>...</td>\n",
       "      <td>...</td>\n",
       "      <td>...</td>\n",
       "      <td>...</td>\n",
       "    </tr>\n",
       "    <tr>\n",
       "      <th>130</th>\n",
       "      <td>0.03</td>\n",
       "      <td>200</td>\n",
       "      <td>2000</td>\n",
       "      <td>0.15</td>\n",
       "      <td>0.041111</td>\n",
       "      <td>0.708</td>\n",
       "    </tr>\n",
       "    <tr>\n",
       "      <th>131</th>\n",
       "      <td>0.03</td>\n",
       "      <td>200</td>\n",
       "      <td>2000</td>\n",
       "      <td>0.20</td>\n",
       "      <td>0.050602</td>\n",
       "      <td>0.586</td>\n",
       "    </tr>\n",
       "    <tr>\n",
       "      <th>132</th>\n",
       "      <td>0.03</td>\n",
       "      <td>200</td>\n",
       "      <td>3000</td>\n",
       "      <td>0.10</td>\n",
       "      <td>0.021910</td>\n",
       "      <td>0.906</td>\n",
       "    </tr>\n",
       "    <tr>\n",
       "      <th>133</th>\n",
       "      <td>0.03</td>\n",
       "      <td>200</td>\n",
       "      <td>3000</td>\n",
       "      <td>0.15</td>\n",
       "      <td>0.038930</td>\n",
       "      <td>0.927</td>\n",
       "    </tr>\n",
       "    <tr>\n",
       "      <th>134</th>\n",
       "      <td>0.03</td>\n",
       "      <td>200</td>\n",
       "      <td>3000</td>\n",
       "      <td>0.20</td>\n",
       "      <td>0.047250</td>\n",
       "      <td>1.284</td>\n",
       "    </tr>\n",
       "  </tbody>\n",
       "</table>\n",
       "<p>135 rows × 6 columns</p>\n",
       "</div>"
      ],
      "text/plain": [
       "     Graphene_percentage  FEED   RPM   DOC  MRR_gm_per_sec     Ra\n",
       "0                   0.00   100  1000  0.10        0.012697  0.418\n",
       "1                   0.00   100  1000  0.15        0.020327  0.959\n",
       "2                   0.00   100  1000  0.20        0.031002  0.331\n",
       "3                   0.00   100  2000  0.10        0.012720  0.378\n",
       "4                   0.00   100  2000  0.15        0.019914  0.441\n",
       "..                   ...   ...   ...   ...             ...    ...\n",
       "130                 0.03   200  2000  0.15        0.041111  0.708\n",
       "131                 0.03   200  2000  0.20        0.050602  0.586\n",
       "132                 0.03   200  3000  0.10        0.021910  0.906\n",
       "133                 0.03   200  3000  0.15        0.038930  0.927\n",
       "134                 0.03   200  3000  0.20        0.047250  1.284\n",
       "\n",
       "[135 rows x 6 columns]"
      ]
     },
     "execution_count": 3,
     "metadata": {},
     "output_type": "execute_result"
    }
   ],
   "source": [
    "grd"
   ]
  },
  {
   "cell_type": "markdown",
   "id": "ac2270c6-3b98-46f8-83a2-b7248098cb8d",
   "metadata": {},
   "source": [
    "The table below shows the variable names of the datset and their corresponding full/actual names.\n",
    "\n",
    "  Variable name in dataset   | Full name of the variable\n",
    "  ---------|----------------\n",
    "  Graphene_percentage | Percentage of Graphene     \n",
    "  FEED | Feed value of the machine\n",
    "  RPM | Rotations per Minute\n",
    "  DOC | Depth of Curve\n",
    "  MRR_gm_per_sec | Material Removal Rate(in gram/second)\n",
    "  Ra | Surface Roughness"
   ]
  },
  {
   "cell_type": "markdown",
   "id": "d249f7b4-9d67-47e4-a478-7cdf578c5545",
   "metadata": {},
   "source": [
    "Following cell shows the correlation coefficients among all the variables in the dataset."
   ]
  },
  {
   "cell_type": "code",
   "execution_count": 4,
   "id": "9a932743-8fe5-43a0-9a10-1ed9094f47c9",
   "metadata": {},
   "outputs": [
    {
     "data": {
      "text/html": [
       "<div>\n",
       "<style scoped>\n",
       "    .dataframe tbody tr th:only-of-type {\n",
       "        vertical-align: middle;\n",
       "    }\n",
       "\n",
       "    .dataframe tbody tr th {\n",
       "        vertical-align: top;\n",
       "    }\n",
       "\n",
       "    .dataframe thead th {\n",
       "        text-align: right;\n",
       "    }\n",
       "</style>\n",
       "<table border=\"1\" class=\"dataframe\">\n",
       "  <thead>\n",
       "    <tr style=\"text-align: right;\">\n",
       "      <th></th>\n",
       "      <th>Graphene_percentage</th>\n",
       "      <th>FEED</th>\n",
       "      <th>RPM</th>\n",
       "      <th>DOC</th>\n",
       "      <th>MRR_gm_per_sec</th>\n",
       "      <th>Ra</th>\n",
       "    </tr>\n",
       "  </thead>\n",
       "  <tbody>\n",
       "    <tr>\n",
       "      <th>Graphene_percentage</th>\n",
       "      <td>1.000000e+00</td>\n",
       "      <td>-7.818067e-16</td>\n",
       "      <td>-2.453900e-16</td>\n",
       "      <td>1.698659e-16</td>\n",
       "      <td>-0.040645</td>\n",
       "      <td>0.082983</td>\n",
       "    </tr>\n",
       "    <tr>\n",
       "      <th>FEED</th>\n",
       "      <td>-7.818067e-16</td>\n",
       "      <td>1.000000e+00</td>\n",
       "      <td>-4.203887e-17</td>\n",
       "      <td>-5.329071e-17</td>\n",
       "      <td>0.590197</td>\n",
       "      <td>0.191750</td>\n",
       "    </tr>\n",
       "    <tr>\n",
       "      <th>RPM</th>\n",
       "      <td>-2.453900e-16</td>\n",
       "      <td>-4.203887e-17</td>\n",
       "      <td>1.000000e+00</td>\n",
       "      <td>-2.052679e-17</td>\n",
       "      <td>0.022629</td>\n",
       "      <td>-0.305373</td>\n",
       "    </tr>\n",
       "    <tr>\n",
       "      <th>DOC</th>\n",
       "      <td>1.698659e-16</td>\n",
       "      <td>-5.329071e-17</td>\n",
       "      <td>-2.052679e-17</td>\n",
       "      <td>1.000000e+00</td>\n",
       "      <td>0.716658</td>\n",
       "      <td>-0.034006</td>\n",
       "    </tr>\n",
       "    <tr>\n",
       "      <th>MRR_gm_per_sec</th>\n",
       "      <td>-4.064458e-02</td>\n",
       "      <td>5.901971e-01</td>\n",
       "      <td>2.262917e-02</td>\n",
       "      <td>7.166582e-01</td>\n",
       "      <td>1.000000</td>\n",
       "      <td>0.124521</td>\n",
       "    </tr>\n",
       "    <tr>\n",
       "      <th>Ra</th>\n",
       "      <td>8.298294e-02</td>\n",
       "      <td>1.917504e-01</td>\n",
       "      <td>-3.053734e-01</td>\n",
       "      <td>-3.400605e-02</td>\n",
       "      <td>0.124521</td>\n",
       "      <td>1.000000</td>\n",
       "    </tr>\n",
       "  </tbody>\n",
       "</table>\n",
       "</div>"
      ],
      "text/plain": [
       "                     Graphene_percentage          FEED           RPM  \\\n",
       "Graphene_percentage         1.000000e+00 -7.818067e-16 -2.453900e-16   \n",
       "FEED                       -7.818067e-16  1.000000e+00 -4.203887e-17   \n",
       "RPM                        -2.453900e-16 -4.203887e-17  1.000000e+00   \n",
       "DOC                         1.698659e-16 -5.329071e-17 -2.052679e-17   \n",
       "MRR_gm_per_sec             -4.064458e-02  5.901971e-01  2.262917e-02   \n",
       "Ra                          8.298294e-02  1.917504e-01 -3.053734e-01   \n",
       "\n",
       "                              DOC  MRR_gm_per_sec        Ra  \n",
       "Graphene_percentage  1.698659e-16       -0.040645  0.082983  \n",
       "FEED                -5.329071e-17        0.590197  0.191750  \n",
       "RPM                 -2.052679e-17        0.022629 -0.305373  \n",
       "DOC                  1.000000e+00        0.716658 -0.034006  \n",
       "MRR_gm_per_sec       7.166582e-01        1.000000  0.124521  \n",
       "Ra                  -3.400605e-02        0.124521  1.000000  "
      ]
     },
     "execution_count": 4,
     "metadata": {},
     "output_type": "execute_result"
    }
   ],
   "source": [
    "grd.corr()"
   ]
  },
  {
   "cell_type": "markdown",
   "id": "1fbb70c3-4e2a-4098-b414-953722f6971c",
   "metadata": {},
   "source": [
    "The cell given below only shows the correlation coefficients which are larger than 0.1 and makes the rest of the coefficients 0.\n",
    "This table is shown to view only the statistically signifiacant correlations."
   ]
  },
  {
   "cell_type": "code",
   "execution_count": 5,
   "id": "aab1c2f3-1591-43bc-b628-a04047d4b8b4",
   "metadata": {},
   "outputs": [
    {
     "data": {
      "text/html": [
       "<div>\n",
       "<style scoped>\n",
       "    .dataframe tbody tr th:only-of-type {\n",
       "        vertical-align: middle;\n",
       "    }\n",
       "\n",
       "    .dataframe tbody tr th {\n",
       "        vertical-align: top;\n",
       "    }\n",
       "\n",
       "    .dataframe thead th {\n",
       "        text-align: right;\n",
       "    }\n",
       "</style>\n",
       "<table border=\"1\" class=\"dataframe\">\n",
       "  <thead>\n",
       "    <tr style=\"text-align: right;\">\n",
       "      <th></th>\n",
       "      <th>Graphene_percentage</th>\n",
       "      <th>FEED</th>\n",
       "      <th>RPM</th>\n",
       "      <th>DOC</th>\n",
       "      <th>MRR_gm_per_sec</th>\n",
       "      <th>Ra</th>\n",
       "    </tr>\n",
       "  </thead>\n",
       "  <tbody>\n",
       "    <tr>\n",
       "      <th>Graphene_percentage</th>\n",
       "      <td>1.0</td>\n",
       "      <td>-0.000000</td>\n",
       "      <td>-0.0</td>\n",
       "      <td>0.000000</td>\n",
       "      <td>-0.000000</td>\n",
       "      <td>0.000000</td>\n",
       "    </tr>\n",
       "    <tr>\n",
       "      <th>FEED</th>\n",
       "      <td>-0.0</td>\n",
       "      <td>1.000000</td>\n",
       "      <td>-0.0</td>\n",
       "      <td>-0.000000</td>\n",
       "      <td>0.590197</td>\n",
       "      <td>0.191750</td>\n",
       "    </tr>\n",
       "    <tr>\n",
       "      <th>RPM</th>\n",
       "      <td>-0.0</td>\n",
       "      <td>-0.000000</td>\n",
       "      <td>1.0</td>\n",
       "      <td>-0.000000</td>\n",
       "      <td>0.000000</td>\n",
       "      <td>-0.000000</td>\n",
       "    </tr>\n",
       "    <tr>\n",
       "      <th>DOC</th>\n",
       "      <td>0.0</td>\n",
       "      <td>-0.000000</td>\n",
       "      <td>-0.0</td>\n",
       "      <td>1.000000</td>\n",
       "      <td>0.716658</td>\n",
       "      <td>-0.000000</td>\n",
       "    </tr>\n",
       "    <tr>\n",
       "      <th>MRR_gm_per_sec</th>\n",
       "      <td>-0.0</td>\n",
       "      <td>0.590197</td>\n",
       "      <td>0.0</td>\n",
       "      <td>0.716658</td>\n",
       "      <td>1.000000</td>\n",
       "      <td>0.124521</td>\n",
       "    </tr>\n",
       "    <tr>\n",
       "      <th>Ra</th>\n",
       "      <td>0.0</td>\n",
       "      <td>0.191750</td>\n",
       "      <td>-0.0</td>\n",
       "      <td>-0.000000</td>\n",
       "      <td>0.124521</td>\n",
       "      <td>1.000000</td>\n",
       "    </tr>\n",
       "  </tbody>\n",
       "</table>\n",
       "</div>"
      ],
      "text/plain": [
       "                     Graphene_percentage      FEED  RPM       DOC  \\\n",
       "Graphene_percentage                  1.0 -0.000000 -0.0  0.000000   \n",
       "FEED                                -0.0  1.000000 -0.0 -0.000000   \n",
       "RPM                                 -0.0 -0.000000  1.0 -0.000000   \n",
       "DOC                                  0.0 -0.000000 -0.0  1.000000   \n",
       "MRR_gm_per_sec                      -0.0  0.590197  0.0  0.716658   \n",
       "Ra                                   0.0  0.191750 -0.0 -0.000000   \n",
       "\n",
       "                     MRR_gm_per_sec        Ra  \n",
       "Graphene_percentage       -0.000000  0.000000  \n",
       "FEED                       0.590197  0.191750  \n",
       "RPM                        0.000000 -0.000000  \n",
       "DOC                        0.716658 -0.000000  \n",
       "MRR_gm_per_sec             1.000000  0.124521  \n",
       "Ra                         0.124521  1.000000  "
      ]
     },
     "execution_count": 5,
     "metadata": {},
     "output_type": "execute_result"
    }
   ],
   "source": [
    "grd.corr()*(grd.corr()>=0.1).astype('float')"
   ]
  },
  {
   "cell_type": "markdown",
   "id": "b7f648e6-02af-48c2-8d75-b3c85aead606",
   "metadata": {},
   "source": [
    "It can be seen that `DOC` and `MRR_gm_per_sec` pair has the highest correlation followed by `FEED` and `MRR_gm_per_sec` pair and `FEED` and `Ra` pair."
   ]
  },
  {
   "cell_type": "markdown",
   "id": "254ceb23-ab83-44a4-8c62-aabee6992b9d",
   "metadata": {},
   "source": [
    "It also shows that **graphene percentage** has no linear relation with either **material removal rate**\n",
    "or **surface roughness**."
   ]
  },
  {
   "cell_type": "code",
   "execution_count": 6,
   "id": "c2d2d2f0-8166-4bf6-9099-ae50e1927fa9",
   "metadata": {},
   "outputs": [
    {
     "data": {
      "text/plain": [
       "Index(['Graphene_percentage', 'FEED', 'RPM', 'DOC'], dtype='object')"
      ]
     },
     "execution_count": 6,
     "metadata": {},
     "output_type": "execute_result"
    }
   ],
   "source": [
    "grd.columns[:4]"
   ]
  },
  {
   "cell_type": "markdown",
   "id": "dc2e97be-ccef-4ca2-8de8-ae831422a429",
   "metadata": {},
   "source": [
    "Using the above 4 variables **Material removal rate** and **Surface roughness** will be predicted by machine learning models in the next notebooks."
   ]
  },
  {
   "cell_type": "markdown",
   "id": "12f55704-ec87-4f3c-9ecf-5f7aa7311a60",
   "metadata": {},
   "source": [
    "Below the scatter plot between **Material removal rate** and first 4 variables are plotted."
   ]
  },
  {
   "cell_type": "code",
   "execution_count": 7,
   "id": "7935da82-7a61-4df8-8bdf-33325e049ebb",
   "metadata": {},
   "outputs": [
    {
     "data": {
      "image/png": "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\n",
      "text/plain": [
       "<Figure size 432x288 with 1 Axes>"
      ]
     },
     "metadata": {
      "needs_background": "light"
     },
     "output_type": "display_data"
    },
    {
     "data": {
      "image/png": "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\n",
      "text/plain": [
       "<Figure size 432x288 with 1 Axes>"
      ]
     },
     "metadata": {
      "needs_background": "light"
     },
     "output_type": "display_data"
    },
    {
     "data": {
      "image/png": "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\n",
      "text/plain": [
       "<Figure size 432x288 with 1 Axes>"
      ]
     },
     "metadata": {
      "needs_background": "light"
     },
     "output_type": "display_data"
    },
    {
     "data": {
      "image/png": "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\n",
      "text/plain": [
       "<Figure size 432x288 with 1 Axes>"
      ]
     },
     "metadata": {
      "needs_background": "light"
     },
     "output_type": "display_data"
    }
   ],
   "source": [
    "num_ = 1\n",
    "for i in grd.columns[:4]:\n",
    "    plt.figure(num = num_)\n",
    "    num_ += 1\n",
    "    plt.scatter(grd[i],grd['MRR_gm_per_sec'])\n",
    "    plt.ylabel(i)\n",
    "    plt.xlabel('MRR_gm_per_sec')\n",
    "    plt.title(i+' vs MRR_gm_per_sec')"
   ]
  },
  {
   "cell_type": "markdown",
   "id": "2cb615f9-c9c2-4dab-bc35-5ffcfe60ad60",
   "metadata": {},
   "source": [
    "It can be seen that **depth of curvature** and **FEED** have very significant positive relation with **MRR**.\n",
    "`RPM` and `graphene_percentage` don't seem to have any relation with the **Material removal rate**."
   ]
  },
  {
   "cell_type": "markdown",
   "id": "b05d819b-8f5c-46d3-89c5-94d1dbd4bae1",
   "metadata": {},
   "source": [
    "Below the scatter plot between **Surface roughness** and first 4 variables are plotted."
   ]
  },
  {
   "cell_type": "code",
   "execution_count": 8,
   "id": "1a615b80-d8cc-4b06-966f-5077824494ab",
   "metadata": {},
   "outputs": [
    {
     "data": {
      "image/png": "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\n",
      "text/plain": [
       "<Figure size 432x288 with 1 Axes>"
      ]
     },
     "metadata": {
      "needs_background": "light"
     },
     "output_type": "display_data"
    },
    {
     "data": {
      "image/png": "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\n",
      "text/plain": [
       "<Figure size 432x288 with 1 Axes>"
      ]
     },
     "metadata": {
      "needs_background": "light"
     },
     "output_type": "display_data"
    },
    {
     "data": {
      "image/png": "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\n",
      "text/plain": [
       "<Figure size 432x288 with 1 Axes>"
      ]
     },
     "metadata": {
      "needs_background": "light"
     },
     "output_type": "display_data"
    },
    {
     "data": {
      "image/png": "iVBORw0KGgoAAAANSUhEUgAAAYIAAAEWCAYAAABrDZDcAAAAOXRFWHRTb2Z0d2FyZQBNYXRwbG90bGliIHZlcnNpb24zLjUuMSwgaHR0cHM6Ly9tYXRwbG90bGliLm9yZy/YYfK9AAAACXBIWXMAAAsTAAALEwEAmpwYAAAccklEQVR4nO3df5RdZX3v8fcnkwHGigw/5rZkCAwqjVdAiIxBQC+IxSDVkCJe4VYFSs2tLcsfWCwoC5HaCzVeWy13SbPEKyi/vMCNUeHGtMRWlF8TAokQUoOiyZCWgZAAMkISvvePswcmJ+fM5Px4zpl99ue11lmc8+x9zv4+TOZ85/mxn0cRgZmZFde0dgdgZmbt5URgZlZwTgRmZgXnRGBmVnBOBGZmBedEYGZWcE4EZmYF50RgHUfSY5JGJT0rabOkn0r6M0nTys47VtId2XlbJH1P0hvLznmNpL+X9GtJz0l6NHu9X8L4vynpxex6myQtk/SGVNczcyKwTvXeiNgTOAi4Avgr4Oqxg5KOAX4IfBeYARwMPAj8RNJrs3N2A/4ZOBQ4GXgNcAzwFDAncfxfjIhXA/3A8PjYzZrNicA6WkRsiYglwAeAsyQdlh36InBtRHwlIp6NiE0RcTFwN3Bpds6HgQOBP4qIhyPipYh4IiL+OiJuK7+WpK9J+lJZ2XclnZ89/ytJw1kLZK2kd+5C/KPAd4Ajx33mH0paKekZSeslXVrt/Wa7wonACiEi7gU2AG+X9CrgWOD/VDj1O8BJ2fM/AP5fRDy3i5e5AfiAJAFI2ht4F3CjpFnAecBbspbKXOCxyT5Q0u8AZwLrxhX/hlKS6gX+EPiopPm7GKPZTpwIrEgeB/bJHtOAjRXO2QiM9f/vW+Wcan4MBPD27PXpwF0R8TiwHdgdeKOk7oh4LCIeneCz/lLSZuBZ4G3Ah8YORMSPImJ11kJZRSkBHV9DnGY7cCKwIukHNgFPAy8B+1c4Z3/gyez5U1XOqShKKzjeSOkveID/BlyXHVsHfIJSt9MTkm6UNGOCj/tSRPQCA8AoMGvsgKSjJS2XNCJpC/BnvJK8zGrmRGCFIOktlBLBnRHxG+Au4P0VTv2vlAaIAf4JmJt1z+yqG4DTJR0EHA3cMnYgIq6PiLdRGsAO4G8n+7CI+DXwceArknqy4uuBJcDMiNgLuApQDTGa7cCJwDpaNv3zPZT+Uv92RKzODl1IafD4Y5L2lLS3pC9QmhX0+eycbwHrgVskvUHSNEn7SvqMpFMqXS8iVlJqUXwdWBoRm7M4Zkk6UdLuwG8p/ZX/0q7UISKWUerWWpAV7QlsiojfSppDqeVhVjcnAutU35P0LKUv8s8CXwbOGTsYEXdSGrA9jdI4wK+A2cDbIuLn2TkvUBowfgRYBjwD3EupG+aeCa59ffa+68eV7U5pGuuTwL8D/wm4qIb6LAQ+nSWSPwcuy+p3CaUBbrO6yRvTmJkVm1sEZmYF50RgZlZwTgRmZgWXPBFI6spuh/9+hWO7S7pJ0jpJ90gaSB2PmZntaHoLrvFxYA2lBbvKnQs8HRGvl3QGpXnVH5jow/bbb78YGBhoepBmZp1sxYoVT0ZEX6VjSROBpAMorYXyN8D5FU45lVcW+LoZuFKSYoKpTAMDAwwNDTU7VDOzjibpV9WOpe4a+nvg01S/caaf0jxvImIbsIXS+i47kLRA0pCkoZGRkUShmpkVU7JEkN3N+URErGj0syJiUUQMRsRgX1/Flo2ZmdUpZYvgOGCepMco3d5/oqRvl50zDMwEkDQd2IvSQl9mZtYiyRJBRFwUEQdExABwBnBHRHyw7LQlwFnZ89Ozc3yrs5lZC7Vi1tAOJF0GDGW7Rl0NfEvSOkrLA5/R6njMzIquJYkgIn4E/Ch7fsm48t9SeSlgMzPLLF45zMKla3l88ygzenu4YO4s5s/ub9rnt7xFYGZmu27xymEuunU1o1u3AzC8eZSLbi2tpt6sZOAlJszMprCFS9e+nATGjG7dzsKla5t2DScCM7Mp7PHNozWV18OJwMxsCpvR21NTeT2cCMzMprAL5s6ip7trh7Ke7i4umDuradfwYLGZ2RQ2NiDsWUNmZgU2f3Z/U7/4y7lryMys4JwIzMwKzonAzKzgnAjMzArOicDMrOCcCMzMCs6JwMys4JwIzMwKzonAzKzgnAjMzArOicDMrOCcCMzMCi5ZIpC0h6R7JT0o6SFJn69wztmSRiQ9kD3+NFU8ZmZWWcrVR18AToyI5yR1A3dKuj0i7i4776aIOC9hHGZmNoFkiSAiAngue9mdPSLV9czMrD5JxwgkdUl6AHgCWBYR91Q47X2SVkm6WdLMKp+zQNKQpKGRkZGUIZuZFU7SRBAR2yPiSOAAYI6kw8pO+R4wEBFvApYB11T5nEURMRgRg319fSlDNjMrnJbMGoqIzcBy4OSy8qci4oXs5deBo1oRj5mZvSLlrKE+Sb3Z8x7gJOCRsnP2H/dyHrAmVTxmZlZZyllD+wPXSOqilHC+ExHfl3QZMBQRS4CPSZoHbAM2AWcnjMfMzCpQaXJPfgwODsbQ0FC7wzAzyxVJKyJisNIx31lsZlZwTgRmZgXnRGBmVnBOBGZmBedEYGZWcCmnj5oVxuKVwyxcupbHN48yo7eHC+bOYv7s/naHZbZLnAjMGrR45TAX3bqa0a3bARjePMpFt64GcDKwXHDXkFmDFi5d+3ISGDO6dTsLl65tU0RmtXEiMGvQ45tHayo3m2qcCMwaNKO3p6Zys6nGicCsQRfMnUVPd9cOZT3dXVwwd1abIjKrjQeLzRo0NiDsWUOWV04EZk0wf3a/v/gtt9w1ZGZWcE4EZmYF50RgZlZwTgRmZgXnRGBmVnApN6/fQ9K9kh6U9JCkz1c4Z3dJN0laJ+keSQOp4jEzs8pStgheAE6MiCOAI4GTJb217Jxzgacj4vXA3wF/mzAeMzOrIFkiiJLnspfd2SPKTjsVuCZ7fjPwTklKFZOZme0s6RiBpC5JDwBPAMsi4p6yU/qB9QARsQ3YAuybMiYzM9tR0kQQEdsj4kjgAGCOpMPq+RxJCyQNSRoaGRlpaoxmZkXXkiUmImKzpOXAycDPxh0aBmYCGyRNB/YCnqrw/kXAIoDBwcHy7iUzs46Wege8lLOG+iT1Zs97gJOAR8pOWwKclT0/HbgjIvxFb2aWGdsBb3jzKMErO+AtXjnctGuk7BraH1guaRVwH6Uxgu9LukzSvOycq4F9Ja0DzgcuTBiPmVnutGIHvGRdQxGxCphdofyScc9/C7w/VQxmZnnXih3wfGexmdkU1ood8JwIzMymsFbsgFeIjWlSj7ibmaXSih3wOj4RjI24jw22jI24A04GZpYLqXfA6/iuoVaMuJuZ5VnHtwhaMeJuZpZSbm8omypaMeJuZpZK3m8omxJaMeJuZpZKrm8omypaMeJuZpZKK7q3Oz4RQPoRdzOzVGb09jBc4UvfN5SZmRWEbygzMys431BmZmbJu7edCMzMprjU9xEUIhF4rSEzy6tWLJPT8YPFrbgZw8wslVbcR9DxicBrDZlZnnljmibwWkNmlmfemKYJvNaQmeVZK+4jSJYIJM2UtFzSw5IekvTxCuecIGmLpAeyxyWVPqsRXmvIzPJs/ux+Lj/tcPp7exDQ39vD5acdnptZQ9uAT0XE/ZL2BFZIWhYRD5ed9+OIeE+qILzWkJnlXW7vI4iIjcDG7PmzktYA/UB5IkjOaw2ZmVXXkjECSQPAbOCeCoePkfSgpNslHVrl/QskDUkaGhkZSRmqmVnhJE8Ekl4N3AJ8IiKeKTt8P3BQRBwB/AOwuNJnRMSiiBiMiMG+vr6k8ZqZFU3SRCCpm1ISuC4ibi0/HhHPRMRz2fPbgG5J+6WMyczMdpRy1pCAq4E1EfHlKuf8XnYekuZk8TyVKiYzM9tZyllDxwEfAlZLeiAr+wxwIEBEXAWcDnxU0jZgFDgjIiJhTGZmViblrKE7AU1yzpXAlaliMDOzyXX8ncVmZjYxJwIzs4JzIjAzKzgnAjOzgivEDmVmqXkXPMszJwKzBrViK0GzlNw1ZNYg74JneedEYNYg74JneVeIriH331pKM3p7GK7wpe9d8CwvOr5FMNZ/O7x5lOCV/tvFK4fbHZp1CO+CZ3k3YSKQdL6kcyuUnyvpE8miaiL331pqrdhK0CylyVoEfwxcW6H8W8CfND+c5nP/rZnZxCZLBNMjYmt5YUS8yCQLyk0V1fpp3X9rzeLuR8u7yRLBNEm/W15YqWyqcv+tpebuR0tt8cphjrviDg6+8Accd8UdTf8jY7JEsBD4gaTjJe2ZPU4Avg98qamRJOL+W0vN3Y+WUitanBNOH42IayWNAJcBh2XFPwMuiYjbmxZFYvNn9/uL35Lx9FFLaaIWZ7O+1yadPhoRt0fE8RGxb/Y4Pk9JwCw1dz9aSq1ocU6aCCS9W9K/SHoye/yLpFOaFoFZzrn70VJqxYSXCbuGJH0E+O/Ap4GhrHgQuELSARGxqGmRmOWYux8tlQvmztphUUNofotzshbBJ4F3RcQdEfFM9rgDeHd2rCpJMyUtl/SwpIckfbzCOZL0VUnrJK2S9Ob6q2Jm1nla0eKcbK0hRcSm8sKIeEqa9DaCbcCnIuJ+SXsCKyQti4iHx53zbuCQ7HE08LXsv2a54vWsLKXULc7JWgTPSDqivDAre3aiN0bExoi4P3v+LLAGKK/JqcC1UXI30Ctp/12O3mwK8A1llneTtQg+BSyR9L+BFVnZIHAW8MFdvYikAWA2cE/ZoX5g/bjXG7KyjWXvXwAsADjwwAN39bJmLdGK6X1mKU3YIoiIOyl11UwDzs4e04C3ZscmJenVwC3AJyLimXqCjIhFETEYEYN9fX31fIRZMr6hzPJu0v0IIuLfgUsk9WWvR3b1wyV1U0oC10XErRVOGQZmjnt9QFZmlhu+oczybrJlqCXp0uzu4rXAWkkjki6Z7INVGk2+GlgTEV+uctoS4MPZdd4KbImIjVXONZuSfEOZ5d1kLYJPAscBcyLilwCSXgt8TdInI+LvJnjvccCHgNWSHsjKPgMcCBARVwG3AacA64DngXPqrIdZ24yNA3jWkOWVIqL6QWklcFJEPFlW3gf8MCJmJ45vJ4ODgzE0NDT5ieN4ap+ZFZ2kFRExWOnYZC2C7vIkAKVxgqz/f8obm9o3NqtjbGof4GRgZsbk9xG8WOexKcNrxZuZTWyyFsERkipN+RSwR4J4mq7SbI6Jys3Mimay/Qi6JjqeB10S2yuMg3RNvkSGmVkhTLoMdd5VSgITlZuZFc2kN5Tl3d6v6ubp57dWLDdrFs9Mszzr+ERQ7Q9/NwisWTwzzfKu47uGtozu3BqYqNysVp6ZZnnX8YmgFdu8WbF50TnLu45PBO94Q+XVSquVm9XKf2xY3nV8Ilj+SOXFUquVm9XKi85Z3nX8YLGb7ZaaF52zvOv4ROC14q0VUu8pa5ZSx3cNudluZjaxjm8RuNluZjaxjk8E4Ga7mdlEOr5ryMzMJuZEYGZWcE4EZmYFl2yMQNI3gPcAT0TEYRWOnwB8F/hlVnRrRFyWKh6zlC5evJob7lnP9gi6JM48eiZfmH94u8My2yUpB4u/CVwJXDvBOT+OiPckjMEsuYsXr+bbd//65dfbI15+7WRgeZCsaygi/hXYlOrza7F45TDHXXEHB1/4A4674g4Wrxxud0jWQW64Z31N5WZTTbvHCI6R9KCk2yUdWu0kSQskDUkaGhmpbY2gsbXihzePEryyVryTgTWLd8GzvGtnIrgfOCgijgD+AVhc7cSIWBQRgxEx2NdX26qhXiveUqu2/7X3xba8aFsiiIhnIuK57PltQLek/Zp9HS86Z6mdefTMmsrNppq23Vks6feA/4iIkDSHUlJ6qtnX2aunm80VdiPbq8d7FltzjA0Ie9aQpZJ6T+yU00dvAE4A9pO0Afgc0A0QEVcBpwMflbQNGAXOiGh+p2q11rlb7dZMX5h/uL/4LYlW7ImdLBFExJmTHL+S0vTSpJ5+vvLexNXKzcymkonGOZuVCNo9ayg5D+SZWZ61Ypyz4xOBp/aZWZ61Yk/sjk8E/VX+Z1UrNzObSlqxuVbHJwLvUGZmeTZ/dj/vO6r/5e7sLon3HdXcPVY6PhHMn93P5acdTn9vD6LUErj8tMO9UY2Z5cLilcPcsmL45e7s7RHcsmK4qasjeIcysyZIPc/biqsVs4YKkQjMUmrFPG8rruEqs4Oqldej47uGzFLzelaWd04EZg3yelaWd04EZg3qfVXldauqlZtNNU4EZg2qdm+i71m0vCjEYLFndFhKWyqsbjtRuVkt+nt7Kg4MN/Om2I5vEXiHMkutFUsAWHH5zuIm8IwOS813r1tKrbgptuO7hjyjw1Ib+4V096Olkvqm2I5PBDOq9K+52W7N5LvXLc86PhEM7Fs5EQzs60RgZvmQ260qp4qf/mJTTeVm9fDMNEulFUuYJBsslvQNSU9I+lmV45L0VUnrJK2S9OYUcXiOt6XmmWmWUismvKScNfRN4OQJjr8bOCR7LAC+ljAWs2Q8M81SyvVWlRHxr8BE/S+nAtdGyd1Ar6T9U8VjlkorVoe04ur0rSr7gfXjXm/IysxyZZpqKzerhW8oy0haIGlI0tDIyEi7wzHbwUtVxpuqlZvVotO3qhwGZo57fUBWtpOIWBQRgxEx2NfX15LgzMymgsUrh7np3vU7bFV5073rmzoZoZ2JYAnw4Wz20FuBLRGxsdkXqdY6d6vdzPLg0iUPsbWsebn1peDSJQ817RrJ7iOQdANwArCfpA3A54BugIi4CrgNOAVYBzwPnJMijmNftw8/eXTnMetjX7dPisuZmTXV5iqr2FYrr0eyRBARZ05yPIC/SHX9MQ9vfLamcjOzosnFYHEjnn6+ctasVm5mNpXsXWWnu2rl9ej4RGBmlmefe++hdHftOKrZ3SU+995Dm3aNjk8EvT1V9pOtUm5Wq57uyr9G1crNajF/dj9zBvbeoWzOwN4dM320JS6ddyjdZXf2dE8Tl85rXja1Ytuj7GafycrNanHx4tU7TXj5yaObuHjx6qZdo+MTwfzZ/cw5uCybHtzcbGrF5nEoS+mGe9bXVF6Pjk8ErcimZmapbK+yVHK18np0fCJoRTY1M8uzjk8ErcimZmZ51vGJwEtMmJlNrOMTQbW/+90eMDMr6fhEYGZmE3MiMDMrOCcCM7OCcyIwMys4JwKzBo1tIbir5WZTjROBWYN8r4rlnROBWYN266r8l3+1crOpxonArEEvbq/8l3+1crOppuMTQX9vT03lZmZFkzQRSDpZ0lpJ6yRdWOH42ZJGJD2QPf602TFcMHdWxd19Lpg7q9mXMjNrumr7GzVz36Nkm9dL6gL+F3ASsAG4T9KSiHi47NSbIuK8VHEAO68n4Ra7NVH3NNj6UuVys0ZV+rc1UXk9Uv5TnQOsi4hfRMSLwI3AqQmvV9HCpWvZ+tKO3/xbXwoWLl3b6lCsQ7XiF9UspZSJoB8Yv+j/hqys3PskrZJ0s6SZlT5I0gJJQ5KGRkZGagpiePNoTeVmtfJ9BJZ37W68fg8YiIg3AcuAayqdFBGLImIwIgb7+vpqusC0Kr+L1crNauX7CCyl39mt8t7X1crrkTIRDAPj/8I/ICt7WUQ8FREvZC+/DhzV7CBeqvK7WK3czGwq2bq9ch9jtfJ6pEwE9wGHSDpY0m7AGcCS8SdI2n/cy3nAmoTxmJnlTivuU0k2aygitkk6D1gKdAHfiIiHJF0GDEXEEuBjkuYB24BNwNmp4jEzs8qSJQKAiLgNuK2s7JJxzy8CLkoZg5mZTazdg8VmZtZmTgRmZgXnRGBmVnBOBGYN8sKGlndOBGYNescbKt/kWK3cbKrp+ETQ29NdU7lZrZY/UnnZk2rlZlNNxyeCS+cdSnfZehLd08Sl8w5tU0TWaR6vsm5VtXKzWhz3un1qKq9HxyeC+bP7Wfj+I+jv7UGU+m0Xvv8I5s+utP6dWe1mVBkLqFZuVovrPnLMTl/6x71uH677yDFNu4YiZwtjDQ4OxtDQULvDMHvZ4pXDXHTraka3bn+5rKe7i8tPO9x/cNiUIWlFRAxWOpb0zmKzIhj7sl+4dC2Pbx5lRm8PF8yd5SRgueFEYNYE82f3+4vfcqvjxwjMzGxiTgRmZgXnRGBmVnBOBGZmBedEYGZWcLm7j0DSCPCrOt++H/BkE8PJA9e5GFznYmikzgdFRMUFsHKXCBohaajaDRWdynUuBte5GFLV2V1DZmYF50RgZlZwRUsEi9odQBu4zsXgOhdDkjoXaozAzMx2VrQWgZmZlXEiMDMruI5JBJJOlrRW0jpJF1Y4/l8k3S9pm6TTy46dJenn2eOs1kXdmHrrLOlISXdJekjSKkkfaG3k9Wvk55wdf42kDZKubE3EjWvw3/aBkn4oaY2khyUNtCzwOjVY3y9m/67XSPqqJJW/fyrahTqfn/38Vkn6Z0kHjTvW+PdXROT+AXQBjwKvBXYDHgTeWHbOAPAm4Frg9HHl+wC/yP67d/Z873bXKXGdfx84JHs+A9gI9La7TinrPO74V4DrgSvbXZ9W1Bn4EXBS9vzVwKvaXadU9QWOBX6SfUYXcBdwQrvr1KQ6v2PsZwd8FLgpe96U769OaRHMAdZFxC8i4kXgRuDU8SdExGMRsQp4qey9c4FlEbEpIp4GlgEntyLoBtVd54j4t4j4efb8ceAJoOIdh1NMIz9nJB0F/C7ww1YE2yR111nSG4HpEbEsO++5iHi+RXHXq5GfcQB7UPoy3R3oBv4jfcgN25U6Lx/3s7sbOCB73pTvr05JBP3A+nGvN2Rlqd/bTk2JW9IcSr84jzYprpTqrrOkacD/BP4yQVwpNfJz/n1gs6RbJa2UtFBSV9MjbK666xsRdwHLKbVwNwJLI2JN0yNsvlrrfC5we53vrahTEoHVQdL+wLeAcyJip7+gO8yfA7dFxIZ2B9JC04G3U0p+b6HU9XB2OwNKSdLrgf9M6a/lfuBESW9vb1TNJemDwCCwsJmf2ymJYBiYOe71AVlZ6ve2U0NxS3oN8APgsxFxd5NjS6WROh8DnCfpMeBLwIclXdHc8JJopM4bgAeyLodtwGLgzc0Nr+kaqe8fAXdnXWDPUfqr+Zgmx5fCLtVZ0h8AnwXmRcQLtbx3Mp2SCO4DDpF0sKTdgDOAJbv43qXAuyTtLWlv4F1Z2VRXd52z8/8vcG1E3Jwwxmaru84R8ccRcWBEDFD6C/naiNhpdsYU1Mi/7fuAXklj4z8nAg8niLGZGqnvr4HjJU2X1A0cD+Sha2jSOkuaDfwjpSTwxLhDzfn+aveIeRNH3k8B/o1SX/dns7LLsv9xUGoabwB+AzwFPDTuvX8CrMse57S7LqnrDHwQ2Ao8MO5xZLvrk/rnPO4zziYns4YarTNwErAKWA18E9it3fVJVV9Ks2/+kdKX/8PAl9tdlybW+Z8oDXyP/b4uGffehr+/vMSEmVnBdUrXkJmZ1cmJwMys4JwIzMwKzonAzKzgnAjMzApuersDMMsjSdspTcmcDvwS+FBEbG5rUGZ1covArD6jEXFkRBwGbAL+ot0BmdXLicCscXeRLfQlaU6218NKST+VNKvNsZlNyonArAHZap7v5JUlAR4B3h4Rs4FLgP/RrtjMdpXHCMzq0yPpAUotgTWU1oEH2Au4RtIhlNbH725PeGa7zi0Cs/qMRsSRwEGAeGWM4K+B5dnYwXspbZRiNqU5EZg1IEq7Rn0M+JSk6ZRaBGPLAJ/drrjMauFEYNagiFhJaYXPM4EvApdLWom7Xi0nvPqomVnBuUVgZlZwTgRmZgXnRGBmVnBOBGZmBedEYGZWcE4EZmYF50RgZlZw/x8yaLz1jsM/+AAAAABJRU5ErkJggg==\n",
      "text/plain": [
       "<Figure size 432x288 with 1 Axes>"
      ]
     },
     "metadata": {
      "needs_background": "light"
     },
     "output_type": "display_data"
    }
   ],
   "source": [
    "num_ = 1\n",
    "for i in grd.columns[:4]:\n",
    "    plt.figure(num = num_)\n",
    "    num_ += 1\n",
    "    plt.scatter(grd[i],grd['Ra'])\n",
    "    plt.ylabel(i)\n",
    "    plt.xlabel('Ra')\n",
    "    plt.title(i+' vs Ra')"
   ]
  },
  {
   "cell_type": "markdown",
   "id": "22fa6681-731e-45ee-92cc-75e12900e2dc",
   "metadata": {},
   "source": [
    "It is visible that `RPM` and `Ra` have somewhat negative relation. `Graphene_percentage` and `DOC` don't seem to have any clear relation with **surface roughness**. `FEED` can be seen being strongly related to **surface roughness**."
   ]
  }
 ],
 "metadata": {
  "kernelspec": {
   "display_name": "Python 3 (ipykernel)",
   "language": "python",
   "name": "python3"
  },
  "language_info": {
   "codemirror_mode": {
    "name": "ipython",
    "version": 3
   },
   "file_extension": ".py",
   "mimetype": "text/x-python",
   "name": "python",
   "nbconvert_exporter": "python",
   "pygments_lexer": "ipython3",
<<<<<<< HEAD
   "version": "3.9.6"
=======
   "version": "3.9.12"
>>>>>>> 1f4f30b9dee700857b8c45acf464565538f6699e
  }
 },
 "nbformat": 4,
 "nbformat_minor": 5
}
