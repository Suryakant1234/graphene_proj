{
 "cells": [
  {
   "cell_type": "markdown",
   "id": "d4f59405-280e-4116-9441-0eb214b88912",
   "metadata": {
    "id": "d4f59405-280e-4116-9441-0eb214b88912"
   },
   "source": [
    "Let's import neccessary libraries first."
   ]
  },
  {
   "cell_type": "code",
   "execution_count": 1,
   "id": "f63c28cc-bb54-45e2-a611-15d1f6d0a6cd",
   "metadata": {
    "id": "f63c28cc-bb54-45e2-a611-15d1f6d0a6cd"
   },
   "outputs": [],
   "source": [
    "from sklearn.neural_network import MLPRegressor\n",
    "import matplotlib.pyplot as plt\n",
    "import numpy as np\n",
    "import pandas as pd\n",
    "from sklearn.model_selection import train_test_split"
   ]
  },
  {
   "cell_type": "markdown",
   "id": "5f5d71f1-2da2-423d-92af-115b23e95526",
   "metadata": {
    "id": "5f5d71f1-2da2-423d-92af-115b23e95526"
   },
   "source": [
    "Now we will read the dataset and first split it into feature/input dataframe(X) and label/output Series(Y)."
   ]
  },
  {
   "cell_type": "code",
   "execution_count": 2,
   "id": "1544569b-365b-4951-a138-1d3f909fe4e4",
   "metadata": {
    "id": "1544569b-365b-4951-a138-1d3f909fe4e4",
    "tags": []
   },
   "outputs": [],
   "source": [
    "grd = pd.read_csv(\"../data/graphene_data_final.csv\")\n",
    "grd = (grd-grd.min())/(grd.max()-grd.min())\n",
    "X = grd[['Graphene_percentage', 'FEED', 'RPM', 'DOC']] \n",
    "Y = grd['MRR_gm_per_sec']\n",
    "Y2 = grd['Ra']"
   ]
  },
  {
   "cell_type": "markdown",
   "id": "2e3fec2b-3c9d-473d-8a3d-4af02d5d9162",
   "metadata": {
    "id": "2e3fec2b-3c9d-473d-8a3d-4af02d5d9162"
   },
   "source": [
    "Here we will split X and Y into their corresponding training and testing datasets.   "
   ]
  },
  {
   "cell_type": "code",
   "execution_count": 3,
   "id": "b8e8de52-0a58-405f-bfc3-ad5f8724443b",
   "metadata": {
    "id": "b8e8de52-0a58-405f-bfc3-ad5f8724443b"
   },
   "outputs": [],
   "source": [
    "X_train, X_test, Y_train, Y_test = train_test_split(X, Y, test_size = 0.2, random_state=1)\n",
    "X_train2, X_test2, Y2_train, Y2_test = train_test_split(X, Y2, test_size=0.2, random_state=33)"
   ]
  },
  {
   "cell_type": "markdown",
   "id": "32fb496a-9e73-42f9-a9e7-1ab5073915c7",
   "metadata": {
    "id": "32fb496a-9e73-42f9-a9e7-1ab5073915c7"
   },
   "source": [
    "Let's build the model. We are creating a normal sequential neural network model.\n"
   ]
  },
  {
   "cell_type": "code",
   "execution_count": 4,
   "id": "c6bb9206-c05c-4aad-937f-09531f5cdf2c",
   "metadata": {},
   "outputs": [],
   "source": [
    "regr_MRR = MLPRegressor(hidden_layer_sizes=(9,15),activation='relu',\n",
    "                        alpha=0.02,solver='lbfgs',\n",
    "                        learning_rate='constant',\n",
    "                        max_iter=400)"
   ]
  },
  {
   "cell_type": "code",
   "execution_count": 5,
   "id": "cd796090-9f95-4eb1-95b6-e41102abc028",
   "metadata": {},
   "outputs": [
    {
     "data": {
      "text/plain": [
       "0.8261890687864807"
      ]
     },
     "execution_count": 5,
     "metadata": {},
     "output_type": "execute_result"
    }
   ],
   "source": [
    "regr_MRR.fit(X_train,Y_train)\n",
    "regr_MRR.score(X_test,Y_test)"
   ]
  },
  {
   "cell_type": "code",
   "execution_count": 6,
   "id": "63683971-c9b5-4ba8-83ac-e8f8c498c238",
   "metadata": {},
   "outputs": [],
   "source": [
    "regr_RA = MLPRegressor(hidden_layer_sizes=(9,9),activation='relu',\n",
    "                        alpha=0.0002,solver='lbfgs',max_iter=1000)"
   ]
  },
  {
   "cell_type": "code",
   "execution_count": 7,
   "id": "1dac8b82-cbff-4ab4-a119-305ffa0d31a5",
   "metadata": {},
   "outputs": [
    {
     "data": {
      "text/plain": [
       "-0.2221296525651495"
      ]
     },
     "execution_count": 7,
     "metadata": {},
     "output_type": "execute_result"
    }
   ],
   "source": [
    "regr_RA.fit(X_train2,Y2_train)\n",
    "regr_RA.score(X_test2,Y2_test)"
   ]
  },
  {
   "cell_type": "code",
   "execution_count": 8,
   "id": "EtoYes8hMFfe",
   "metadata": {
    "colab": {
     "base_uri": "https://localhost:8080/"
    },
    "id": "EtoYes8hMFfe",
    "outputId": "07d82742-63a8-4bbe-a1c4-469ff94fcb32"
   },
   "outputs": [],
   "source": [
    "import pickle\n",
    "with open('../trained_models/ANN_MRR_sklearn.pkl','wb') as f:\n",
    "    pickle.dump(regr_MRR,f)\n",
    "with open('../trained_models/ANN_RA_sklearn.pkl','wb') as f:\n",
    "    pickle.dump(regr_RA,f)"
   ]
  }
 ],
 "metadata": {
  "colab": {
   "name": "artificial_neuralnet.ipynb",
   "provenance": []
  },
  "kernelspec": {
   "display_name": "Python 3 (ipykernel)",
   "language": "python",
   "name": "python3"
  },
  "language_info": {
   "codemirror_mode": {
    "name": "ipython",
    "version": 3
   },
   "file_extension": ".py",
   "mimetype": "text/x-python",
   "name": "python",
   "nbconvert_exporter": "python",
   "pygments_lexer": "ipython3",
   "version": "3.9.12"
  }
 },
 "nbformat": 4,
 "nbformat_minor": 5
}
