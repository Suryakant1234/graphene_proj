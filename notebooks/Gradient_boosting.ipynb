{
 "cells": [
  {
   "cell_type": "code",
   "execution_count": 1,
   "metadata": {
    "id": "o3ZbfggFjyDo"
   },
   "outputs": [],
   "source": [
    "from sklearn.ensemble import GradientBoostingRegressor\n",
    "import numpy as np # linear algebra\n",
    "import pandas as pd # data processing, CSV file I/O (e.g. pd.read_csv)\n",
    "import matplotlib.pyplot as plt\n",
    "from sklearn.model_selection import train_test_split\n",
    "from sklearn.model_selection import cross_validate"
   ]
  },
  {
   "cell_type": "code",
   "execution_count": 2,
   "metadata": {
    "id": "-HnICtM5j4k6"
   },
   "outputs": [],
   "source": [
    "grd = pd.read_csv(\"../data/graphene_data_final.csv\")"
   ]
  },
  {
   "cell_type": "code",
   "execution_count": 3,
   "metadata": {
    "id": "aO7WjvEekACc"
   },
   "outputs": [],
   "source": [
    "X, Y = grd[['Graphene_percentage', 'FEED', 'RPM', 'DOC']], grd['MRR_gm_per_sec']\n",
    "X2 = grd[['FEED','DOC']]\n",
    "Y2 = grd['Ra']"
   ]
  },
  {
   "cell_type": "code",
   "execution_count": 4,
   "metadata": {
    "id": "OTE0KtcakC6a"
   },
   "outputs": [],
   "source": [
    "X_train, X_test, Y_train, Y_test = train_test_split(X, Y, test_size=0.3, random_state=42)\n",
    "X_train, X_test, Y2_train, Y2_test = train_test_split(X, Y2, test_size=0.3, random_state=16)\n",
    "X_train2, X_test2, Y_train3, Y_test3 = train_test_split(X2, Y, test_size=0.3, random_state=33)"
   ]
  },
  {
   "cell_type": "code",
   "execution_count": 5,
   "metadata": {
    "id": "XTv5P9ZtkK9M"
   },
   "outputs": [],
   "source": [
    "gbr = GradientBoostingRegressor(random_state=0)"
   ]
  },
  {
   "cell_type": "code",
   "execution_count": 6,
   "metadata": {
    "colab": {
     "base_uri": "https://localhost:8080/"
    },
    "id": "Db_4DfZSkQok",
    "outputId": "16254b52-5ca3-478e-e359-ba13d9887053"
   },
   "outputs": [
    {
     "data": {
      "text/plain": [
       "GradientBoostingRegressor(random_state=0)"
      ]
     },
     "execution_count": 6,
     "metadata": {},
     "output_type": "execute_result"
    }
   ],
   "source": [
    "gbr.fit(X_train, Y_train)"
   ]
  },
  {
   "cell_type": "code",
   "execution_count": 7,
   "metadata": {
    "id": "syrpHjEhkuNe"
   },
   "outputs": [],
   "source": [
    "param_grid = { \n",
    "    'n_estimators': [30,40,50,70,100,150,200],\n",
    "    'max_features': ['auto', 'sqrt', 'log2'],\n",
    "    'max_depth' : [1,2,3,4,5,6,7,8,9],\n",
    "}"
   ]
  },
  {
   "cell_type": "code",
   "execution_count": 8,
   "metadata": {
    "colab": {
     "base_uri": "https://localhost:8080/"
    },
    "id": "gUQZo11PkaMs",
    "outputId": "3be1ec10-7481-4c57-93c8-75f61a193975"
   },
   "outputs": [
    {
     "data": {
      "text/plain": [
       "-0.07806524884006816"
      ]
     },
     "execution_count": 8,
     "metadata": {},
     "output_type": "execute_result"
    }
   ],
   "source": [
    "gbr.score(X_test,Y_test)"
   ]
  },
  {
   "cell_type": "code",
   "execution_count": 9,
   "metadata": {
    "colab": {
     "base_uri": "https://localhost:8080/"
    },
    "id": "ACL3X2B8kiH2",
    "outputId": "9e813752-2013-4b97-be6a-5ff30e029c3a"
   },
   "outputs": [
    {
     "data": {
      "text/plain": [
       "0.665823006958479"
      ]
     },
     "execution_count": 9,
     "metadata": {},
     "output_type": "execute_result"
    }
   ],
   "source": [
    "gbr.score(X_train, Y_train)"
   ]
  },
  {
   "cell_type": "code",
   "execution_count": 10,
   "metadata": {
    "id": "X9cHUkhslGlv"
   },
   "outputs": [],
   "source": [
    "gbr2 = GradientBoostingRegressor(random_state=0)"
   ]
  },
  {
   "cell_type": "code",
   "execution_count": 11,
   "metadata": {
    "colab": {
     "base_uri": "https://localhost:8080/"
    },
    "id": "FaHI68XOk_Hx",
    "outputId": "de88b71c-91bb-4928-d2dc-51355e3ead6d"
   },
   "outputs": [
    {
     "data": {
      "text/plain": [
       "array([0.86241655, 0.78841607, 0.89166897, 0.8898712 ])"
      ]
     },
     "execution_count": 11,
     "metadata": {},
     "output_type": "execute_result"
    }
   ],
   "source": [
    "cross_validate(gbr2, X, Y, cv=4)['test_score']"
   ]
  },
  {
   "cell_type": "code",
   "execution_count": 12,
   "metadata": {
    "colab": {
     "base_uri": "https://localhost:8080/",
     "height": 297
    },
    "id": "QMiwmXgdlW-S",
    "outputId": "e13de086-8221-434a-d3e0-b2dd7c7d9eab"
   },
   "outputs": [
    {
     "data": {
      "text/plain": [
       "Text(0, 0.5, 'Score')"
      ]
     },
     "execution_count": 12,
     "metadata": {},
     "output_type": "execute_result"
    },
    {
     "data": {
      "image/png": "[encoded data removed]",
      "text/plain": [
       "<Figure size 432x288 with 1 Axes>"
      ]
     },
     "metadata": {
      "needs_background": "light"
     },
     "output_type": "display_data"
    }
   ],
   "source": [
    "x_ =[]\n",
    "y_ =[]\n",
    "ls_ = [1,2,4,8,16,32,64,128,256,512,1024,2048,4096,8192,16384,32768]\n",
    "for i in ls_:\n",
    "  y_.append(GradientBoostingRegressor(n_estimators=i).fit(X_train, Y_train).score(X_train, Y_train))\n",
    "  x_.append(i)\n",
    "plt.plot(x_,y_)\n",
    "plt.xlabel('No of Trees')\n",
    "plt.ylabel('Score')"
   ]
  },
  {
   "cell_type": "code",
   "execution_count": 13,
   "metadata": {
    "colab": {
     "base_uri": "https://localhost:8080/",
     "height": 297
    },
    "id": "FeUcIj2vm_Jx",
    "outputId": "627cf1ea-808e-4b36-f959-70888a6f2045"
   },
   "outputs": [
    {
     "data": {
      "text/plain": [
       "Text(0, 0.5, 'Score')"
      ]
     },
     "execution_count": 13,
     "metadata": {},
     "output_type": "execute_result"
    },
    {
     "data": {
      "image/png": "[encoded data removed]",
      "text/plain": [
       "<Figure size 432x288 with 1 Axes>"
      ]
     },
     "metadata": {
      "needs_background": "light"
     },
     "output_type": "display_data"
    }
   ],
   "source": [
    "x_ =[]\n",
    "y_ =[]\n",
    "ls_ = [1,2,4,8,16,32,64,128,256,512,1024,2048,4096,8192,16384,32768]\n",
    "for i in ls_:\n",
    "  y_.append(GradientBoostingRegressor(n_estimators=i).fit(X_train, Y_train).score(X_test, Y_test))\n",
    "  x_.append(i)\n",
    "plt.plot(x_,y_)\n",
    "plt.xlabel('No of Trees')\n",
    "plt.ylabel('Score')"
   ]
  },
  {
   "cell_type": "code",
   "execution_count": 14,
   "metadata": {},
   "outputs": [
    {
     "name": "stdout",
     "output_type": "stream",
     "text": [
      "0.9421292285618202\n"
     ]
    }
   ],
   "source": [
    "gbr3 = GradientBoostingRegressor(random_state=0).fit(X_train2,Y_train3)\n",
    "print(gbr3.score(X_test2,Y_test3))"
   ]
  }
 ],
 "metadata": {
  "colab": {
   "name": "Gradient_boosting.ipynb",
   "provenance": []
  },
  "kernelspec": {
   "display_name": "Python 3 (ipykernel)",
   "language": "python",
   "name": "python3"
  },
  "language_info": {
   "codemirror_mode": {
    "name": "ipython",
    "version": 3
   },
   "file_extension": ".py",
   "mimetype": "text/x-python",
   "name": "python",
   "nbconvert_exporter": "python",
   "pygments_lexer": "ipython3",
   "version": "3.9.7"
  }
 },
 "nbformat": 4,
 "nbformat_minor": 4
}
