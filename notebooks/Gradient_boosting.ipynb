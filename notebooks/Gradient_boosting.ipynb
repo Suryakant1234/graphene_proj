{
  "cells": [
    {
      "cell_type": "code",
      "execution_count": 66,
      "metadata": {
        "id": "o3ZbfggFjyDo"
      },
      "outputs": [],
      "source": [
        "from sklearn.ensemble import GradientBoostingRegressor\n",
        "import numpy as np # linear algebra\n",
        "import pandas as pd # data processing, CSV file I/O (e.g. pd.read_csv)\n",
        "import matplotlib.pyplot as plt\n",
        "from sklearn.model_selection import GridSearchCV\n",
        "from sklearn.model_selection import train_test_split\n",
        "from sklearn.model_selection import cross_validate"
      ]
    },
    {
      "cell_type": "code",
      "execution_count": 67,
      "metadata": {
        "id": "-HnICtM5j4k6"
      },
      "outputs": [],
      "source": [
        "grd = pd.read_csv(\"../data/graphene_data_final.csv\")"
      ]
    },
    {
      "cell_type": "code",
      "execution_count": 68,
      "metadata": {
        "id": "aO7WjvEekACc"
      },
      "outputs": [],
      "source": [
        "X, Y = grd[['Graphene_percentage', 'FEED', 'RPM', 'DOC']], grd['MRR_gm_per_sec']\n",
        "Y2 = grd['Ra']"
      ]
    },
    {
      "cell_type": "code",
      "execution_count": 69,
      "metadata": {
        "id": "OTE0KtcakC6a"
      },
      "outputs": [],
      "source": [
        "X_train, X_test, Y_train, Y_test = train_test_split(X, Y, test_size=0.3, random_state=39)\n",
        "X_train2,X_test2,Y2_train, Y2_test = train_test_split(X, Y2, test_size=0.3, random_state=23)"
      ]
    },
    {
      "cell_type": "markdown",
      "source": [
        "Let's create, train and test a basic gradient boosting model."
      ],
      "metadata": {
        "id": "SWLPrpUQ8wVX"
      }
    },
    {
      "cell_type": "code",
      "execution_count": 70,
      "metadata": {
        "id": "XTv5P9ZtkK9M",
        "colab": {
          "base_uri": "https://localhost:8080/"
        },
        "outputId": "1561bbb2-fc8e-402a-afd7-9f9789f5726c"
      },
      "outputs": [
        {
          "output_type": "execute_result",
          "data": {
            "text/plain": [
              "0.8640911104913794"
            ]
          },
          "metadata": {},
          "execution_count": 70
        }
      ],
      "source": [
        "gbr = GradientBoostingRegressor(random_state=0)\n",
        "gbr.fit(X_train, Y_train)\n",
        "gbr.score(X_test,Y_test)"
      ]
    },
    {
      "cell_type": "code",
      "source": [
        "gbr2 = GradientBoostingRegressor(random_state=51)\n",
        "gbr2.fit(X_train2, Y2_train)\n",
        "gbr2.score(X_test2,Y2_test)"
      ],
      "metadata": {
        "colab": {
          "base_uri": "https://localhost:8080/"
        },
        "id": "SRxWntVo9CH5",
        "outputId": "730dbe0c-e049-478e-b9c5-0c18382b94f7"
      },
      "execution_count": 71,
      "outputs": [
        {
          "output_type": "execute_result",
          "data": {
            "text/plain": [
              "0.5422137881583955"
            ]
          },
          "metadata": {},
          "execution_count": 71
        }
      ]
    },
    {
      "cell_type": "code",
      "source": [
        "gbr_cv = GradientBoostingRegressor(random_state=7)"
      ],
      "metadata": {
        "id": "txSTHi5d4HaN"
      },
      "execution_count": 72,
      "outputs": []
    },
    {
      "cell_type": "code",
      "execution_count": 73,
      "metadata": {
        "id": "syrpHjEhkuNe"
      },
      "outputs": [],
      "source": [
        "param_grid = { \n",
        "    'n_estimators': [10,20,30,50,100],\n",
        "    'max_depth' : [1,2,3,4,6,8],\n",
        "    'min_samples_leaf' : [1,2,3,4],\n",
        "    'min_samples_split' : [2,3,4]\n",
        "}"
      ]
    },
    {
      "cell_type": "code",
      "execution_count": 74,
      "metadata": {
        "colab": {
          "base_uri": "https://localhost:8080/"
        },
        "id": "RAoj21nQ3Jz8",
        "outputId": "86acb5a5-5815-47ba-a9c3-c2c325602e74"
      },
      "outputs": [
        {
          "output_type": "execute_result",
          "data": {
            "text/plain": [
              "GridSearchCV(cv=3, estimator=GradientBoostingRegressor(random_state=7),\n",
              "             param_grid={'max_depth': [1, 2, 3, 4, 6, 8],\n",
              "                         'min_samples_leaf': [1, 2, 3, 4],\n",
              "                         'min_samples_split': [2, 3, 4],\n",
              "                         'n_estimators': [10, 20, 30, 50, 100]})"
            ]
          },
          "metadata": {},
          "execution_count": 74
        }
      ],
      "source": [
        "CV_gbr = GridSearchCV(estimator=gbr_cv, param_grid=param_grid, cv= 3)\n",
        "CV_gbr.fit(X_train, Y_train)"
      ]
    },
    {
      "cell_type": "code",
      "source": [
        "CV_gbr.best_params_"
      ],
      "metadata": {
        "colab": {
          "base_uri": "https://localhost:8080/"
        },
        "id": "7O4wj93p6e5z",
        "outputId": "0776b62a-ef65-435f-e36f-4b091cd7d3d0"
      },
      "execution_count": 75,
      "outputs": [
        {
          "output_type": "execute_result",
          "data": {
            "text/plain": [
              "{'max_depth': 4,\n",
              " 'min_samples_leaf': 4,\n",
              " 'min_samples_split': 2,\n",
              " 'n_estimators': 30}"
            ]
          },
          "metadata": {},
          "execution_count": 75
        }
      ]
    },
    {
      "cell_type": "code",
      "execution_count": 76,
      "metadata": {
        "colab": {
          "base_uri": "https://localhost:8080/"
        },
        "id": "dGPSmH3J3Jz8",
        "outputId": "b73dc3a9-4345-4711-c29a-ccf3395ed774"
      },
      "outputs": [
        {
          "output_type": "execute_result",
          "data": {
            "text/plain": [
              "0.9067852421364127"
            ]
          },
          "metadata": {},
          "execution_count": 76
        }
      ],
      "source": [
        "CV_gbr.score(X_test,Y_test)"
      ]
    },
    {
      "cell_type": "code",
      "source": [
        "gbr_cv2 = GradientBoostingRegressor(random_state=19)"
      ],
      "metadata": {
        "id": "bklqj6cB7p4m"
      },
      "execution_count": 77,
      "outputs": []
    },
    {
      "cell_type": "code",
      "execution_count": 78,
      "metadata": {
        "colab": {
          "base_uri": "https://localhost:8080/"
        },
        "id": "RT6m3Eds3J0B",
        "outputId": "5cf2c250-1601-48d8-e505-3a7f081f289c"
      },
      "outputs": [
        {
          "output_type": "execute_result",
          "data": {
            "text/plain": [
              "GridSearchCV(cv=3, estimator=GradientBoostingRegressor(random_state=19),\n",
              "             param_grid={'max_depth': [1, 2, 3, 4, 6, 8],\n",
              "                         'min_samples_leaf': [1, 2, 3, 4],\n",
              "                         'min_samples_split': [2, 3, 4],\n",
              "                         'n_estimators': [10, 20, 30, 50, 100]})"
            ]
          },
          "metadata": {},
          "execution_count": 78
        }
      ],
      "source": [
        "CV_gbr2 = GridSearchCV(estimator=gbr_cv2, param_grid=param_grid, cv= 3)\n",
        "CV_gbr2.fit(X_train2, Y2_train)\n"
      ]
    },
    {
      "cell_type": "code",
      "source": [
        "print(CV_gbr2.score(X_test2,Y2_test))"
      ],
      "metadata": {
        "colab": {
          "base_uri": "https://localhost:8080/"
        },
        "id": "OQq3BNpC7oji",
        "outputId": "18e4f79c-2d63-4b46-e984-c8d064dda9b4"
      },
      "execution_count": 79,
      "outputs": [
        {
          "output_type": "stream",
          "name": "stdout",
          "text": [
            "0.3413523637970435\n"
          ]
        }
      ]
    },
    {
      "cell_type": "code",
      "source": [
        "CV_gbr2.best_params_"
      ],
      "metadata": {
        "colab": {
          "base_uri": "https://localhost:8080/"
        },
        "id": "hx1-sEdw9dTT",
        "outputId": "f38faf34-f4dc-4489-f3fe-2df3eef807a5"
      },
      "execution_count": 80,
      "outputs": [
        {
          "output_type": "execute_result",
          "data": {
            "text/plain": [
              "{'max_depth': 2,\n",
              " 'min_samples_leaf': 2,\n",
              " 'min_samples_split': 2,\n",
              " 'n_estimators': 30}"
            ]
          },
          "metadata": {},
          "execution_count": 80
        }
      ]
    },
    {
      "cell_type": "markdown",
      "metadata": {
        "id": "qlMy6nya3J0D"
      },
      "source": [
        "Now let's save the best models for further usage."
      ]
    },
    {
      "cell_type": "code",
      "execution_count": 81,
      "metadata": {
        "id": "0a10QDOl3J0E"
      },
      "outputs": [],
      "source": [
        "import pickle\n",
        "with open('../trained_models/gradient_boosting_MRR.pkl','wb') as f:\n",
        "    pickle.dump(CV_gbr,f)\n",
        "with open('../trained_models/gradient_boosting_RA.pkl','wb') as f:\n",
        "    pickle.dump(gbr2,f)"
      ]
    }
  ],
  "metadata": {
    "colab": {
      "name": "Gradient_boosting.ipynb",
      "provenance": []
    },
    "kernelspec": {
      "display_name": "Python 3 (ipykernel)",
      "language": "python",
      "name": "python3"
    },
    "language_info": {
      "codemirror_mode": {
        "name": "ipython",
        "version": 3
      },
      "file_extension": ".py",
      "mimetype": "text/x-python",
      "name": "python",
      "nbconvert_exporter": "python",
      "pygments_lexer": "ipython3",
      "version": "3.9.7"
    }
  },
  "nbformat": 4,
  "nbformat_minor": 0
}