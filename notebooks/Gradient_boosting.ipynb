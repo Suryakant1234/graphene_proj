{
  "nbformat": 4,
  "nbformat_minor": 0,
  "metadata": {
    "colab": {
      "name": "Gradient_boosting.ipynb",
      "provenance": []
    },
    "kernelspec": {
      "name": "python3",
      "display_name": "Python 3"
    },
    "language_info": {
      "name": "python"
    }
  },
  "cells": [
    {
      "cell_type": "code",
      "execution_count": 54,
      "metadata": {
        "id": "o3ZbfggFjyDo"
      },
      "outputs": [],
      "source": [
        "from sklearn.ensemble import GradientBoostingRegressor\n",
        "import numpy as np # linear algebra\n",
        "import pandas as pd # data processing, CSV file I/O (e.g. pd.read_csv)\n",
        "import matplotlib.pyplot as plt\n",
        "from sklearn.model_selection import train_test_split\n",
        "from sklearn.model_selection import cross_validate"
      ]
    },
    {
      "cell_type": "code",
      "source": [
        "grd = pd.read_csv(\"/content/graphene_data_final.csv\")"
      ],
      "metadata": {
        "id": "-HnICtM5j4k6"
      },
      "execution_count": 55,
      "outputs": []
    },
    {
      "cell_type": "code",
      "source": [
        "X, Y = grd[['Graphene_percentage', 'FEED', 'RPM', 'DOC']], grd['MRR_gm_per_sec']\n",
        "Y2 = grd['Ra']"
      ],
      "metadata": {
        "id": "aO7WjvEekACc"
      },
      "execution_count": 56,
      "outputs": []
    },
    {
      "cell_type": "code",
      "source": [
        "X_train, X_test, Y_train, Y_test = train_test_split(X, Y, test_size=0.3, random_state=42)\n",
        "X_train, X_test, Y2_train, Y2_test = train_test_split(X, Y2, test_size=0.3, random_state=16)"
      ],
      "metadata": {
        "id": "OTE0KtcakC6a"
      },
      "execution_count": 57,
      "outputs": []
    },
    {
      "cell_type": "code",
      "source": [
        "gbr = GradientBoostingRegressor(random_state=0)"
      ],
      "metadata": {
        "id": "XTv5P9ZtkK9M"
      },
      "execution_count": 58,
      "outputs": []
    },
    {
      "cell_type": "code",
      "source": [
        "gbr.fit(X_train, Y_train)"
      ],
      "metadata": {
        "colab": {
          "base_uri": "https://localhost:8080/"
        },
        "id": "Db_4DfZSkQok",
        "outputId": "16254b52-5ca3-478e-e359-ba13d9887053"
      },
      "execution_count": 59,
      "outputs": [
        {
          "output_type": "execute_result",
          "data": {
            "text/plain": [
              "GradientBoostingRegressor(random_state=0)"
            ]
          },
          "metadata": {},
          "execution_count": 59
        }
      ]
    },
    {
      "cell_type": "code",
      "source": [
        "param_grid = { \n",
        "    'n_estimators': [30,40,50,70,100,150,200],\n",
        "    'max_features': ['auto', 'sqrt', 'log2'],\n",
        "    'max_depth' : [1,2,3,4,5,6,7,8,9],\n",
        "}"
      ],
      "metadata": {
        "id": "syrpHjEhkuNe"
      },
      "execution_count": 60,
      "outputs": []
    },
    {
      "cell_type": "code",
      "source": [
        "gbr.score(X_test,Y_test)"
      ],
      "metadata": {
        "colab": {
          "base_uri": "https://localhost:8080/"
        },
        "id": "gUQZo11PkaMs",
        "outputId": "3be1ec10-7481-4c57-93c8-75f61a193975"
      },
      "execution_count": 61,
      "outputs": [
        {
          "output_type": "execute_result",
          "data": {
            "text/plain": [
              "-0.07806524884006816"
            ]
          },
          "metadata": {},
          "execution_count": 61
        }
      ]
    },
    {
      "cell_type": "code",
      "source": [
        "gbr.score(X_train, Y_train)"
      ],
      "metadata": {
        "colab": {
          "base_uri": "https://localhost:8080/"
        },
        "id": "ACL3X2B8kiH2",
        "outputId": "9e813752-2013-4b97-be6a-5ff30e029c3a"
      },
      "execution_count": 62,
      "outputs": [
        {
          "output_type": "execute_result",
          "data": {
            "text/plain": [
              "0.665823006958479"
            ]
          },
          "metadata": {},
          "execution_count": 62
        }
      ]
    },
    {
      "cell_type": "code",
      "source": [
        "gbr2 = GradientBoostingRegressor(random_state=0)"
      ],
      "metadata": {
        "id": "X9cHUkhslGlv"
      },
      "execution_count": 63,
      "outputs": []
    },
    {
      "cell_type": "code",
      "source": [
        "cross_validate(gbr2, X, Y, cv=4)['test_score']"
      ],
      "metadata": {
        "colab": {
          "base_uri": "https://localhost:8080/"
        },
        "id": "FaHI68XOk_Hx",
        "outputId": "de88b71c-91bb-4928-d2dc-51355e3ead6d"
      },
      "execution_count": 64,
      "outputs": [
        {
          "output_type": "execute_result",
          "data": {
            "text/plain": [
              "array([0.86241655, 0.78841607, 0.89166897, 0.8898712 ])"
            ]
          },
          "metadata": {},
          "execution_count": 64
        }
      ]
    },
    {
      "cell_type": "code",
      "source": [
        "x_ =[]\n",
        "y_ =[]\n",
        "ls_ = [1,2,4,8,16,32,64,128,256,512,1024,2048,4096,8192,16384,32768]\n",
        "for i in ls_:\n",
        "  y_.append(GradientBoostingRegressor(n_estimators=i).fit(X_train, Y_train).score(X_train, Y_train))\n",
        "  x_.append(i)\n",
        "plt.plot(x_,y_)\n",
        "plt.xlabel('No of Trees')\n",
        "plt.ylabel('Score')"
      ],
      "metadata": {
        "colab": {
          "base_uri": "https://localhost:8080/",
          "height": 297
        },
        "id": "QMiwmXgdlW-S",
        "outputId": "e13de086-8221-434a-d3e0-b2dd7c7d9eab"
      },
      "execution_count": 65,
      "outputs": [
        {
          "output_type": "execute_result",
          "data": {
            "text/plain": [
              "Text(0, 0.5, 'Score')"
            ]
          },
          "metadata": {},
          "execution_count": 65
        },
        {
          "output_type": "display_data",
          "data": {
            "text/plain": [
              "<Figure size 432x288 with 1 Axes>"
            ],
            "image/png": "[encoded data removed]"
          },
          "metadata": {
            "needs_background": "light"
          }
        }
      ]
    },
    {
      "cell_type": "code",
      "source": [
        "x_ =[]\n",
        "y_ =[]\n",
        "ls_ = [1,2,4,8,16,32,64,128,256,512,1024,2048,4096,8192,16384,32768]\n",
        "for i in ls_:\n",
        "  y_.append(GradientBoostingRegressor(n_estimators=i).fit(X_train, Y_train).score(X_test, Y_test))\n",
        "  x_.append(i)\n",
        "plt.plot(x_,y_)\n",
        "plt.xlabel('No of Trees')\n",
        "plt.ylabel('Score')"
      ],
      "metadata": {
        "colab": {
          "base_uri": "https://localhost:8080/",
          "height": 297
        },
        "id": "FeUcIj2vm_Jx",
        "outputId": "627cf1ea-808e-4b36-f959-70888a6f2045"
      },
      "execution_count": 66,
      "outputs": [
        {
          "output_type": "execute_result",
          "data": {
            "text/plain": [
              "Text(0, 0.5, 'Score')"
            ]
          },
          "metadata": {},
          "execution_count": 66
        },
        {
          "output_type": "display_data",
          "data": {
            "text/plain": [
              "<Figure size 432x288 with 1 Axes>"
            ],
            "image/png": "[encoded data removed]"
          },
          "metadata": {
            "needs_background": "light"
          }
        }
      ]
    }
  ]
}