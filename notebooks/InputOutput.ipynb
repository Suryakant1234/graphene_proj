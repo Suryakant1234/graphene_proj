{
 "cells": [
  {
   "cell_type": "markdown",
   "id": "dcb212c2-5c82-477c-a66b-42f686a40c62",
   "metadata": {},
   "source": [
    "## Importing neccessary libraries"
   ]
  },
  {
   "cell_type": "markdown",
   "id": "490a5e31-8b39-40cf-9027-cd231c27e08f",
   "metadata": {
    "tags": []
   },
   "source": [
    "Pickle library is imported to load  pre trained machine learning models which are saved in pickle file format. Pandas library is used to read and manipulate data sets as data frame objects. Numpy library which is normally used for numerical analysis is used here to create an array that contains input for predict method of various machine learning models. "
   ]
  },
  {
   "cell_type": "code",
   "execution_count": 1,
   "id": "4aed0caf-669e-420d-8645-999b65dad95a",
   "metadata": {},
   "outputs": [],
   "source": [
    "!conda activate surya"
   ]
  },
  {
   "cell_type": "code",
   "execution_count": 2,
   "id": "35712678-6df1-4dc6-96b7-02a8c6262c47",
   "metadata": {},
   "outputs": [],
   "source": [
    "import pickle\n",
    "import pandas as pd\n",
    "import numpy as np\n",
    "import matplotlib.pyplot as plt\n",
    "from sklearn.model_selection import train_test_split"
   ]
  },
  {
   "cell_type": "markdown",
   "id": "3dafa76e-7968-42d2-9254-e4e03a0e3c6e",
   "metadata": {},
   "source": [
    "The observational dataset is imported from the csv file and saved as a pandas data frame in variable grd."
   ]
  },
  {
   "cell_type": "code",
   "execution_count": 3,
   "id": "b732743f-57b4-456e-b642-9a904f84e9bc",
   "metadata": {},
   "outputs": [],
   "source": [
    "gr_data = pd.read_csv(\"../data/graphene_data_final.csv\")"
   ]
  },
  {
   "cell_type": "markdown",
   "id": "0a8c21c3-236d-4582-aaa3-44c17eb0aa70",
   "metadata": {},
   "source": [
    "The 1st four columns Graphene_percentage, feed, RPM and DOC were taken as input and MRR as 2st output and `Ra` as 2nd output."
   ]
  },
  {
   "cell_type": "code",
   "execution_count": 4,
   "id": "42e83eb8-d3bb-41c1-a626-08e4ee149b88",
   "metadata": {},
   "outputs": [],
   "source": [
    "X = gr_data[['Graphene_percentage', 'FEED', 'RPM', 'DOC']]\n",
    "Y = gr_data['MRR_gm_per_sec']\n",
    "Y2 = gr_data['Ra']"
   ]
  },
  {
   "cell_type": "code",
   "execution_count": 5,
   "id": "4c622bac-67da-490e-9bf1-ccad349ea390",
   "metadata": {},
   "outputs": [],
   "source": [
    "X_train, X_test, Y_train, Y_test = train_test_split(X, Y, test_size=0.2, random_state=39)\n",
    "X_train2, X_test2, Y2_train, Y2_test = train_test_split(X, Y2, test_size=0.2, random_state=23)"
   ]
  },
  {
   "cell_type": "code",
   "execution_count": 6,
   "id": "5fff8cac-58b0-40c6-a98b-4ea253695d56",
   "metadata": {},
   "outputs": [],
   "source": [
    "train_ = X_train.shape[0]\n",
    "test_ = X_test.shape[0]\n",
    "train_2 = X_train2.shape[0]\n",
    "test_2 = X_test2.shape[0]"
   ]
  },
  {
   "cell_type": "markdown",
   "id": "53fd01d8-0962-45a3-ab49-607501047d51",
   "metadata": {},
   "source": [
    "## Loading previously saved models"
   ]
  },
  {
   "cell_type": "markdown",
   "id": "b0139bd4-2c03-4bad-b19c-6d2a0c5bdbe2",
   "metadata": {},
   "source": [
    "The machine learning models which were created using scikit learn were saved as pickle files and tensorflow models were saved as h5 files. Now those saved models are being loaded from the model files."
   ]
  },
  {
   "cell_type": "code",
   "execution_count": 7,
   "id": "72f459bf-3b4c-45cc-b9d3-3e9313221886",
   "metadata": {},
   "outputs": [],
   "source": [
    "with open('../trained_models/decision_tree_RA.pkl', 'rb') as p:\n",
    "    dtr_ra = pickle.load(p)"
   ]
  },
  {
   "cell_type": "code",
   "execution_count": 8,
   "id": "2864afca-8b3c-4b7c-895a-4683c81d66ea",
   "metadata": {},
   "outputs": [],
   "source": [
    "with open('../trained_models/decision_tree_MRR.pkl', 'rb') as p:\n",
    "    dtr_mrr = pickle.load(p)"
   ]
  },
  {
   "cell_type": "code",
   "execution_count": 9,
   "id": "a89eae34-ea2e-4845-9921-ae55e89edeaf",
   "metadata": {},
   "outputs": [],
   "source": [
    "with open('../trained_models/random_forest_MRR.pkl', 'rb') as p:\n",
    "    rfr_mrr = pickle.load(p)"
   ]
  },
  {
   "cell_type": "code",
   "execution_count": 10,
   "id": "eff58145-0582-440d-aaed-a5c64823a374",
   "metadata": {},
   "outputs": [],
   "source": [
    "with open('../trained_models/random_forest_RA.pkl', 'rb') as p:\n",
    "    rfr_ra = pickle.load(p)"
   ]
  },
  {
   "cell_type": "code",
   "execution_count": 11,
   "id": "da0a7a51-a873-4452-8d27-b62e0c089e27",
   "metadata": {},
   "outputs": [],
   "source": [
    "with open('../trained_models/gradient_boosting_MRR.pkl', 'rb') as p:\n",
    "    gbr_mrr = pickle.load(p)"
   ]
  },
  {
   "cell_type": "code",
   "execution_count": 12,
   "id": "4d34507f-09c4-4616-a9f6-a9aace4e0ddb",
   "metadata": {},
   "outputs": [],
   "source": [
    "with open('../trained_models/gradient_boosting_RA.pkl', 'rb') as p:\n",
    "    gbr_ra = pickle.load(p)"
   ]
  },
  {
   "cell_type": "code",
   "execution_count": 13,
   "id": "b1bd87ea-1050-4d65-a4aa-ade945538dd2",
   "metadata": {},
   "outputs": [],
   "source": [
    "with open('../trained_models/ANN_RA_sklearn.pkl', 'rb') as p:\n",
    "    ann_sk_ra = pickle.load(p)"
   ]
  },
  {
   "cell_type": "code",
   "execution_count": 14,
   "id": "b015487a-5f32-48f5-bbd8-0b1fdb5cc533",
   "metadata": {},
   "outputs": [],
   "source": [
    "with open('../trained_models/ANN_MRR_sklearn.pkl', 'rb') as p:\n",
    "    ann_sk_mrr = pickle.load(p)"
   ]
  },
  {
   "cell_type": "markdown",
   "id": "4291b15c-e35e-44c2-848b-4f05ac351494",
   "metadata": {},
   "source": [
    "## Prediction of MRR and Ra"
   ]
  },
  {
   "cell_type": "markdown",
   "id": "7861ac80-5539-4a74-a2ad-7e397ade3330",
   "metadata": {},
   "source": [
    "### Material Removal Rate prediction using known data"
   ]
  },
  {
   "cell_type": "markdown",
   "id": "96d74ca2-d10a-4a8b-965d-d8b320669126",
   "metadata": {},
   "source": [
    "In this section the feature values are not taken directly from the user rather the prompt asks for the serial number of observation from the original dataset. Then through slicing of dataframe using the entered serial number the program gets the corresponding input values. After getting the 4 input values it feeds them to the loaded models and displays the predicted output."
   ]
  },
  {
   "cell_type": "code",
   "execution_count": 15,
   "id": "c5009ee0-bbf4-440d-b3a2-02b12a936258",
   "metadata": {},
   "outputs": [
    {
     "name": "stdin",
     "output_type": "stream",
     "text": [
      "Enter the serial number of observation(1 to 135):  90\n"
     ]
    }
   ],
   "source": [
    "a_ = int(input(\"Enter the serial number of observation(1 to 135): \"))\n",
    "b_ = a_ + 1"
   ]
  },
  {
   "cell_type": "code",
   "execution_count": 16,
   "id": "5a0502a5-3474-44b2-b1be-93416982b48b",
   "metadata": {},
   "outputs": [
    {
     "name": "stdout",
     "output_type": "stream",
     "text": [
      "Prediction of MRR by random forest is 0.019601604373526475\n",
      "Prediction of MRR by decision tree is 0.019177142333333338\n",
      "Prediction of MRR by gradient boosting is 0.018682820407643824\n",
      "Prediction of MRR by ann is 17.72116537775495\n",
      "Real value of MRR is 0.015804598\n"
     ]
    },
    {
     "name": "stderr",
     "output_type": "stream",
     "text": [
      "c:\\users\\suryakant\\appdata\\local\\programs\\python\\python39\\lib\\site-packages\\sklearn\\base.py:450: UserWarning: X does not have valid feature names, but RandomForestRegressor was fitted with feature names\n",
      "  warnings.warn(\n",
      "c:\\users\\suryakant\\appdata\\local\\programs\\python\\python39\\lib\\site-packages\\sklearn\\base.py:450: UserWarning: X does not have valid feature names, but DecisionTreeRegressor was fitted with feature names\n",
      "  warnings.warn(\n",
      "c:\\users\\suryakant\\appdata\\local\\programs\\python\\python39\\lib\\site-packages\\sklearn\\base.py:450: UserWarning: X does not have valid feature names, but GradientBoostingRegressor was fitted with feature names\n",
      "  warnings.warn(\n",
      "c:\\users\\suryakant\\appdata\\local\\programs\\python\\python39\\lib\\site-packages\\sklearn\\base.py:450: UserWarning: X does not have valid feature names, but MLPRegressor was fitted with feature names\n",
      "  warnings.warn(\n"
     ]
    }
   ],
   "source": [
    "print(\"Prediction of MRR by random forest is \"+str(rfr_mrr.predict(X[a_:b_].to_numpy())[0]))\n",
    "print(\"Prediction of MRR by decision tree is \"+str(dtr_mrr.predict(X[a_:b_].to_numpy())[0]))\n",
    "print(\"Prediction of MRR by gradient boosting is \"+str(gbr_mrr.predict(X[a_:b_].to_numpy())[0]))\n",
    "print(\"Prediction of MRR by ann is \"+str(ann_sk_mrr.predict(X[a_:b_].to_numpy())[0]))\n",
    "print(\"Real value of MRR is \"+str(Y[a_:b_].to_numpy()[0]))"
   ]
  },
  {
   "cell_type": "code",
   "execution_count": 17,
   "id": "af87250d-33a8-4c57-9627-5c9fe5edf80e",
   "metadata": {},
   "outputs": [
    {
     "name": "stdout",
     "output_type": "stream",
     "text": [
      "Prediction of ra by random forest is 1.548585\n",
      "Prediction of ra by decision tree is 1.495364285714286\n",
      "Prediction of ra by gradient boosting is 1.6545973507870384\n",
      "Prediction of ra by ann is 1066.557735042184\n",
      "Real value of ra is 0.015804598\n"
     ]
    },
    {
     "name": "stderr",
     "output_type": "stream",
     "text": [
      "c:\\users\\suryakant\\appdata\\local\\programs\\python\\python39\\lib\\site-packages\\sklearn\\base.py:450: UserWarning: X does not have valid feature names, but RandomForestRegressor was fitted with feature names\n",
      "  warnings.warn(\n",
      "c:\\users\\suryakant\\appdata\\local\\programs\\python\\python39\\lib\\site-packages\\sklearn\\base.py:450: UserWarning: X does not have valid feature names, but DecisionTreeRegressor was fitted with feature names\n",
      "  warnings.warn(\n",
      "c:\\users\\suryakant\\appdata\\local\\programs\\python\\python39\\lib\\site-packages\\sklearn\\base.py:450: UserWarning: X does not have valid feature names, but GradientBoostingRegressor was fitted with feature names\n",
      "  warnings.warn(\n",
      "c:\\users\\suryakant\\appdata\\local\\programs\\python\\python39\\lib\\site-packages\\sklearn\\base.py:450: UserWarning: X does not have valid feature names, but MLPRegressor was fitted with feature names\n",
      "  warnings.warn(\n"
     ]
    }
   ],
   "source": [
    "print(\"Prediction of ra by random forest is \"+str(rfr_ra.predict(X[a_:b_].to_numpy())[0]))\n",
    "print(\"Prediction of ra by decision tree is \"+str(dtr_ra.predict(X[a_:b_].to_numpy())[0]))\n",
    "print(\"Prediction of ra by gradient boosting is \"+str(gbr_ra.predict(X[a_:b_].to_numpy())[0]))\n",
    "print(\"Prediction of ra by ann is \"+str(ann_sk_ra.predict(X[a_:b_].to_numpy())[0]))\n",
    "print(\"Real value of ra is \"+str(Y[a_:b_].to_numpy()[0]))"
   ]
  },
  {
   "cell_type": "markdown",
   "id": "d1c379c9-28d4-4909-bb86-15c09df22377",
   "metadata": {
    "tags": []
   },
   "source": [
    "### For predicting target values using unknown feature(input) values"
   ]
  },
  {
   "cell_type": "code",
   "execution_count": 18,
   "id": "369bce66-9e15-4e5d-ad32-13e05bbb40f5",
   "metadata": {},
   "outputs": [
    {
     "name": "stdout",
     "output_type": "stream",
     "text": [
      "Graphene_percentage [0.  0.5 1.  2.  3. ]\n",
      "FEED [100 150 200]\n",
      "RPM [1000 2000 3000]\n",
      "DOC [0.1  0.15 0.2 ]\n"
     ]
    }
   ],
   "source": [
    "for i in X.columns:\n",
    "    print(str(i) +\" \"+str(X[i].unique()))"
   ]
  },
  {
   "cell_type": "markdown",
   "id": "1f541c87-9244-42ea-b95e-eb3e1b7478ba",
   "metadata": {},
   "source": [
    "Here the unique values of each feature variables of the original dataset is shown to let the user know using which range of variables the models were trained on."
   ]
  },
  {
   "cell_type": "markdown",
   "id": "066ff459-00c2-4f80-951f-39edae7abf2a",
   "metadata": {},
   "source": [
    "In this section the prompt asks for the four input values to the user and it shows the predicted output."
   ]
  },
  {
   "cell_type": "code",
   "execution_count": 19,
   "id": "ee72a457-a645-4007-b49d-64e97f2c56fc",
   "metadata": {},
   "outputs": [
    {
     "name": "stdin",
     "output_type": "stream",
     "text": [
      "Enter the graphene percentage:  1\n",
      "Enter the Feed:  100\n",
      "Enter the rotation in RPM:  1000\n",
      "Enter the DOC:  0.1\n"
     ]
    }
   ],
   "source": [
    "Graphene_percentage = float(input(\"Enter the graphene percentage: \"))\n",
    "FEED = int(input(\"Enter the Feed: \"))\n",
    "RPM = int(input(\"Enter the rotation in RPM: \"))\n",
    "DOC = float(input(\"Enter the DOC: \"))"
   ]
  },
  {
   "cell_type": "code",
   "execution_count": 20,
   "id": "49b513dc-8a47-47d7-ad1c-a3a69f061b63",
   "metadata": {},
   "outputs": [],
   "source": [
    "inp_ = np.array([[Graphene_percentage,FEED,RPM,DOC]])"
   ]
  },
  {
   "cell_type": "code",
   "execution_count": 21,
   "id": "e31cf1c6-bac4-4c31-adf1-8297003b7092",
   "metadata": {},
   "outputs": [
    {
     "name": "stdout",
     "output_type": "stream",
     "text": [
      "Prediction of MRR and RA by random forest is 0.012735014819047619 and 1.40212\n",
      "Prediction of MRR and RA by decision tree is 0.011717088666666667 and 1.495364285714286\n",
      "Prediction of MRR and RA by gradient boosting is 0.013114846339784277 and 1.2739544120911974\n",
      "Prediction of MRR and RA by sklearn ANN is 18.497392023192916 and 1080.2178206407339\n"
     ]
    },
    {
     "name": "stderr",
     "output_type": "stream",
     "text": [
      "c:\\users\\suryakant\\appdata\\local\\programs\\python\\python39\\lib\\site-packages\\sklearn\\base.py:450: UserWarning: X does not have valid feature names, but RandomForestRegressor was fitted with feature names\n",
      "  warnings.warn(\n",
      "c:\\users\\suryakant\\appdata\\local\\programs\\python\\python39\\lib\\site-packages\\sklearn\\base.py:450: UserWarning: X does not have valid feature names, but RandomForestRegressor was fitted with feature names\n",
      "  warnings.warn(\n",
      "c:\\users\\suryakant\\appdata\\local\\programs\\python\\python39\\lib\\site-packages\\sklearn\\base.py:450: UserWarning: X does not have valid feature names, but DecisionTreeRegressor was fitted with feature names\n",
      "  warnings.warn(\n",
      "c:\\users\\suryakant\\appdata\\local\\programs\\python\\python39\\lib\\site-packages\\sklearn\\base.py:450: UserWarning: X does not have valid feature names, but DecisionTreeRegressor was fitted with feature names\n",
      "  warnings.warn(\n",
      "c:\\users\\suryakant\\appdata\\local\\programs\\python\\python39\\lib\\site-packages\\sklearn\\base.py:450: UserWarning: X does not have valid feature names, but GradientBoostingRegressor was fitted with feature names\n",
      "  warnings.warn(\n",
      "c:\\users\\suryakant\\appdata\\local\\programs\\python\\python39\\lib\\site-packages\\sklearn\\base.py:450: UserWarning: X does not have valid feature names, but GradientBoostingRegressor was fitted with feature names\n",
      "  warnings.warn(\n",
      "c:\\users\\suryakant\\appdata\\local\\programs\\python\\python39\\lib\\site-packages\\sklearn\\base.py:450: UserWarning: X does not have valid feature names, but MLPRegressor was fitted with feature names\n",
      "  warnings.warn(\n",
      "c:\\users\\suryakant\\appdata\\local\\programs\\python\\python39\\lib\\site-packages\\sklearn\\base.py:450: UserWarning: X does not have valid feature names, but MLPRegressor was fitted with feature names\n",
      "  warnings.warn(\n"
     ]
    }
   ],
   "source": [
    "print(\"Prediction of MRR and RA by random forest is \"+str(rfr_mrr.predict(inp_)[0])+\n",
    "\" and \"+str(rfr_ra.predict(inp_)[0]))\n",
    "print(\"Prediction of MRR and RA by decision tree is \"+str(dtr_mrr.predict(inp_)[0])+\n",
    "\" and \"+str(dtr_ra.predict(inp_)[0]))\n",
    "print(\"Prediction of MRR and RA by gradient boosting is \"+str(gbr_mrr.predict(inp_)[0])+\n",
    "\" and \"+str(gbr_ra.predict(inp_)[0]))\n",
    "print(\"Prediction of MRR and RA by sklearn ANN is \"+str(ann_sk_mrr.predict(inp_)[0])+\n",
    "\" and \"+str(ann_sk_ra.predict(inp_)[0]))"
   ]
  },
  {
   "cell_type": "code",
   "execution_count": null,
   "id": "956190ff-3e9e-4f9f-a24b-a492f8a72d56",
   "metadata": {},
   "outputs": [],
   "source": []
  }
 ],
 "metadata": {
  "kernelspec": {
   "display_name": "Python 3 (ipykernel)",
   "language": "python",
   "name": "python3"
  },
  "language_info": {
   "codemirror_mode": {
    "name": "ipython",
    "version": 3
   },
   "file_extension": ".py",
   "mimetype": "text/x-python",
   "name": "python",
   "nbconvert_exporter": "python",
   "pygments_lexer": "ipython3",
   "version": "3.9.6"
  }
 },
 "nbformat": 4,
 "nbformat_minor": 5
}
