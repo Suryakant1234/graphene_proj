{
 "cells": [
  {
   "cell_type": "markdown",
   "id": "d4f59405-280e-4116-9441-0eb214b88912",
   "metadata": {},
   "source": [
    "Let's import neccessary libraries first."
   ]
  },
  {
   "cell_type": "code",
   "execution_count": 2,
   "id": "f63c28cc-bb54-45e2-a611-15d1f6d0a6cd",
   "metadata": {},
   "outputs": [],
   "source": [
    "import tensorflow as tf\n",
    "import matplotlib.pyplot as plt\n",
    "import numpy as np\n",
    "import pandas as pd\n",
    "import seaborn as sns\n",
    "import tensorflow as tf\n",
    "from tensorflow import keras\n",
    "from sklearn.model_selection import train_test_split\n",
    "from tensorflow.keras import layers"
   ]
  },
  {
   "cell_type": "markdown",
   "id": "5f5d71f1-2da2-423d-92af-115b23e95526",
   "metadata": {},
   "source": [
    "Now we will read the dataset and first split it into feature/input dataframe(X) and label/output Series(Y)."
   ]
  },
  {
   "cell_type": "code",
   "execution_count": 3,
   "id": "1544569b-365b-4951-a138-1d3f909fe4e4",
   "metadata": {
    "tags": []
   },
   "outputs": [],
   "source": [
    "grd = pd.read_csv(\"../data/graphene_data_final.csv\")\n",
    "grd = (grd-grd.min())/(grd.max()-grd.min())\n",
    "X = grd[['Graphene_percentage', 'FEED', 'RPM', 'DOC']] \n",
    "X2 = grd[['FEED', 'DOC']] \n",
    "#X = grd[['FEED', 'DOC']]  \n",
    "Y = grd['MRR_gm_per_sec']\n",
    "#Y = grd['RA']"
   ]
  },
  {
   "cell_type": "markdown",
   "id": "2e3fec2b-3c9d-473d-8a3d-4af02d5d9162",
   "metadata": {},
   "source": [
    "Here we will split X and Y into their corresponding training and testing datasets.   "
   ]
  },
  {
   "cell_type": "code",
   "execution_count": 4,
   "id": "b8e8de52-0a58-405f-bfc3-ad5f8724443b",
   "metadata": {},
   "outputs": [],
   "source": [
    "X_train, X_test, Y_train, Y_test = train_test_split(X, Y, test_size = 0.3, random_state=1)\n",
    "X_train2, X_test2, Y_train3, Y_test3 = train_test_split(X2, Y, test_size=0.3, random_state=33)"
   ]
  },
  {
   "cell_type": "markdown",
   "id": "32fb496a-9e73-42f9-a9e7-1ab5073915c7",
   "metadata": {},
   "source": [
    "Let's build the model. We are creating a normal sequential neural network model.\n"
   ]
  },
  {
   "cell_type": "code",
   "execution_count": 5,
   "id": "07d09b61-07c5-40d4-ad05-6327b5e5623b",
   "metadata": {},
   "outputs": [
    {
     "name": "stderr",
     "output_type": "stream",
     "text": [
      "2022-03-29 13:33:06.827328: I tensorflow/core/platform/cpu_feature_guard.cc:142] This TensorFlow binary is optimized with oneAPI Deep Neural Network Library (oneDNN) to use the following CPU instructions in performance-critical operations:  SSE4.1 SSE4.2 AVX AVX2 FMA\n",
      "To enable them in other operations, rebuild TensorFlow with the appropriate compiler flags.\n"
     ]
    }
   ],
   "source": [
    "model = tf.keras.models.Sequential([\n",
    "  tf.keras.layers.Dense(12, activation='relu'),\n",
    "  tf.keras.layers.Dense(12, activation='relu')\n",
    "])"
   ]
  },
  {
   "cell_type": "code",
   "execution_count": 6,
   "id": "72a3aeb2-68e4-4423-bc1d-9c5453e617b7",
   "metadata": {},
   "outputs": [],
   "source": [
    "model.compile(loss='mean_absolute_error',\n",
    "                optimizer=tf.keras.optimizers.Adam(0.01),\n",
    "             metrics=['accuracy'])"
   ]
  },
  {
   "cell_type": "code",
   "execution_count": 7,
   "id": "e0553747-bb97-4138-a3d3-2060309a7a5d",
   "metadata": {},
   "outputs": [
    {
     "name": "stderr",
     "output_type": "stream",
     "text": [
      "2022-03-29 13:33:08.826458: I tensorflow/compiler/mlir/mlir_graph_optimization_pass.cc:116] None of the MLIR optimization passes are enabled (registered 2)\n",
      "2022-03-29 13:33:08.937168: I tensorflow/core/platform/profile_utils/cpu_utils.cc:112] CPU Frequency: 2495230000 Hz\n"
     ]
    },
    {
     "name": "stdout",
     "output_type": "stream",
     "text": [
      "Epoch 1/50\n",
      "3/3 [==============================] - 2s 9ms/step - loss: 0.3023 - accuracy: 0.0000e+00\n",
      "Epoch 2/50\n",
      "3/3 [==============================] - 0s 2ms/step - loss: 0.2456 - accuracy: 0.0000e+00\n",
      "Epoch 3/50\n",
      "3/3 [==============================] - 0s 2ms/step - loss: 0.2291 - accuracy: 0.0000e+00\n",
      "Epoch 4/50\n",
      "3/3 [==============================] - 0s 4ms/step - loss: 0.1986 - accuracy: 0.0000e+00\n",
      "Epoch 5/50\n",
      "3/3 [==============================] - 0s 4ms/step - loss: 0.1878 - accuracy: 0.0000e+00\n",
      "Epoch 6/50\n",
      "3/3 [==============================] - 0s 4ms/step - loss: 0.1615 - accuracy: 0.0000e+00\n",
      "Epoch 7/50\n",
      "3/3 [==============================] - 0s 5ms/step - loss: 0.1447 - accuracy: 0.0000e+00\n",
      "Epoch 8/50\n",
      "3/3 [==============================] - 0s 2ms/step - loss: 0.1303 - accuracy: 0.0092\n",
      "Epoch 9/50\n",
      "3/3 [==============================] - 0s 2ms/step - loss: 0.1185 - accuracy: 0.0092\n",
      "Epoch 10/50\n",
      "3/3 [==============================] - 0s 2ms/step - loss: 0.1075 - accuracy: 0.0170\n",
      "Epoch 11/50\n",
      "3/3 [==============================] - 0s 1ms/step - loss: 0.0918 - accuracy: 0.0092\n",
      "Epoch 12/50\n",
      "3/3 [==============================] - 0s 2ms/step - loss: 0.0814 - accuracy: 0.0170\n",
      "Epoch 13/50\n",
      "3/3 [==============================] - 0s 2ms/step - loss: 0.0729 - accuracy: 0.0170\n",
      "Epoch 14/50\n",
      "3/3 [==============================] - 0s 2ms/step - loss: 0.0681 - accuracy: 0.0170\n",
      "Epoch 15/50\n",
      "3/3 [==============================] - 0s 2ms/step - loss: 0.0618 - accuracy: 0.0000e+00\n",
      "Epoch 16/50\n",
      "3/3 [==============================] - 0s 2ms/step - loss: 0.0549 - accuracy: 0.0170\n",
      "Epoch 17/50\n",
      "3/3 [==============================] - 0s 3ms/step - loss: 0.0514 - accuracy: 0.0092\n",
      "Epoch 18/50\n",
      "3/3 [==============================] - 0s 2ms/step - loss: 0.0455 - accuracy: 0.0092\n",
      "Epoch 19/50\n",
      "3/3 [==============================] - 0s 3ms/step - loss: 0.0483 - accuracy: 0.0092\n",
      "Epoch 20/50\n",
      "3/3 [==============================] - 0s 2ms/step - loss: 0.0453 - accuracy: 0.0170\n",
      "Epoch 21/50\n",
      "3/3 [==============================] - 0s 2ms/step - loss: 0.0434 - accuracy: 0.0092\n",
      "Epoch 22/50\n",
      "3/3 [==============================] - 0s 3ms/step - loss: 0.0431 - accuracy: 0.0092\n",
      "Epoch 23/50\n",
      "3/3 [==============================] - 0s 2ms/step - loss: 0.0417 - accuracy: 0.0000e+00\n",
      "Epoch 24/50\n",
      "3/3 [==============================] - 0s 2ms/step - loss: 0.0412 - accuracy: 0.0000e+00\n",
      "Epoch 25/50\n",
      "3/3 [==============================] - 0s 2ms/step - loss: 0.0396 - accuracy: 0.0053\n",
      "Epoch 26/50\n",
      "3/3 [==============================] - 0s 2ms/step - loss: 0.0393 - accuracy: 0.0170\n",
      "Epoch 27/50\n",
      "3/3 [==============================] - 0s 2ms/step - loss: 0.0425 - accuracy: 0.0053\n",
      "Epoch 28/50\n",
      "3/3 [==============================] - 0s 2ms/step - loss: 0.0387 - accuracy: 0.0053\n",
      "Epoch 29/50\n",
      "3/3 [==============================] - 0s 4ms/step - loss: 0.0397 - accuracy: 0.0092\n",
      "Epoch 30/50\n",
      "3/3 [==============================] - 0s 2ms/step - loss: 0.0427 - accuracy: 0.0053\n",
      "Epoch 31/50\n",
      "3/3 [==============================] - 0s 3ms/step - loss: 0.0384 - accuracy: 0.0170\n",
      "Epoch 32/50\n",
      "3/3 [==============================] - 0s 2ms/step - loss: 0.0399 - accuracy: 0.0170\n",
      "Epoch 33/50\n",
      "3/3 [==============================] - 0s 2ms/step - loss: 0.0412 - accuracy: 0.0092\n",
      "Epoch 34/50\n",
      "3/3 [==============================] - 0s 4ms/step - loss: 0.0388 - accuracy: 0.0053\n",
      "Epoch 35/50\n",
      "3/3 [==============================] - 0s 3ms/step - loss: 0.0372 - accuracy: 0.0092\n",
      "Epoch 36/50\n",
      "3/3 [==============================] - 0s 3ms/step - loss: 0.0390 - accuracy: 0.0053\n",
      "Epoch 37/50\n",
      "3/3 [==============================] - 0s 3ms/step - loss: 0.0366 - accuracy: 0.0092\n",
      "Epoch 38/50\n",
      "3/3 [==============================] - 0s 4ms/step - loss: 0.0366 - accuracy: 0.0053\n",
      "Epoch 39/50\n",
      "3/3 [==============================] - 0s 2ms/step - loss: 0.0353 - accuracy: 0.0092\n",
      "Epoch 40/50\n",
      "3/3 [==============================] - 0s 2ms/step - loss: 0.0376 - accuracy: 0.0053\n",
      "Epoch 41/50\n",
      "3/3 [==============================] - 0s 2ms/step - loss: 0.0386 - accuracy: 0.0092\n",
      "Epoch 42/50\n",
      "3/3 [==============================] - 0s 2ms/step - loss: 0.0381 - accuracy: 0.0170\n",
      "Epoch 43/50\n",
      "3/3 [==============================] - 0s 3ms/step - loss: 0.0362 - accuracy: 0.0092\n",
      "Epoch 44/50\n",
      "3/3 [==============================] - 0s 3ms/step - loss: 0.0344 - accuracy: 0.0053\n",
      "Epoch 45/50\n",
      "3/3 [==============================] - 0s 2ms/step - loss: 0.0354 - accuracy: 0.0092\n",
      "Epoch 46/50\n",
      "3/3 [==============================] - 0s 4ms/step - loss: 0.0374 - accuracy: 0.0092\n",
      "Epoch 47/50\n",
      "3/3 [==============================] - 0s 3ms/step - loss: 0.0369 - accuracy: 0.0170\n",
      "Epoch 48/50\n",
      "3/3 [==============================] - 0s 2ms/step - loss: 0.0348 - accuracy: 0.0053\n",
      "Epoch 49/50\n",
      "3/3 [==============================] - 0s 2ms/step - loss: 0.0357 - accuracy: 0.0170\n",
      "Epoch 50/50\n",
      "3/3 [==============================] - 0s 2ms/step - loss: 0.0336 - accuracy: 0.0170\n",
      "2/2 [==============================] - 0s 2ms/step - loss: 0.0386 - accuracy: 0.0000e+00\n"
     ]
    },
    {
     "data": {
      "text/plain": [
       "[0.0386141762137413, 0.0]"
      ]
     },
     "execution_count": 7,
     "metadata": {},
     "output_type": "execute_result"
    }
   ],
   "source": [
    "model.fit(X_train, Y_train, epochs=50)\n",
    "model.evaluate(X_test, Y_test)"
   ]
  },
  {
   "cell_type": "code",
   "execution_count": null,
   "id": "0ac2fdbc-b60b-4b2e-9fcb-f476d916307d",
   "metadata": {},
   "outputs": [],
   "source": [
    "`"
   ]
  },
  {
   "cell_type": "code",
   "execution_count": 8,
   "id": "2747bb1a-8303-49b4-b6dd-ed13a795039b",
   "metadata": {},
   "outputs": [],
   "source": [
    "model2 = tf.keras.models.Sequential([\n",
    "  tf.keras.layers.Dense(12, activation='relu'),\n",
    "  tf.keras.layers.Dense(12, activation='relu')\n",
    "])"
   ]
  },
  {
   "cell_type": "code",
   "execution_count": 10,
   "id": "b576173c-daf8-4716-ba6b-17a20bee6849",
   "metadata": {},
   "outputs": [],
   "source": [
    "model2.compile(loss='mean_absolute_error',\n",
    "                optimizer=tf.keras.optimizers.Adam(0.01),\n",
    "             metrics=['accuracy'])"
   ]
  },
  {
   "cell_type": "code",
   "execution_count": 11,
   "id": "6487be4a-b550-408a-adf5-fd2778db6e37",
   "metadata": {},
   "outputs": [
    {
     "name": "stdout",
     "output_type": "stream",
     "text": [
      "Epoch 1/50\n",
      "3/3 [==============================] - 0s 1ms/step - loss: 0.2596 - accuracy: 0.0000e+00\n",
      "Epoch 2/50\n",
      "3/3 [==============================] - 0s 2ms/step - loss: 0.2071 - accuracy: 0.0000e+00\n",
      "Epoch 3/50\n",
      "3/3 [==============================] - 0s 3ms/step - loss: 0.1801 - accuracy: 0.0000e+00\n",
      "Epoch 4/50\n",
      "3/3 [==============================] - 0s 2ms/step - loss: 0.1651 - accuracy: 0.0000e+00\n",
      "Epoch 5/50\n",
      "3/3 [==============================] - 0s 2ms/step - loss: 0.1638 - accuracy: 0.0000e+00\n",
      "Epoch 6/50\n",
      "3/3 [==============================] - 0s 2ms/step - loss: 0.1525 - accuracy: 0.0000e+00\n",
      "Epoch 7/50\n",
      "3/3 [==============================] - 0s 2ms/step - loss: 0.1442 - accuracy: 0.0000e+00\n",
      "Epoch 8/50\n",
      "3/3 [==============================] - 0s 2ms/step - loss: 0.1431 - accuracy: 0.0000e+00\n",
      "Epoch 9/50\n",
      "3/3 [==============================] - 0s 3ms/step - loss: 0.1391 - accuracy: 0.0000e+00\n",
      "Epoch 10/50\n",
      "3/3 [==============================] - 0s 2ms/step - loss: 0.1401 - accuracy: 0.0000e+00\n",
      "Epoch 11/50\n",
      "3/3 [==============================] - 0s 3ms/step - loss: 0.1309 - accuracy: 0.0000e+00\n",
      "Epoch 12/50\n",
      "3/3 [==============================] - 0s 3ms/step - loss: 0.1302 - accuracy: 0.0000e+00\n",
      "Epoch 13/50\n",
      "3/3 [==============================] - 0s 2ms/step - loss: 0.1319 - accuracy: 0.0000e+00\n",
      "Epoch 14/50\n",
      "3/3 [==============================] - 0s 3ms/step - loss: 0.1273 - accuracy: 0.0000e+00\n",
      "Epoch 15/50\n",
      "3/3 [==============================] - 0s 3ms/step - loss: 0.1289 - accuracy: 0.0000e+00\n",
      "Epoch 16/50\n",
      "3/3 [==============================] - 0s 3ms/step - loss: 0.1175 - accuracy: 0.0000e+00\n",
      "Epoch 17/50\n",
      "3/3 [==============================] - 0s 2ms/step - loss: 0.1214 - accuracy: 0.0000e+00\n",
      "Epoch 18/50\n",
      "3/3 [==============================] - 0s 3ms/step - loss: 0.1167 - accuracy: 0.0000e+00\n",
      "Epoch 19/50\n",
      "3/3 [==============================] - 0s 3ms/step - loss: 0.1221 - accuracy: 0.0000e+00\n",
      "Epoch 20/50\n",
      "3/3 [==============================] - 0s 1ms/step - loss: 0.1170 - accuracy: 0.0000e+00\n",
      "Epoch 21/50\n",
      "3/3 [==============================] - 0s 2ms/step - loss: 0.1217 - accuracy: 0.0000e+00\n",
      "Epoch 22/50\n",
      "3/3 [==============================] - 0s 2ms/step - loss: 0.1172 - accuracy: 0.0000e+00\n",
      "Epoch 23/50\n",
      "3/3 [==============================] - 0s 2ms/step - loss: 0.1132 - accuracy: 0.0000e+00\n",
      "Epoch 24/50\n",
      "3/3 [==============================] - 0s 3ms/step - loss: 0.1230 - accuracy: 0.0000e+00\n",
      "Epoch 25/50\n",
      "3/3 [==============================] - 0s 2ms/step - loss: 0.1221 - accuracy: 0.0000e+00\n",
      "Epoch 26/50\n",
      "3/3 [==============================] - 0s 3ms/step - loss: 0.1221 - accuracy: 0.0000e+00\n",
      "Epoch 27/50\n",
      "3/3 [==============================] - 0s 3ms/step - loss: 0.1190 - accuracy: 0.0000e+00\n",
      "Epoch 28/50\n",
      "3/3 [==============================] - 0s 2ms/step - loss: 0.1170 - accuracy: 0.0000e+00\n",
      "Epoch 29/50\n",
      "3/3 [==============================] - 0s 3ms/step - loss: 0.1130 - accuracy: 0.0000e+00\n",
      "Epoch 30/50\n",
      "3/3 [==============================] - 0s 3ms/step - loss: 0.1180 - accuracy: 0.0000e+00\n",
      "Epoch 31/50\n",
      "3/3 [==============================] - 0s 2ms/step - loss: 0.1176 - accuracy: 0.0000e+00\n",
      "Epoch 32/50\n",
      "3/3 [==============================] - 0s 3ms/step - loss: 0.1172 - accuracy: 0.0000e+00\n",
      "Epoch 33/50\n",
      "3/3 [==============================] - 0s 2ms/step - loss: 0.1109 - accuracy: 0.0000e+00\n",
      "Epoch 34/50\n",
      "3/3 [==============================] - 0s 2ms/step - loss: 0.1152 - accuracy: 0.0000e+00\n",
      "Epoch 35/50\n",
      "3/3 [==============================] - 0s 4ms/step - loss: 0.1164 - accuracy: 0.0000e+00\n",
      "Epoch 36/50\n",
      "3/3 [==============================] - 0s 3ms/step - loss: 0.1150 - accuracy: 0.0000e+00\n",
      "Epoch 37/50\n",
      "3/3 [==============================] - 0s 1ms/step - loss: 0.1082 - accuracy: 0.0000e+00\n",
      "Epoch 38/50\n",
      "3/3 [==============================] - 0s 3ms/step - loss: 0.1153 - accuracy: 0.0000e+00\n",
      "Epoch 39/50\n",
      "3/3 [==============================] - 0s 4ms/step - loss: 0.1173 - accuracy: 0.0092\n",
      "Epoch 40/50\n",
      "3/3 [==============================] - 0s 2ms/step - loss: 0.1138 - accuracy: 0.0000e+00\n",
      "Epoch 41/50\n",
      "3/3 [==============================] - 0s 3ms/step - loss: 0.1115 - accuracy: 0.0000e+00\n",
      "Epoch 42/50\n",
      "3/3 [==============================] - 0s 2ms/step - loss: 0.1137 - accuracy: 0.0092\n",
      "Epoch 43/50\n",
      "3/3 [==============================] - 0s 2ms/step - loss: 0.1159 - accuracy: 0.0000e+00\n",
      "Epoch 44/50\n",
      "3/3 [==============================] - 0s 2ms/step - loss: 0.1178 - accuracy: 0.0000e+00\n",
      "Epoch 45/50\n",
      "3/3 [==============================] - 0s 1ms/step - loss: 0.1156 - accuracy: 0.0000e+00\n",
      "Epoch 46/50\n",
      "3/3 [==============================] - 0s 1ms/step - loss: 0.1103 - accuracy: 0.0000e+00\n",
      "Epoch 47/50\n",
      "3/3 [==============================] - 0s 1ms/step - loss: 0.1120 - accuracy: 0.0000e+00\n",
      "Epoch 48/50\n",
      "3/3 [==============================] - 0s 1ms/step - loss: 0.1160 - accuracy: 0.0000e+00\n",
      "Epoch 49/50\n",
      "3/3 [==============================] - 0s 1ms/step - loss: 0.1148 - accuracy: 0.0000e+00\n",
      "Epoch 50/50\n",
      "3/3 [==============================] - 0s 1ms/step - loss: 0.1173 - accuracy: 0.0000e+00\n",
      "2/2 [==============================] - 0s 3ms/step - loss: 0.1181 - accuracy: 0.0000e+00\n"
     ]
    },
    {
     "data": {
      "text/plain": [
       "[0.11805600672960281, 0.0]"
      ]
     },
     "execution_count": 11,
     "metadata": {},
     "output_type": "execute_result"
    }
   ],
   "source": [
    "model2.fit(X_train2, Y_train3, epochs=50)\n",
    "model2.evaluate(X_test2,Y_test3)"
   ]
  }
 ],
 "metadata": {
  "kernelspec": {
   "display_name": "Python 3 (ipykernel)",
   "language": "python",
   "name": "python3"
  },
  "language_info": {
   "codemirror_mode": {
    "name": "ipython",
    "version": 3
   },
   "file_extension": ".py",
   "mimetype": "text/x-python",
   "name": "python",
   "nbconvert_exporter": "python",
   "pygments_lexer": "ipython3",
   "version": "3.9.7"
  }
 },
 "nbformat": 4,
 "nbformat_minor": 5
}
