{
 "cells": [
  {
   "cell_type": "markdown",
   "id": "72b5adf8-13ae-488b-9c73-4bd656bff6c6",
   "metadata": {
    "tags": []
   },
   "source": [
    "# Non-Tree based algorithms"
   ]
  },
  {
   "cell_type": "code",
   "execution_count": 1,
   "id": "6a8a44b3-ab45-4310-8964-5bc80c8de799",
   "metadata": {},
   "outputs": [],
   "source": [
    "import pandas as pd\n",
    "from sklearn.linear_model import LinearRegression\n",
    "from sklearn.linear_model import Ridge\n",
    "from sklearn.linear_model import Lasso\n",
    "from sklearn.neighbors import KNeighborsRegressor\n",
    "from sklearn.neighbors import RadiusNeighborsRegressor\n",
    "from sklearn.svm import SVR\n",
    "from sklearn.model_selection import train_test_split\n",
    "import matplotlib.pyplot as plt"
   ]
  },
  {
   "cell_type": "code",
   "execution_count": 2,
   "id": "0d8ac296-2c85-4f0b-adbe-2d9e4eef744f",
   "metadata": {},
   "outputs": [],
   "source": [
    "grd = pd.read_csv(\"../data/graphene_data_final.csv\")"
   ]
  },
  {
   "cell_type": "code",
   "execution_count": 3,
   "id": "f2eac3d3-8bcd-4d7c-8e60-2a7b0ede8400",
   "metadata": {},
   "outputs": [],
   "source": [
    "X = grd[['Graphene_percentage', 'FEED', 'RPM', 'DOC']]  \n",
    "#X = grd[['FEED', 'DOC']]  \n",
    "Y = grd['MRR_gm_per_sec']\n",
    "\n",
    "X_train, X_test, Y_train, Y_test = train_test_split(X, Y, test_size = 0.3, random_state=1)"
   ]
  },
  {
   "cell_type": "code",
   "execution_count": 4,
   "id": "9a15a071-2475-4613-9c28-02d7a41aa12f",
   "metadata": {},
   "outputs": [],
   "source": [
    "reg = LinearRegression().fit(X_train, Y_train)"
   ]
  },
  {
   "cell_type": "code",
   "execution_count": 5,
   "id": "4e261bf3-5178-4742-94ee-6369dd703a1a",
   "metadata": {},
   "outputs": [
    {
     "name": "stdout",
     "output_type": "stream",
     "text": [
      "0.814927969191502\n"
     ]
    }
   ],
   "source": [
    "print(reg.score(X_test,Y_test))"
   ]
  },
  {
   "cell_type": "code",
   "execution_count": 6,
   "id": "5082ed8a-2b34-42ea-8c17-6366aaef5a97",
   "metadata": {},
   "outputs": [
    {
     "name": "stdout",
     "output_type": "stream",
     "text": [
      "0.814927969191502\n"
     ]
    }
   ],
   "source": [
    "print(reg.score(X_test,Y_test))"
   ]
  },
  {
   "cell_type": "code",
   "execution_count": 7,
   "id": "ae945272-e1d1-4752-b5ee-79d85806839e",
   "metadata": {},
   "outputs": [
    {
     "data": {
      "text/html": [
       "<div>\n",
       "<style scoped>\n",
       "    .dataframe tbody tr th:only-of-type {\n",
       "        vertical-align: middle;\n",
       "    }\n",
       "\n",
       "    .dataframe tbody tr th {\n",
       "        vertical-align: top;\n",
       "    }\n",
       "\n",
       "    .dataframe thead th {\n",
       "        text-align: right;\n",
       "    }\n",
       "</style>\n",
       "<table border=\"1\" class=\"dataframe\">\n",
       "  <thead>\n",
       "    <tr style=\"text-align: right;\">\n",
       "      <th></th>\n",
       "      <th>Graphene_percentage</th>\n",
       "      <th>FEED</th>\n",
       "      <th>RPM</th>\n",
       "      <th>DOC</th>\n",
       "      <th>MRR_gm_per_sec</th>\n",
       "      <th>Ra</th>\n",
       "    </tr>\n",
       "  </thead>\n",
       "  <tbody>\n",
       "    <tr>\n",
       "      <th>0</th>\n",
       "      <td>0.00</td>\n",
       "      <td>100</td>\n",
       "      <td>1000</td>\n",
       "      <td>0.10</td>\n",
       "      <td>0.012697</td>\n",
       "      <td>0.418</td>\n",
       "    </tr>\n",
       "    <tr>\n",
       "      <th>1</th>\n",
       "      <td>0.00</td>\n",
       "      <td>100</td>\n",
       "      <td>1000</td>\n",
       "      <td>0.15</td>\n",
       "      <td>0.020327</td>\n",
       "      <td>0.959</td>\n",
       "    </tr>\n",
       "    <tr>\n",
       "      <th>2</th>\n",
       "      <td>0.00</td>\n",
       "      <td>100</td>\n",
       "      <td>1000</td>\n",
       "      <td>0.20</td>\n",
       "      <td>0.031002</td>\n",
       "      <td>0.331</td>\n",
       "    </tr>\n",
       "    <tr>\n",
       "      <th>3</th>\n",
       "      <td>0.00</td>\n",
       "      <td>100</td>\n",
       "      <td>2000</td>\n",
       "      <td>0.10</td>\n",
       "      <td>0.012720</td>\n",
       "      <td>0.378</td>\n",
       "    </tr>\n",
       "    <tr>\n",
       "      <th>4</th>\n",
       "      <td>0.00</td>\n",
       "      <td>100</td>\n",
       "      <td>2000</td>\n",
       "      <td>0.15</td>\n",
       "      <td>0.019914</td>\n",
       "      <td>0.441</td>\n",
       "    </tr>\n",
       "    <tr>\n",
       "      <th>...</th>\n",
       "      <td>...</td>\n",
       "      <td>...</td>\n",
       "      <td>...</td>\n",
       "      <td>...</td>\n",
       "      <td>...</td>\n",
       "      <td>...</td>\n",
       "    </tr>\n",
       "    <tr>\n",
       "      <th>130</th>\n",
       "      <td>0.03</td>\n",
       "      <td>200</td>\n",
       "      <td>2000</td>\n",
       "      <td>0.15</td>\n",
       "      <td>0.041111</td>\n",
       "      <td>0.708</td>\n",
       "    </tr>\n",
       "    <tr>\n",
       "      <th>131</th>\n",
       "      <td>0.03</td>\n",
       "      <td>200</td>\n",
       "      <td>2000</td>\n",
       "      <td>0.20</td>\n",
       "      <td>0.050602</td>\n",
       "      <td>0.586</td>\n",
       "    </tr>\n",
       "    <tr>\n",
       "      <th>132</th>\n",
       "      <td>0.03</td>\n",
       "      <td>200</td>\n",
       "      <td>3000</td>\n",
       "      <td>0.10</td>\n",
       "      <td>0.021910</td>\n",
       "      <td>0.906</td>\n",
       "    </tr>\n",
       "    <tr>\n",
       "      <th>133</th>\n",
       "      <td>0.03</td>\n",
       "      <td>200</td>\n",
       "      <td>3000</td>\n",
       "      <td>0.15</td>\n",
       "      <td>0.038930</td>\n",
       "      <td>0.927</td>\n",
       "    </tr>\n",
       "    <tr>\n",
       "      <th>134</th>\n",
       "      <td>0.03</td>\n",
       "      <td>200</td>\n",
       "      <td>3000</td>\n",
       "      <td>0.20</td>\n",
       "      <td>0.047250</td>\n",
       "      <td>1.284</td>\n",
       "    </tr>\n",
       "  </tbody>\n",
       "</table>\n",
       "<p>135 rows × 6 columns</p>\n",
       "</div>"
      ],
      "text/plain": [
       "     Graphene_percentage  FEED   RPM   DOC  MRR_gm_per_sec     Ra\n",
       "0                   0.00   100  1000  0.10        0.012697  0.418\n",
       "1                   0.00   100  1000  0.15        0.020327  0.959\n",
       "2                   0.00   100  1000  0.20        0.031002  0.331\n",
       "3                   0.00   100  2000  0.10        0.012720  0.378\n",
       "4                   0.00   100  2000  0.15        0.019914  0.441\n",
       "..                   ...   ...   ...   ...             ...    ...\n",
       "130                 0.03   200  2000  0.15        0.041111  0.708\n",
       "131                 0.03   200  2000  0.20        0.050602  0.586\n",
       "132                 0.03   200  3000  0.10        0.021910  0.906\n",
       "133                 0.03   200  3000  0.15        0.038930  0.927\n",
       "134                 0.03   200  3000  0.20        0.047250  1.284\n",
       "\n",
       "[135 rows x 6 columns]"
      ]
     },
     "execution_count": 7,
     "metadata": {},
     "output_type": "execute_result"
    }
   ],
   "source": [
    "grd"
   ]
  },
  {
   "cell_type": "markdown",
   "id": "22d0c98f-bcb1-4b84-9149-ead0963a9ca5",
   "metadata": {},
   "source": [
    "`grd_norm` is the normalized form of original `grd` dataframe having minimum and maximum \n",
    "value 0 and 1 respectively."
   ]
  },
  {
   "cell_type": "code",
   "execution_count": 8,
   "id": "3194a2c6-9cf3-4d9d-9973-4c240b174a6d",
   "metadata": {},
   "outputs": [],
   "source": [
    "grd_norm = (grd-grd.min())/(grd.max()-grd.min())"
   ]
  },
  {
   "cell_type": "code",
   "execution_count": 9,
   "id": "43276df6-ffa9-4547-8426-3718ef356d07",
   "metadata": {},
   "outputs": [
    {
     "data": {
      "text/html": [
       "<div>\n",
       "<style scoped>\n",
       "    .dataframe tbody tr th:only-of-type {\n",
       "        vertical-align: middle;\n",
       "    }\n",
       "\n",
       "    .dataframe tbody tr th {\n",
       "        vertical-align: top;\n",
       "    }\n",
       "\n",
       "    .dataframe thead th {\n",
       "        text-align: right;\n",
       "    }\n",
       "</style>\n",
       "<table border=\"1\" class=\"dataframe\">\n",
       "  <thead>\n",
       "    <tr style=\"text-align: right;\">\n",
       "      <th></th>\n",
       "      <th>Graphene_percentage</th>\n",
       "      <th>FEED</th>\n",
       "      <th>RPM</th>\n",
       "      <th>DOC</th>\n",
       "      <th>MRR_gm_per_sec</th>\n",
       "      <th>Ra</th>\n",
       "    </tr>\n",
       "  </thead>\n",
       "  <tbody>\n",
       "    <tr>\n",
       "      <th>0</th>\n",
       "      <td>0.0</td>\n",
       "      <td>0.0</td>\n",
       "      <td>0.0</td>\n",
       "      <td>0.0</td>\n",
       "      <td>0.139634</td>\n",
       "      <td>0.035925</td>\n",
       "    </tr>\n",
       "    <tr>\n",
       "      <th>1</th>\n",
       "      <td>0.0</td>\n",
       "      <td>0.0</td>\n",
       "      <td>0.0</td>\n",
       "      <td>0.5</td>\n",
       "      <td>0.246225</td>\n",
       "      <td>0.187763</td>\n",
       "    </tr>\n",
       "    <tr>\n",
       "      <th>2</th>\n",
       "      <td>0.0</td>\n",
       "      <td>0.0</td>\n",
       "      <td>0.0</td>\n",
       "      <td>1.0</td>\n",
       "      <td>0.395366</td>\n",
       "      <td>0.011507</td>\n",
       "    </tr>\n",
       "    <tr>\n",
       "      <th>3</th>\n",
       "      <td>0.0</td>\n",
       "      <td>0.0</td>\n",
       "      <td>0.5</td>\n",
       "      <td>0.0</td>\n",
       "      <td>0.139952</td>\n",
       "      <td>0.024698</td>\n",
       "    </tr>\n",
       "    <tr>\n",
       "      <th>4</th>\n",
       "      <td>0.0</td>\n",
       "      <td>0.0</td>\n",
       "      <td>0.5</td>\n",
       "      <td>0.5</td>\n",
       "      <td>0.240453</td>\n",
       "      <td>0.042380</td>\n",
       "    </tr>\n",
       "    <tr>\n",
       "      <th>...</th>\n",
       "      <td>...</td>\n",
       "      <td>...</td>\n",
       "      <td>...</td>\n",
       "      <td>...</td>\n",
       "      <td>...</td>\n",
       "      <td>...</td>\n",
       "    </tr>\n",
       "    <tr>\n",
       "      <th>130</th>\n",
       "      <td>1.0</td>\n",
       "      <td>1.0</td>\n",
       "      <td>0.5</td>\n",
       "      <td>0.5</td>\n",
       "      <td>0.536598</td>\n",
       "      <td>0.117317</td>\n",
       "    </tr>\n",
       "    <tr>\n",
       "      <th>131</th>\n",
       "      <td>1.0</td>\n",
       "      <td>1.0</td>\n",
       "      <td>0.5</td>\n",
       "      <td>1.0</td>\n",
       "      <td>0.669192</td>\n",
       "      <td>0.083076</td>\n",
       "    </tr>\n",
       "    <tr>\n",
       "      <th>132</th>\n",
       "      <td>1.0</td>\n",
       "      <td>1.0</td>\n",
       "      <td>1.0</td>\n",
       "      <td>0.0</td>\n",
       "      <td>0.268340</td>\n",
       "      <td>0.172888</td>\n",
       "    </tr>\n",
       "    <tr>\n",
       "      <th>133</th>\n",
       "      <td>1.0</td>\n",
       "      <td>1.0</td>\n",
       "      <td>1.0</td>\n",
       "      <td>0.5</td>\n",
       "      <td>0.506133</td>\n",
       "      <td>0.178782</td>\n",
       "    </tr>\n",
       "    <tr>\n",
       "      <th>134</th>\n",
       "      <td>1.0</td>\n",
       "      <td>1.0</td>\n",
       "      <td>1.0</td>\n",
       "      <td>1.0</td>\n",
       "      <td>0.622363</td>\n",
       "      <td>0.278978</td>\n",
       "    </tr>\n",
       "  </tbody>\n",
       "</table>\n",
       "<p>135 rows × 6 columns</p>\n",
       "</div>"
      ],
      "text/plain": [
       "     Graphene_percentage  FEED  RPM  DOC  MRR_gm_per_sec        Ra\n",
       "0                    0.0   0.0  0.0  0.0        0.139634  0.035925\n",
       "1                    0.0   0.0  0.0  0.5        0.246225  0.187763\n",
       "2                    0.0   0.0  0.0  1.0        0.395366  0.011507\n",
       "3                    0.0   0.0  0.5  0.0        0.139952  0.024698\n",
       "4                    0.0   0.0  0.5  0.5        0.240453  0.042380\n",
       "..                   ...   ...  ...  ...             ...       ...\n",
       "130                  1.0   1.0  0.5  0.5        0.536598  0.117317\n",
       "131                  1.0   1.0  0.5  1.0        0.669192  0.083076\n",
       "132                  1.0   1.0  1.0  0.0        0.268340  0.172888\n",
       "133                  1.0   1.0  1.0  0.5        0.506133  0.178782\n",
       "134                  1.0   1.0  1.0  1.0        0.622363  0.278978\n",
       "\n",
       "[135 rows x 6 columns]"
      ]
     },
     "execution_count": 9,
     "metadata": {},
     "output_type": "execute_result"
    }
   ],
   "source": [
    "grd_norm"
   ]
  },
  {
   "cell_type": "code",
   "execution_count": 10,
   "id": "2432eff7-d9f4-4990-afd3-f195bf9328c7",
   "metadata": {},
   "outputs": [],
   "source": [
    "X2 = grd_norm[['Graphene_percentage', 'FEED', 'RPM', 'DOC']]  \n",
    "#X = grd[['FEED', 'DOC']]  \n",
    "Y2 = grd_norm['MRR_gm_per_sec']\n",
    "X_train2, X_test2, Y_train2, Y_test2 = train_test_split(X2, Y2, test_size = 0.3, random_state=3)"
   ]
  },
  {
   "cell_type": "code",
   "execution_count": 11,
   "id": "fb2c32b3-446e-498c-be7d-69d0742bda9b",
   "metadata": {},
   "outputs": [],
   "source": [
    "reg2 = LinearRegression().fit(X_train2, Y_train2)"
   ]
  },
  {
   "cell_type": "code",
   "execution_count": 12,
   "id": "0abb4f43-f011-4f15-9f0e-ce5d3bd0ad51",
   "metadata": {},
   "outputs": [
    {
     "name": "stdout",
     "output_type": "stream",
     "text": [
      "-13867810.470065743\n"
     ]
    }
   ],
   "source": [
    "print(reg2.score(X_test,Y_test))"
   ]
  },
  {
   "cell_type": "code",
   "execution_count": 13,
   "id": "5f9d0523-7b22-4889-a3e1-507090543e59",
   "metadata": {},
   "outputs": [
    {
     "data": {
      "text/plain": [
       "Text(0, 0.5, 'Score')"
      ]
     },
     "execution_count": 13,
     "metadata": {},
     "output_type": "execute_result"
    },
    {
     "data": {
      "image/png": "[encoded data removed]",
      "text/plain": [
       "<Figure size 432x288 with 1 Axes>"
      ]
     },
     "metadata": {
      "needs_background": "light"
     },
     "output_type": "display_data"
    }
   ],
   "source": [
    "alpha_x = []\n",
    "score_y = []\n",
    "for i in range(-11,11):\n",
    "    ridge_m = Ridge(alpha=10**i).fit(X_train, Y_train)\n",
    "    alpha_x.append(i)\n",
    "    score_y.append(ridge_m.score(X_test,Y_test))\n",
    "plt.plot(alpha_x,score_y)\n",
    "plt.xlabel(\"log(alpha)\")\n",
    "plt.ylabel(\"Score\")"
   ]
  },
  {
   "cell_type": "code",
   "execution_count": 14,
   "id": "7997a836-5c12-404b-986b-87dd6081135c",
   "metadata": {},
   "outputs": [
    {
     "data": {
      "text/plain": [
       "0.8149331616626572"
      ]
     },
     "execution_count": 14,
     "metadata": {},
     "output_type": "execute_result"
    }
   ],
   "source": [
    "Ridge(alpha=10**-5).fit(X_train, Y_train).score(X_test,Y_test)"
   ]
  },
  {
   "cell_type": "markdown",
   "id": "d7e9fa4d-e570-4f46-ac1d-44c7019f0a46",
   "metadata": {},
   "source": [
    "# Make plots of different hyperparameters and their corresponding model score."
   ]
  },
  {
   "cell_type": "code",
   "execution_count": 15,
   "id": "fb0d8bbf-8c0c-40cf-8dd5-ce2e55160246",
   "metadata": {},
   "outputs": [
    {
     "data": {
      "text/plain": [
       "Text(0, 0.5, 'Score')"
      ]
     },
     "execution_count": 15,
     "metadata": {},
     "output_type": "execute_result"
    },
    {
     "data": {
      "image/png": "[encoded data removed]",
      "text/plain": [
       "<Figure size 432x288 with 1 Axes>"
      ]
     },
     "metadata": {
      "needs_background": "light"
     },
     "output_type": "display_data"
    }
   ],
   "source": [
    "alpha_x = []\n",
    "score_y = []\n",
    "for i in range(-15,11):\n",
    "    ridge_m = Lasso(alpha=10**i).fit(X_train, Y_train)\n",
    "    alpha_x.append(i)\n",
    "    score_y.append(ridge_m.score(X_test,Y_test))\n",
    "plt.plot(alpha_x,score_y)\n",
    "plt.xlabel(\"log(alpha)\")\n",
    "plt.ylabel(\"Score\")"
   ]
  },
  {
   "cell_type": "code",
   "execution_count": 16,
   "id": "95f08ef2-e951-486f-baf3-c7c43d455b7e",
   "metadata": {},
   "outputs": [
    {
     "data": {
      "text/plain": [
       "0.8149689491945779"
      ]
     },
     "execution_count": 16,
     "metadata": {},
     "output_type": "execute_result"
    }
   ],
   "source": [
    "Lasso(alpha=(10**-7)).fit(X_train,Y_train).score(X_test,Y_test)"
   ]
  },
  {
   "cell_type": "code",
   "execution_count": 17,
   "id": "0916850d-e2b3-4c0e-bcf4-c690daf4b415",
   "metadata": {},
   "outputs": [
    {
     "data": {
      "text/plain": [
       "Text(0, 0.5, 'Score')"
      ]
     },
     "execution_count": 17,
     "metadata": {},
     "output_type": "execute_result"
    },
    {
     "data": {
      "image/png": "[encoded data removed]",
      "text/plain": [
       "<Figure size 432x288 with 1 Axes>"
      ]
     },
     "metadata": {
      "needs_background": "light"
     },
     "output_type": "display_data"
    }
   ],
   "source": [
    "knn_x = []\n",
    "score_y = []\n",
    "for i in range(1,30):\n",
    "    knn = KNeighborsRegressor(n_neighbors=i)\n",
    "    knn.fit(X_train, Y_train)\n",
    "    knn_x.append(i)\n",
    "    score_y.append(knn.score(X_test,Y_test))\n",
    "plt.plot(knn_x,score_y)\n",
    "plt.xlabel(\"No of Neighbours\")\n",
    "plt.ylabel(\"Score\")"
   ]
  },
  {
   "cell_type": "code",
   "execution_count": 18,
   "id": "ac2a7b1a-5ac1-42e9-ac69-ee02ed56fb09",
   "metadata": {},
   "outputs": [
    {
     "data": {
      "text/plain": [
       "0.7939939304979726"
      ]
     },
     "execution_count": 18,
     "metadata": {},
     "output_type": "execute_result"
    }
   ],
   "source": [
    "KNeighborsRegressor(n_neighbors=2).fit(X_train, Y_train).score(X_test,Y_test)"
   ]
  },
  {
   "cell_type": "code",
   "execution_count": 19,
   "id": "f3aeb795-8099-4c49-9c01-ec62c53af397",
   "metadata": {},
   "outputs": [
    {
     "data": {
      "text/plain": [
       "Text(0, 0.5, 'Score')"
      ]
     },
     "execution_count": 19,
     "metadata": {},
     "output_type": "execute_result"
    },
    {
     "data": {
      "image/png": "[encoded data removed]",
      "text/plain": [
       "<Figure size 432x288 with 1 Axes>"
      ]
     },
     "metadata": {
      "needs_background": "light"
     },
     "output_type": "display_data"
    }
   ],
   "source": [
    "knn_x = []\n",
    "score_y = []\n",
    "for i in range(1,30):\n",
    "    knn2 = KNeighborsRegressor(n_neighbors=i)\n",
    "    knn2.fit(X_train2, Y_train2)\n",
    "    knn_x.append(i)\n",
    "    score_y.append(knn2.score(X_test2,Y_test2))\n",
    "plt.plot(knn_x,score_y)\n",
    "plt.xlabel(\"No of Neighbours\")\n",
    "plt.ylabel(\"Score\")"
   ]
  },
  {
   "cell_type": "code",
   "execution_count": 20,
   "id": "aaff7c05-46d7-4eac-963c-2c9351532d39",
   "metadata": {},
   "outputs": [
    {
     "data": {
      "text/plain": [
       "0.8783455089359131"
      ]
     },
     "execution_count": 20,
     "metadata": {},
     "output_type": "execute_result"
    }
   ],
   "source": [
    "KNeighborsRegressor(n_neighbors=7).fit(X_train2, Y_train2).score(X_test2,Y_test2)"
   ]
  },
  {
   "cell_type": "code",
   "execution_count": 21,
   "id": "f93ddc4c-3902-433f-a637-9d37cac30613",
   "metadata": {},
   "outputs": [
    {
     "data": {
      "text/plain": [
       "Text(0, 0.5, 'Score')"
      ]
     },
     "execution_count": 21,
     "metadata": {},
     "output_type": "execute_result"
    },
    {
     "data": {
      "image/png": "[encoded data removed]",
      "text/plain": [
       "<Figure size 432x288 with 1 Axes>"
      ]
     },
     "metadata": {
      "needs_background": "light"
     },
     "output_type": "display_data"
    }
   ],
   "source": [
    "rann_x = []\n",
    "score_y = []\n",
    "for i in [0.5,0.6,0.7,0.8,0.9,1,1.2,1.5,2]:\n",
    "    rann = RadiusNeighborsRegressor(radius=i)\n",
    "    rann.fit(X_train2, Y_train2)\n",
    "    rann_x.append(i)\n",
    "    score_y.append(rann.score(X_test2,Y_test2))\n",
    "plt.plot(rann_x,score_y)\n",
    "plt.xlabel(\"Radius\")\n",
    "plt.ylabel(\"Score\")"
   ]
  }
 ],
 "metadata": {
  "kernelspec": {
   "display_name": "Python 3 (ipykernel)",
   "language": "python",
   "name": "python3"
  },
  "language_info": {
   "codemirror_mode": {
    "name": "ipython",
    "version": 3
   },
   "file_extension": ".py",
   "mimetype": "text/x-python",
   "name": "python",
   "nbconvert_exporter": "python",
   "pygments_lexer": "ipython3",
   "version": "3.9.7"
  }
 },
 "nbformat": 4,
 "nbformat_minor": 5
}
