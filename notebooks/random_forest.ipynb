{
  "cells": [
    {
      "cell_type": "code",
      "execution_count": 44,
      "id": "308f9105-d540-4bfc-9a9e-1fd6e58c48a3",
      "metadata": {
        "id": "308f9105-d540-4bfc-9a9e-1fd6e58c48a3"
      },
      "outputs": [],
      "source": [
        "import numpy as np # linear algebra\n",
        "import pandas as pd # data processing, CSV file I/O (e.g. pd.read_csv)\n",
        "import matplotlib.pyplot as plt\n",
        "import seaborn as sns\n",
        "\n",
        "from sklearn.model_selection import train_test_split\n",
        "from sklearn.model_selection import cross_val_score\n",
        "from sklearn.model_selection import GridSearchCV\n",
        "from sklearn.ensemble import RandomForestRegressor\n",
        "from sklearn.metrics import accuracy_score\n",
        "from sklearn.model_selection import cross_validate"
      ]
    },
    {
      "cell_type": "code",
      "execution_count": 45,
      "id": "17ce6026-6073-493d-810f-97a58b26d89b",
      "metadata": {
        "id": "17ce6026-6073-493d-810f-97a58b26d89b"
      },
      "outputs": [],
      "source": [
        "grd = pd.read_csv(\"/content/graphene_data_final.csv\")"
      ]
    },
    {
      "cell_type": "code",
      "execution_count": 46,
      "id": "705b26fe-f135-45c5-82c2-82dc8659ef1f",
      "metadata": {
        "id": "705b26fe-f135-45c5-82c2-82dc8659ef1f"
      },
      "outputs": [],
      "source": [
        "X, Y = grd[['Graphene_percentage', 'FEED', 'RPM', 'DOC']], grd['MRR_gm_per_sec']\n",
        "Y2 = grd['Ra']"
      ]
    },
    {
      "cell_type": "code",
      "execution_count": 47,
      "id": "992786de-9dd6-47de-a4ed-7a466f6cb805",
      "metadata": {
        "id": "992786de-9dd6-47de-a4ed-7a466f6cb805"
      },
      "outputs": [],
      "source": [
        "X_train, X_test, Y_train, Y_test = train_test_split(X, Y, test_size=0.3, random_state=42)\n",
        "X_train, X_test, Y2_train, Y2_test = train_test_split(X, Y2, test_size=0.3, random_state=16)"
      ]
    },
    {
      "cell_type": "code",
      "execution_count": 48,
      "id": "0ad2715b-b32d-46fa-a672-7aaee443d1af",
      "metadata": {
        "id": "0ad2715b-b32d-46fa-a672-7aaee443d1af"
      },
      "outputs": [],
      "source": [
        "rfr=RandomForestRegressor(random_state=42)"
      ]
    },
    {
      "cell_type": "code",
      "execution_count": 49,
      "id": "543d6cd9-b6f9-4a32-ae8b-de93fc1dc57a",
      "metadata": {
        "id": "543d6cd9-b6f9-4a32-ae8b-de93fc1dc57a"
      },
      "outputs": [],
      "source": [
        "param_grid = { \n",
        "    'n_estimators': [30,40,50,70,100,150,200],\n",
        "    'max_features': ['auto', 'sqrt', 'log2'],\n",
        "    'max_depth' : [1,2,3,4,5,6,7,8,9],\n",
        "}"
      ]
    },
    {
      "cell_type": "code",
      "execution_count": 50,
      "id": "d89d58be-c64a-4482-a1e3-9dd5a8116992",
      "metadata": {
        "colab": {
          "base_uri": "https://localhost:8080/"
        },
        "id": "d89d58be-c64a-4482-a1e3-9dd5a8116992",
        "outputId": "f084ef25-865b-44a0-d982-ed377b6dcf73"
      },
      "outputs": [
        {
          "output_type": "execute_result",
          "data": {
            "text/plain": [
              "GridSearchCV(cv=5, estimator=RandomForestRegressor(random_state=42),\n",
              "             param_grid={'max_depth': [1, 2, 3, 4, 5, 6, 7, 8, 9],\n",
              "                         'max_features': ['auto', 'sqrt', 'log2'],\n",
              "                         'n_estimators': [30, 40, 50, 70, 100, 150, 200]})"
            ]
          },
          "metadata": {},
          "execution_count": 50
        }
      ],
      "source": [
        "CV_rfr = GridSearchCV(estimator=rfr, param_grid=param_grid, cv= 5)\n",
        "CV_rfr.fit(X_train, Y_train)"
      ]
    },
    {
      "cell_type": "code",
      "source": [
        "CV_rfr.score(X_train, Y_train)"
      ],
      "metadata": {
        "colab": {
          "base_uri": "https://localhost:8080/"
        },
        "id": "EfvE_xvTZgIK",
        "outputId": "a3db42e5-6be0-4a0f-e6f0-7be7d2ed4257"
      },
      "id": "EfvE_xvTZgIK",
      "execution_count": 51,
      "outputs": [
        {
          "output_type": "execute_result",
          "data": {
            "text/plain": [
              "0.4831339819133369"
            ]
          },
          "metadata": {},
          "execution_count": 51
        }
      ]
    },
    {
      "cell_type": "code",
      "execution_count": 52,
      "id": "c4bf2e19-47df-4e66-8446-cf1ca687488f",
      "metadata": {
        "colab": {
          "base_uri": "https://localhost:8080/"
        },
        "id": "c4bf2e19-47df-4e66-8446-cf1ca687488f",
        "outputId": "4bb4eb87-cbbb-4c1c-e8f6-19a36f248ec6"
      },
      "outputs": [
        {
          "output_type": "execute_result",
          "data": {
            "text/plain": [
              "-0.003600504622853551"
            ]
          },
          "metadata": {},
          "execution_count": 52
        }
      ],
      "source": [
        "CV_rfr.score(X_test, Y_test)"
      ]
    },
    {
      "cell_type": "code",
      "source": [
        "rfr2=RandomForestRegressor().fit(X_train, Y_train)"
      ],
      "metadata": {
        "id": "ztScfP-1Z_9C"
      },
      "id": "ztScfP-1Z_9C",
      "execution_count": 53,
      "outputs": []
    },
    {
      "cell_type": "code",
      "source": [
        "rfr2.score(X_test, Y_test)"
      ],
      "metadata": {
        "colab": {
          "base_uri": "https://localhost:8080/"
        },
        "id": "8wznfql1iAmh",
        "outputId": "73534a15-f0fd-4977-b319-0752b8e05a98"
      },
      "id": "8wznfql1iAmh",
      "execution_count": 54,
      "outputs": [
        {
          "output_type": "execute_result",
          "data": {
            "text/plain": [
              "-0.1107265400997135"
            ]
          },
          "metadata": {},
          "execution_count": 54
        }
      ]
    },
    {
      "cell_type": "code",
      "source": [
        "rfr2.score(X_train, Y_train)"
      ],
      "metadata": {
        "colab": {
          "base_uri": "https://localhost:8080/"
        },
        "id": "Rw4IkP8LiIN4",
        "outputId": "74138837-536e-4552-d57f-6923b4bfa044"
      },
      "id": "Rw4IkP8LiIN4",
      "execution_count": 55,
      "outputs": [
        {
          "output_type": "execute_result",
          "data": {
            "text/plain": [
              "0.8525148786525356"
            ]
          },
          "metadata": {},
          "execution_count": 55
        }
      ]
    },
    {
      "cell_type": "code",
      "source": [
        "rfr3=RandomForestRegressor()"
      ],
      "metadata": {
        "id": "kC1n7eQdi2T8"
      },
      "id": "kC1n7eQdi2T8",
      "execution_count": 56,
      "outputs": []
    },
    {
      "cell_type": "code",
      "source": [
        "cv_results = cross_validate(rfr3, X, Y, cv=4)\n",
        "sorted(cv_results.keys())"
      ],
      "metadata": {
        "colab": {
          "base_uri": "https://localhost:8080/"
        },
        "id": "xOyWVMSYileb",
        "outputId": "12328f1d-6356-46d6-84da-18db6a3ad688"
      },
      "id": "xOyWVMSYileb",
      "execution_count": 57,
      "outputs": [
        {
          "output_type": "execute_result",
          "data": {
            "text/plain": [
              "['fit_time', 'score_time', 'test_score']"
            ]
          },
          "metadata": {},
          "execution_count": 57
        }
      ]
    },
    {
      "cell_type": "code",
      "source": [
        "cv_results['test_score']"
      ],
      "metadata": {
        "colab": {
          "base_uri": "https://localhost:8080/"
        },
        "id": "5hDcPqmpis_U",
        "outputId": "7c0b1758-f87f-479a-8545-526e48103e11"
      },
      "id": "5hDcPqmpis_U",
      "execution_count": 58,
      "outputs": [
        {
          "output_type": "execute_result",
          "data": {
            "text/plain": [
              "array([0.86967093, 0.804864  , 0.88520875, 0.87442289])"
            ]
          },
          "metadata": {},
          "execution_count": 58
        }
      ]
    }
  ],
  "metadata": {
    "kernelspec": {
      "display_name": "Python 3 (ipykernel)",
      "language": "python",
      "name": "python3"
    },
    "language_info": {
      "codemirror_mode": {
        "name": "ipython",
        "version": 3
      },
      "file_extension": ".py",
      "mimetype": "text/x-python",
      "name": "python",
      "nbconvert_exporter": "python",
      "pygments_lexer": "ipython3",
      "version": "3.9.7"
    },
    "colab": {
      "name": "random_forest.ipynb",
      "provenance": []
    }
  },
  "nbformat": 4,
  "nbformat_minor": 5
}