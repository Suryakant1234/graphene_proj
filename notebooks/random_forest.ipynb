{
 "cells": [
  {
   "cell_type": "code",
   "execution_count": 1,
   "id": "308f9105-d540-4bfc-9a9e-1fd6e58c48a3",
   "metadata": {
    "id": "308f9105-d540-4bfc-9a9e-1fd6e58c48a3"
   },
   "outputs": [],
   "source": [
    "import numpy as np # linear algebra\n",
    "import pandas as pd # data processing, CSV file I/O (e.g. pd.read_csv)\n",
    "import matplotlib.pyplot as plt\n",
    "import seaborn as sns\n",
    "\n",
    "from sklearn.model_selection import train_test_split\n",
    "from sklearn.model_selection import cross_val_score\n",
    "from sklearn.model_selection import GridSearchCV\n",
    "from sklearn.ensemble import RandomForestRegressor\n",
    "from sklearn.metrics import accuracy_score\n",
    "from sklearn.model_selection import KFold"
   ]
  },
  {
   "cell_type": "code",
   "execution_count": 2,
   "id": "17ce6026-6073-493d-810f-97a58b26d89b",
   "metadata": {
    "id": "17ce6026-6073-493d-810f-97a58b26d89b"
   },
   "outputs": [],
   "source": [
    "grd = pd.read_csv(\"../data/graphene_data_final.csv\")"
   ]
  },
  {
   "cell_type": "markdown",
   "id": "e0718a51-7c52-4ade-b6e4-fa0437b35223",
   "metadata": {},
   "source": [
    "We are here creating 2 sets of features(input). In `X` variable we are storing a dataframe containing Graphene Percentage, Feed, Rotation and DOC. In `X2` we are storing only the two labels which have higher correlation with the MRR. Both X and X2 will be used to train the models and we will see which set of features produces better model.\n",
    "\n",
    "Similarly in `Y` variable we are storing MRR and in `Y2` the `Ra` value to use them as labels because we want to predict them."
   ]
  },
  {
   "cell_type": "code",
   "execution_count": 3,
   "id": "705b26fe-f135-45c5-82c2-82dc8659ef1f",
   "metadata": {
    "id": "705b26fe-f135-45c5-82c2-82dc8659ef1f"
   },
   "outputs": [],
   "source": [
    "X, Y = grd[['Graphene_percentage', 'FEED', 'RPM', 'DOC']], grd['MRR_gm_per_sec']\n",
    "Y2 = grd['Ra']"
   ]
  },
  {
   "cell_type": "code",
   "execution_count": 4,
   "id": "992786de-9dd6-47de-a4ed-7a466f6cb805",
   "metadata": {
    "id": "992786de-9dd6-47de-a4ed-7a466f6cb805"
   },
   "outputs": [],
   "source": [
    "X_train, X_test, Y_train, Y_test = train_test_split(X, Y, test_size=0.3, random_state=2)#)\n",
    "X_train2, X_test2, Y2_train, Y2_test = train_test_split(X, Y2, test_size=0.3, random_state=16)"
   ]
  },
  {
   "cell_type": "code",
   "execution_count": 5,
   "id": "0ad2715b-b32d-46fa-a672-7aaee443d1af",
   "metadata": {
    "id": "0ad2715b-b32d-46fa-a672-7aaee443d1af"
   },
   "outputs": [],
   "source": [
    "rfr=RandomForestRegressor(random_state=42)"
   ]
  },
  {
   "cell_type": "code",
   "execution_count": 6,
   "id": "543d6cd9-b6f9-4a32-ae8b-de93fc1dc57a",
   "metadata": {
    "id": "543d6cd9-b6f9-4a32-ae8b-de93fc1dc57a"
   },
   "outputs": [],
   "source": [
    "param_grid = { \n",
    "    'n_estimators': [5,10,15,20,30,70,100],\n",
    "    'min_samples_split': [2,4,8,12,16],\n",
    "    'max_features': ['auto', 'sqrt', 'log2'],\n",
    "    'max_depth' : [1,3,5,7,9,11,13,15],\n",
    "}"
   ]
  },
  {
   "cell_type": "code",
   "execution_count": 7,
   "id": "d89d58be-c64a-4482-a1e3-9dd5a8116992",
   "metadata": {
    "colab": {
     "base_uri": "https://localhost:8080/"
    },
    "id": "d89d58be-c64a-4482-a1e3-9dd5a8116992",
    "outputId": "f084ef25-865b-44a0-d982-ed377b6dcf73"
   },
   "outputs": [
    {
     "data": {
      "text/plain": [
       "GridSearchCV(cv=5, estimator=RandomForestRegressor(random_state=42),\n",
       "             param_grid={'max_depth': [1, 3, 5, 7, 9, 11, 13, 15],\n",
       "                         'max_features': ['auto', 'sqrt', 'log2'],\n",
       "                         'min_samples_split': [2, 4, 8, 12, 16],\n",
       "                         'n_estimators': [5, 10, 15, 20, 30, 70, 100]})"
      ]
     },
     "execution_count": 7,
     "metadata": {},
     "output_type": "execute_result"
    }
   ],
   "source": [
    "CV_rfr = GridSearchCV(estimator=rfr, param_grid=param_grid, cv= 5)\n",
    "CV_rfr.fit(X_train, Y_train)"
   ]
  },
  {
   "cell_type": "code",
   "execution_count": 8,
   "id": "EfvE_xvTZgIK",
   "metadata": {
    "colab": {
     "base_uri": "https://localhost:8080/"
    },
    "id": "EfvE_xvTZgIK",
    "outputId": "a3db42e5-6be0-4a0f-e6f0-7be7d2ed4257"
   },
   "outputs": [
    {
     "data": {
      "text/plain": [
       "0.9379428352354985"
      ]
     },
     "execution_count": 8,
     "metadata": {},
     "output_type": "execute_result"
    }
   ],
   "source": [
    "CV_rfr.score(X_train, Y_train)"
   ]
  },
  {
   "cell_type": "code",
   "execution_count": 9,
   "id": "c4bf2e19-47df-4e66-8446-cf1ca687488f",
   "metadata": {
    "colab": {
     "base_uri": "https://localhost:8080/"
    },
    "id": "c4bf2e19-47df-4e66-8446-cf1ca687488f",
    "outputId": "4bb4eb87-cbbb-4c1c-e8f6-19a36f248ec6"
   },
   "outputs": [
    {
     "data": {
      "text/plain": [
       "0.8687536821707537"
      ]
     },
     "execution_count": 9,
     "metadata": {},
     "output_type": "execute_result"
    }
   ],
   "source": [
    "CV_rfr.score(X_test, Y_test)"
   ]
  },
  {
   "cell_type": "code",
   "execution_count": 10,
   "id": "0497f049-3814-4265-98ca-cf570aead41c",
   "metadata": {},
   "outputs": [
    {
     "name": "stdout",
     "output_type": "stream",
     "text": [
      "{'max_depth': 5, 'max_features': 'auto', 'min_samples_split': 8, 'n_estimators': 5}\n"
     ]
    }
   ],
   "source": [
    "print(CV_rfr.best_params_)"
   ]
  },
  {
   "cell_type": "code",
   "execution_count": 11,
   "id": "2d0005da-5825-457e-b8b9-801d42c30a2e",
   "metadata": {},
   "outputs": [],
   "source": [
    "rfr2 = RandomForestRegressor(random_state=21)"
   ]
  },
  {
   "cell_type": "code",
   "execution_count": 12,
   "id": "3777e6f2-78cf-4bd1-a32a-440b879ef9b4",
   "metadata": {},
   "outputs": [
    {
     "data": {
      "text/plain": [
       "GridSearchCV(cv=5, estimator=RandomForestRegressor(random_state=21),\n",
       "             param_grid={'max_depth': [1, 3, 5, 7, 9, 11, 13, 15],\n",
       "                         'max_features': ['auto', 'sqrt', 'log2'],\n",
       "                         'min_samples_split': [2, 4, 8, 12, 16],\n",
       "                         'n_estimators': [5, 10, 15, 20, 30, 70, 100]})"
      ]
     },
     "execution_count": 12,
     "metadata": {},
     "output_type": "execute_result"
    }
   ],
   "source": [
    "CV_rfr2 = GridSearchCV(estimator=rfr2, param_grid=param_grid, cv= 5)\n",
    "CV_rfr2.fit(X_train2, Y2_train)"
   ]
  },
  {
   "cell_type": "code",
   "execution_count": 13,
   "id": "76e9f4c0-1d77-4fa8-abb5-75764ed85a2c",
   "metadata": {
    "tags": []
   },
   "outputs": [
    {
     "data": {
      "text/plain": [
       "0.5041910321714542"
      ]
     },
     "execution_count": 13,
     "metadata": {},
     "output_type": "execute_result"
    }
   ],
   "source": [
    "CV_rfr2.score(X_test2, Y2_test)"
   ]
  },
  {
   "cell_type": "code",
   "execution_count": 14,
   "id": "11483398-f6ef-42cd-8738-ca77188e2064",
   "metadata": {},
   "outputs": [
    {
     "name": "stdout",
     "output_type": "stream",
     "text": [
      "{'max_depth': 7, 'max_features': 'sqrt', 'min_samples_split': 4, 'n_estimators': 30}\n"
     ]
    }
   ],
   "source": [
    "print(CV_rfr2.best_params_)"
   ]
  },
  {
   "cell_type": "markdown",
   "id": "21b66f07-973d-4f3a-b4de-9ec7ec492f96",
   "metadata": {},
   "source": [
    "Now let's save the models for further usage."
   ]
  },
  {
   "cell_type": "code",
   "execution_count": 15,
   "id": "a1f4e3a6-7526-4dbb-8631-8f810c077b12",
   "metadata": {},
   "outputs": [],
   "source": [
    "import pickle\n",
    "with open('../trained_models/random_forest_MRR.pkl','wb') as f:\n",
    "    pickle.dump(CV_rfr,f)"
   ]
  },
  {
   "cell_type": "code",
   "execution_count": 16,
   "id": "4f2cc7b1-1132-4519-b60a-9d658dcebe55",
   "metadata": {},
   "outputs": [],
   "source": [
    "with open('../trained_models/random_forest_RA.pkl','wb') as f:\n",
    "    pickle.dump(CV_rfr2,f)"
   ]
  }
 ],
 "metadata": {
  "colab": {
   "name": "random_forest.ipynb",
   "provenance": []
  },
  "kernelspec": {
   "display_name": "Python 3 (ipykernel)",
   "language": "python",
   "name": "python3"
  },
  "language_info": {
   "codemirror_mode": {
    "name": "ipython",
    "version": 3
   },
   "file_extension": ".py",
   "mimetype": "text/x-python",
   "name": "python",
   "nbconvert_exporter": "python",
   "pygments_lexer": "ipython3",
   "version": "3.9.7"
  }
 },
 "nbformat": 4,
 "nbformat_minor": 5
}
