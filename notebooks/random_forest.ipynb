{
 "cells": [
  {
   "cell_type": "code",
   "execution_count": 1,
   "id": "308f9105-d540-4bfc-9a9e-1fd6e58c48a3",
   "metadata": {
    "id": "308f9105-d540-4bfc-9a9e-1fd6e58c48a3"
   },
   "outputs": [],
   "source": [
    "import numpy as np # linear algebra\n",
    "import pandas as pd # data processing, CSV file I/O (e.g. pd.read_csv)\n",
    "import matplotlib.pyplot as plt\n",
    "import seaborn as sns\n",
    "\n",
    "from sklearn.model_selection import train_test_split\n",
    "from sklearn.model_selection import cross_val_score\n",
    "from sklearn.model_selection import GridSearchCV\n",
    "from sklearn.ensemble import RandomForestRegressor\n",
    "from sklearn.metrics import accuracy_score\n",
    "from sklearn.model_selection import cross_validate"
   ]
  },
  {
   "cell_type": "code",
   "execution_count": 2,
   "id": "17ce6026-6073-493d-810f-97a58b26d89b",
   "metadata": {
    "id": "17ce6026-6073-493d-810f-97a58b26d89b"
   },
   "outputs": [],
   "source": [
    "grd = pd.read_csv(\"../data/graphene_data_final.csv\")"
   ]
  },
  {
   "cell_type": "markdown",
   "id": "e0718a51-7c52-4ade-b6e4-fa0437b35223",
   "metadata": {},
   "source": [
    "We are here creating 2 sets of features(input). In `X` variable we are storing a dataframe containing Graphene Percentage, Feed, Rotation and DOC. In `X2` we are storing only the two labels which have higher correlation with the MRR. Both X and X2 will be used to train the models and we will see which set of features produces better model.\n",
    "\n",
    "Similarly in `Y` variable we are storing MRR and in `Y2` the `Ra` value to use them as labels because we want to predict them."
   ]
  },
  {
   "cell_type": "code",
   "execution_count": 3,
   "id": "705b26fe-f135-45c5-82c2-82dc8659ef1f",
   "metadata": {
    "id": "705b26fe-f135-45c5-82c2-82dc8659ef1f"
   },
   "outputs": [],
   "source": [
    "X, Y = grd[['Graphene_percentage', 'FEED', 'RPM', 'DOC']], grd['MRR_gm_per_sec']\n",
    "#Y2 = grd['Ra']\n",
    "X2 = grd[['FEED','DOC']]"
   ]
  },
  {
   "cell_type": "code",
   "execution_count": 4,
   "id": "12e83ee2-1fe5-455e-a874-8a76aaad5d96",
   "metadata": {},
   "outputs": [],
   "source": [
    "X_train2, X_test2, Y_train2, Y_test2 = train_test_split(X2, Y, test_size=0.3, random_state=33)"
   ]
  },
  {
   "cell_type": "code",
   "execution_count": 5,
   "id": "992786de-9dd6-47de-a4ed-7a466f6cb805",
   "metadata": {
    "id": "992786de-9dd6-47de-a4ed-7a466f6cb805"
   },
   "outputs": [],
   "source": [
    "X_train, X_test, Y_train, Y_test = train_test_split(X, Y, test_size=0.3, random_state=42)\n",
    "##X_train, X_test, Y2_train, Y2_test = train_test_split(X, Y2, test_size=0.3, random_state=16)"
   ]
  },
  {
   "cell_type": "code",
   "execution_count": 6,
   "id": "0ad2715b-b32d-46fa-a672-7aaee443d1af",
   "metadata": {
    "id": "0ad2715b-b32d-46fa-a672-7aaee443d1af"
   },
   "outputs": [],
   "source": [
    "rfr=RandomForestRegressor(random_state=42)"
   ]
  },
  {
   "cell_type": "code",
   "execution_count": 7,
   "id": "543d6cd9-b6f9-4a32-ae8b-de93fc1dc57a",
   "metadata": {
    "id": "543d6cd9-b6f9-4a32-ae8b-de93fc1dc57a"
   },
   "outputs": [],
   "source": [
    "param_grid = { \n",
    "    'n_estimators': [30,50,70,100,150,200],\n",
    "    'max_features': ['auto', 'sqrt', 'log2'],\n",
    "    'max_depth' : [1,2,3,4,5,6,7,8],\n",
    "}"
   ]
  },
  {
   "cell_type": "code",
   "execution_count": 8,
   "id": "d89d58be-c64a-4482-a1e3-9dd5a8116992",
   "metadata": {
    "colab": {
     "base_uri": "https://localhost:8080/"
    },
    "id": "d89d58be-c64a-4482-a1e3-9dd5a8116992",
    "outputId": "f084ef25-865b-44a0-d982-ed377b6dcf73"
   },
   "outputs": [
    {
     "data": {
      "text/plain": [
       "GridSearchCV(cv=5, estimator=RandomForestRegressor(random_state=42),\n",
       "             param_grid={'max_depth': [1, 2, 3, 4, 5, 6, 7, 8],\n",
       "                         'max_features': ['auto', 'sqrt', 'log2'],\n",
       "                         'n_estimators': [30, 50, 70, 100, 150, 200]})"
      ]
     },
     "execution_count": 8,
     "metadata": {},
     "output_type": "execute_result"
    }
   ],
   "source": [
    "CV_rfr = GridSearchCV(estimator=rfr, param_grid=param_grid, cv= 5)\n",
    "CV_rfr.fit(X_train, Y_train)"
   ]
  },
  {
   "cell_type": "code",
   "execution_count": 9,
   "id": "EfvE_xvTZgIK",
   "metadata": {
    "colab": {
     "base_uri": "https://localhost:8080/"
    },
    "id": "EfvE_xvTZgIK",
    "outputId": "a3db42e5-6be0-4a0f-e6f0-7be7d2ed4257"
   },
   "outputs": [
    {
     "data": {
      "text/plain": [
       "0.9034865985648013"
      ]
     },
     "execution_count": 9,
     "metadata": {},
     "output_type": "execute_result"
    }
   ],
   "source": [
    "CV_rfr.score(X_train, Y_train)"
   ]
  },
  {
   "cell_type": "code",
   "execution_count": 10,
   "id": "c4bf2e19-47df-4e66-8446-cf1ca687488f",
   "metadata": {
    "colab": {
     "base_uri": "https://localhost:8080/"
    },
    "id": "c4bf2e19-47df-4e66-8446-cf1ca687488f",
    "outputId": "4bb4eb87-cbbb-4c1c-e8f6-19a36f248ec6"
   },
   "outputs": [
    {
     "data": {
      "text/plain": [
       "0.8990755678317426"
      ]
     },
     "execution_count": 10,
     "metadata": {},
     "output_type": "execute_result"
    }
   ],
   "source": [
    "CV_rfr.score(X_test, Y_test)"
   ]
  },
  {
   "cell_type": "code",
   "execution_count": 11,
   "id": "ztScfP-1Z_9C",
   "metadata": {
    "id": "ztScfP-1Z_9C"
   },
   "outputs": [],
   "source": [
    "rfr2=RandomForestRegressor(n_estimators=100,max_depth=11,min_samples_split=8).fit(X_train, Y_train)"
   ]
  },
  {
   "cell_type": "code",
   "execution_count": 12,
   "id": "7d98efb8-0da3-4757-9009-f3670a178e16",
   "metadata": {},
   "outputs": [
    {
     "data": {
      "text/plain": [
       "0.9124443472953291"
      ]
     },
     "execution_count": 12,
     "metadata": {},
     "output_type": "execute_result"
    }
   ],
   "source": [
    "rfr2.score(X_test, Y_test)"
   ]
  },
  {
   "cell_type": "code",
   "execution_count": 13,
   "id": "8wznfql1iAmh",
   "metadata": {
    "colab": {
     "base_uri": "https://localhost:8080/"
    },
    "id": "8wznfql1iAmh",
    "outputId": "73534a15-f0fd-4977-b319-0752b8e05a98"
   },
   "outputs": [
    {
     "data": {
      "text/plain": [
       "0.9124443472953291"
      ]
     },
     "execution_count": 13,
     "metadata": {},
     "output_type": "execute_result"
    }
   ],
   "source": [
    "rfr2.score(X_test, Y_test)"
   ]
  },
  {
   "cell_type": "code",
   "execution_count": 14,
   "id": "Rw4IkP8LiIN4",
   "metadata": {
    "colab": {
     "base_uri": "https://localhost:8080/"
    },
    "id": "Rw4IkP8LiIN4",
    "outputId": "74138837-536e-4552-d57f-6923b4bfa044"
   },
   "outputs": [
    {
     "data": {
      "text/plain": [
       "0.9252891429445487"
      ]
     },
     "execution_count": 14,
     "metadata": {},
     "output_type": "execute_result"
    }
   ],
   "source": [
    "rfr2.score(X_train, Y_train)"
   ]
  },
  {
   "cell_type": "code",
   "execution_count": 15,
   "id": "kC1n7eQdi2T8",
   "metadata": {
    "id": "kC1n7eQdi2T8"
   },
   "outputs": [],
   "source": [
    "rfr3=RandomForestRegressor()"
   ]
  },
  {
   "cell_type": "code",
   "execution_count": 16,
   "id": "xOyWVMSYileb",
   "metadata": {
    "colab": {
     "base_uri": "https://localhost:8080/"
    },
    "id": "xOyWVMSYileb",
    "outputId": "12328f1d-6356-46d6-84da-18db6a3ad688"
   },
   "outputs": [
    {
     "data": {
      "text/plain": [
       "['fit_time', 'score_time', 'test_score']"
      ]
     },
     "execution_count": 16,
     "metadata": {},
     "output_type": "execute_result"
    }
   ],
   "source": [
    "cv_results = cross_validate(rfr3, X, Y, cv=5)\n",
    "sorted(cv_results.keys())"
   ]
  },
  {
   "cell_type": "code",
   "execution_count": 17,
   "id": "5hDcPqmpis_U",
   "metadata": {
    "colab": {
     "base_uri": "https://localhost:8080/"
    },
    "id": "5hDcPqmpis_U",
    "outputId": "7c0b1758-f87f-479a-8545-526e48103e11"
   },
   "outputs": [
    {
     "data": {
      "text/plain": [
       "array([0.86716287, 0.82100326, 0.80034666, 0.9166014 , 0.92575573])"
      ]
     },
     "execution_count": 17,
     "metadata": {},
     "output_type": "execute_result"
    }
   ],
   "source": [
    "cv_results['test_score']"
   ]
  },
  {
   "cell_type": "code",
   "execution_count": 18,
   "id": "5a311d85-bd09-4492-a46b-db19b73adc3c",
   "metadata": {},
   "outputs": [
    {
     "ename": "NameError",
     "evalue": "name 'Y_train3' is not defined",
     "output_type": "error",
     "traceback": [
      "\u001b[0;31m---------------------------------------------------------------------------\u001b[0m",
      "\u001b[0;31mNameError\u001b[0m                                 Traceback (most recent call last)",
      "Input \u001b[0;32mIn [18]\u001b[0m, in \u001b[0;36m<module>\u001b[0;34m\u001b[0m\n\u001b[1;32m      1\u001b[0m rfr4\u001b[38;5;241m=\u001b[39mRandomForestRegressor(n_estimators\u001b[38;5;241m=\u001b[39m\u001b[38;5;241m1200\u001b[39m,\n\u001b[1;32m      2\u001b[0m                            max_depth\u001b[38;5;241m=\u001b[39m\u001b[38;5;241m11\u001b[39m,\n\u001b[1;32m      3\u001b[0m                            min_samples_leaf\u001b[38;5;241m=\u001b[39m\u001b[38;5;241m2\u001b[39m,\n\u001b[0;32m----> 4\u001b[0m                            min_samples_split\u001b[38;5;241m=\u001b[39m\u001b[38;5;241m8\u001b[39m)\u001b[38;5;241m.\u001b[39mfit(X_train2, \u001b[43mY_train3\u001b[49m)\n",
      "\u001b[0;31mNameError\u001b[0m: name 'Y_train3' is not defined"
     ]
    }
   ],
   "source": [
    "rfr4=RandomForestRegressor(n_estimators=1200,\n",
    "                           max_depth=11,\n",
    "                           min_samples_leaf=2,\n",
    "                           min_samples_split=8).fit(X_train2, Y_train3)"
   ]
  },
  {
   "cell_type": "code",
   "execution_count": null,
   "id": "5b8cc801-9440-4080-bf63-6db7d944f0db",
   "metadata": {},
   "outputs": [],
   "source": [
    "rfr4.score(X_test2, Y_test3)"
   ]
  },
  {
   "cell_type": "code",
   "execution_count": null,
   "id": "8b3c5722-a364-451c-b6c8-56f819269b34",
   "metadata": {},
   "outputs": [],
   "source": [
    "rfr5 = RandomForestRegressor().fit(X_train,Y_train)"
   ]
  },
  {
   "cell_type": "code",
   "execution_count": null,
   "id": "6ce86497-527f-4275-905f-849cfcd8e618",
   "metadata": {},
   "outputs": [],
   "source": [
    "rfr5.score(X_test,Y_test)"
   ]
  },
  {
   "cell_type": "code",
   "execution_count": null,
   "id": "a1f4e3a6-7526-4dbb-8631-8f810c077b12",
   "metadata": {},
   "outputs": [],
   "source": [
    "import pickle\n",
    "# save\n",
    "with open('../trained_models/twovar_random_forest.pkl','wb') as f:\n",
    "    pickle.dump(rfr4,f)\n",
    "with open('../trained_models/fourvar_random_forest.pkl','wb') as p:\n",
    "    pickle.dump(rfr5,p)"
   ]
  }
 ],
 "metadata": {
  "colab": {
   "name": "random_forest.ipynb",
   "provenance": []
  },
  "kernelspec": {
   "display_name": "Python 3 (ipykernel)",
   "language": "python",
   "name": "python3"
  },
  "language_info": {
   "codemirror_mode": {
    "name": "ipython",
    "version": 3
   },
   "file_extension": ".py",
   "mimetype": "text/x-python",
   "name": "python",
   "nbconvert_exporter": "python",
   "pygments_lexer": "ipython3",
   "version": "3.9.7"
  }
 },
 "nbformat": 4,
 "nbformat_minor": 5
}
