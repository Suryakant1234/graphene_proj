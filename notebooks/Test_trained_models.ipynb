{
 "cells": [
  {
   "cell_type": "markdown",
   "id": "4ce4facc-e83f-42c8-85f5-5051f373c1c0",
   "metadata": {},
   "source": [
    "## Importing neccessary libraries"
   ]
  },
  {
   "cell_type": "code",
   "execution_count": 1,
   "id": "24fc43ca-f461-4a2e-b850-ced48ad9dccf",
   "metadata": {},
   "outputs": [
    {
     "name": "stderr",
     "output_type": "stream",
     "text": [
      "2022-04-10 00:04:03.597822: W tensorflow/stream_executor/platform/default/dso_loader.cc:64] Could not load dynamic library 'libcudart.so.11.0'; dlerror: libcudart.so.11.0: cannot open shared object file: No such file or directory\n",
      "2022-04-10 00:04:03.597855: I tensorflow/stream_executor/cuda/cudart_stub.cc:29] Ignore above cudart dlerror if you do not have a GPU set up on your machine.\n"
     ]
    }
   ],
   "source": [
    "import pickle\n",
    "import pandas as pd\n",
    "import numpy as np\n",
    "import tensorflow as tf"
   ]
  },
  {
   "cell_type": "markdown",
   "id": "2cae4b69-b74a-42a9-b037-b47ba69b7185",
   "metadata": {},
   "source": [
    "##"
   ]
  },
  {
   "cell_type": "code",
   "execution_count": 2,
   "id": "1bd36799-c378-4441-9a56-3a724cb5ad34",
   "metadata": {},
   "outputs": [],
   "source": [
    "gr_data = pd.read_csv(\"../data/graphene_data_final.csv\")"
   ]
  },
  {
   "cell_type": "code",
   "execution_count": 3,
   "id": "fe3398e1-fe1c-40d2-9fbe-bbd6d4a8507f",
   "metadata": {},
   "outputs": [],
   "source": [
    "X = gr_data[['Graphene_percentage', 'FEED', 'RPM', 'DOC']]\n",
    "Y = gr_data['MRR_gm_per_sec']\n",
    "Y2 = gr_data['Ra']"
   ]
  },
  {
   "cell_type": "code",
   "execution_count": 4,
   "id": "ce226d3e-7828-441a-85b6-7f2aa0e5b7d5",
   "metadata": {},
   "outputs": [
    {
     "name": "stdout",
     "output_type": "stream",
     "text": [
      "Graphene_percentage [0.    0.005 0.01  0.02  0.03 ]\n",
      "FEED [100 150 200]\n",
      "RPM [1000 2000 3000]\n",
      "DOC [0.1  0.15 0.2 ]\n"
     ]
    }
   ],
   "source": [
    "for i in X.columns:\n",
    "    print(str(i) +\" \"+str(X[i].unique()))"
   ]
  },
  {
   "cell_type": "markdown",
   "id": "c8cea970-80d1-4707-ba6f-3f6e9dfd60a7",
   "metadata": {},
   "source": [
    "## Loading previously saved models"
   ]
  },
  {
   "cell_type": "code",
   "execution_count": 5,
   "id": "835a8b68-26e0-4751-9a2b-3b542593d1c4",
   "metadata": {},
   "outputs": [],
   "source": [
    "with open('../trained_models/decision_tree_RA.pkl', 'rb') as p:\n",
    "    dtr_ra = pickle.load(p)"
   ]
  },
  {
   "cell_type": "code",
   "execution_count": 6,
   "id": "5d848af2-df6b-4dce-afbb-3b2193da1d54",
   "metadata": {},
   "outputs": [],
   "source": [
    "with open('../trained_models/decision_tree_MRR.pkl', 'rb') as p:\n",
    "    dtr_mrr = pickle.load(p)"
   ]
  },
  {
   "cell_type": "code",
   "execution_count": 7,
   "id": "586a483c-a76a-4881-8f25-7ff6b8cac6bb",
   "metadata": {},
   "outputs": [],
   "source": [
    "with open('../trained_models/random_forest_MRR.pkl', 'rb') as p:\n",
    "    rfr_mrr = pickle.load(p)"
   ]
  },
  {
   "cell_type": "code",
   "execution_count": 8,
   "id": "6e2e8382-226c-47ac-b5e0-74e6baadcca1",
   "metadata": {},
   "outputs": [],
   "source": [
    "with open('../trained_models/random_forest_RA.pkl', 'rb') as p:\n",
    "    rfr_ra = pickle.load(p)"
   ]
  },
  {
   "cell_type": "code",
   "execution_count": 9,
   "id": "62540868-6772-44b8-8240-e92a882ece99",
   "metadata": {},
   "outputs": [],
   "source": [
    "with open('../trained_models/gradient_boosting_MRR.pkl', 'rb') as p:\n",
    "    gbr_mrr = pickle.load(p)"
   ]
  },
  {
   "cell_type": "code",
   "execution_count": 10,
   "id": "518f5124-69b2-4ffd-b2ca-a5d7f66706f5",
   "metadata": {},
   "outputs": [],
   "source": [
    "with open('../trained_models/gradient_boosting_RA.pkl', 'rb') as p:\n",
    "    gbr_ra = pickle.load(p)"
   ]
  },
  {
   "cell_type": "code",
   "execution_count": 11,
   "id": "55480413-4fdb-4969-90c0-a9445c3edf10",
   "metadata": {},
   "outputs": [],
   "source": [
    "with open('../trained_models/ANN_RA_sklearn.pkl', 'rb') as p:\n",
    "    ann_sk_ra = pickle.load(p)"
   ]
  },
  {
   "cell_type": "code",
   "execution_count": 12,
   "id": "ccb992a0-6aae-4635-ba46-dcd749d76a6e",
   "metadata": {},
   "outputs": [],
   "source": [
    "with open('../trained_models/ANN_MRR_sklearn.pkl', 'rb') as p:\n",
    "    ann_sk_mrr = pickle.load(p)"
   ]
  },
  {
   "cell_type": "code",
   "execution_count": 13,
   "id": "4b377552-5e0f-4a31-aff4-98dcf337a256",
   "metadata": {},
   "outputs": [
    {
     "name": "stderr",
     "output_type": "stream",
     "text": [
      "2022-04-10 00:04:06.482389: W tensorflow/stream_executor/platform/default/dso_loader.cc:64] Could not load dynamic library 'libcuda.so.1'; dlerror: libcuda.so.1: cannot open shared object file: No such file or directory\n",
      "2022-04-10 00:04:06.482426: W tensorflow/stream_executor/cuda/cuda_driver.cc:269] failed call to cuInit: UNKNOWN ERROR (303)\n",
      "2022-04-10 00:04:06.482446: I tensorflow/stream_executor/cuda/cuda_diagnostics.cc:156] kernel driver does not appear to be running on this host (debian): /proc/driver/nvidia/version does not exist\n",
      "2022-04-10 00:04:06.482684: I tensorflow/core/platform/cpu_feature_guard.cc:151] This TensorFlow binary is optimized with oneAPI Deep Neural Network Library (oneDNN) to use the following CPU instructions in performance-critical operations:  AVX2 FMA\n",
      "To enable them in other operations, rebuild TensorFlow with the appropriate compiler flags.\n"
     ]
    }
   ],
   "source": [
    "dnn_mrr = tf.keras.models.load_model(\"../trained_models/ANN_MRR.h5\")\n",
    "dnn_ra = tf.keras.models.load_model(\"../trained_models/ANN_RA.h5\")"
   ]
  },
  {
   "cell_type": "markdown",
   "id": "225645da-aebe-44d5-894a-7323979a0371",
   "metadata": {},
   "source": [
    "## Prediction of MRR and Ra"
   ]
  },
  {
   "cell_type": "markdown",
   "id": "1e486fe9-e896-4a80-842c-10ca5ab7d998",
   "metadata": {},
   "source": [
    "### For predicting target values from feature(input) values of original dataset"
   ]
  },
  {
   "cell_type": "code",
   "execution_count": 14,
   "id": "d4f20755-c466-4fa5-bb6c-153f38db8973",
   "metadata": {},
   "outputs": [
    {
     "name": "stdin",
     "output_type": "stream",
     "text": [
      "Enter the serial number of observation:  111\n"
     ]
    }
   ],
   "source": [
    "a_ = int(input(\"Enter the serial number of observation: \"))\n",
    "b_ = a_ + 1"
   ]
  },
  {
   "cell_type": "code",
   "execution_count": 15,
   "id": "aa6106ae-95f8-45b0-b235-a97cdf764b1d",
   "metadata": {},
   "outputs": [
    {
     "name": "stderr",
     "output_type": "stream",
     "text": [
      "/home/explorer/.miniconda3/envs/pydaas/lib/python3.9/site-packages/sklearn/base.py:450: UserWarning: X does not have valid feature names, but RandomForestRegressor was fitted with feature names\n",
      "  warnings.warn(\n",
      "/home/explorer/.miniconda3/envs/pydaas/lib/python3.9/site-packages/sklearn/base.py:450: UserWarning: X does not have valid feature names, but DecisionTreeRegressor was fitted with feature names\n",
      "  warnings.warn(\n",
      "/home/explorer/.miniconda3/envs/pydaas/lib/python3.9/site-packages/sklearn/base.py:450: UserWarning: X does not have valid feature names, but GradientBoostingRegressor was fitted with feature names\n",
      "  warnings.warn(\n",
      "/home/explorer/.miniconda3/envs/pydaas/lib/python3.9/site-packages/sklearn/base.py:450: UserWarning: X does not have valid feature names, but MLPRegressor was fitted with feature names\n",
      "  warnings.warn(\n"
     ]
    },
    {
     "name": "stdout",
     "output_type": "stream",
     "text": [
      "Prediction of MRR by random forest is 0.010601076838535195\n",
      "Prediction of MRR by decision tree is 0.013566515948281855\n",
      "Prediction of MRR by gradient boosting is 0.013777576574763228\n",
      "Prediction of MRR by sklearn ann is 142.0860285891782\n",
      "Prediction of MRR by tensorflow ann is 33.178764\n",
      "Real value of MRR is 0.01177990430622\n"
     ]
    }
   ],
   "source": [
    "print(\"Prediction of MRR by random forest is \"+str(rfr_mrr.predict(X[a_:b_].to_numpy())[0]))\n",
    "print(\"Prediction of MRR by decision tree is \"+str(dtr_mrr.predict(X[a_:b_].to_numpy())[0]))\n",
    "print(\"Prediction of MRR by gradient boosting is \"+str(gbr_mrr.predict(X[a_:b_].to_numpy())[0]))\n",
    "print(\"Prediction of MRR by sklearn ann is \"+str(ann_sk_mrr.predict(X[a_:b_].to_numpy())[0]))\n",
    "print(\"Prediction of MRR by tensorflow ann is \"+str(dnn_ra.predict(X[a_:b_])[0][0]))\n",
    "print(\"Real value of MRR is \"+str(Y[a_:b_].to_numpy()[0]))"
   ]
  },
  {
   "cell_type": "code",
   "execution_count": 16,
   "id": "744deb4a-5b41-4e5a-9ea4-27b5c3346d30",
   "metadata": {},
   "outputs": [
    {
     "name": "stdout",
     "output_type": "stream",
     "text": [
      "Prediction of RA by random forest is 0.8326021693121693\n",
      "Prediction of RA by decision tree is 1.1214444444444445\n",
      "Prediction of RA by gradient boosting is 0.8840836819119717\n",
      "Prediction of RA by sklearn ann is 64.17153798666887\n",
      "Prediction of RA by tensorlow is 33.178764\n",
      "Real value of RA is 0.674\n"
     ]
    },
    {
     "name": "stderr",
     "output_type": "stream",
     "text": [
      "/home/explorer/.miniconda3/envs/pydaas/lib/python3.9/site-packages/sklearn/base.py:450: UserWarning: X does not have valid feature names, but RandomForestRegressor was fitted with feature names\n",
      "  warnings.warn(\n",
      "/home/explorer/.miniconda3/envs/pydaas/lib/python3.9/site-packages/sklearn/base.py:450: UserWarning: X does not have valid feature names, but DecisionTreeRegressor was fitted with feature names\n",
      "  warnings.warn(\n",
      "/home/explorer/.miniconda3/envs/pydaas/lib/python3.9/site-packages/sklearn/base.py:450: UserWarning: X does not have valid feature names, but GradientBoostingRegressor was fitted with feature names\n",
      "  warnings.warn(\n",
      "/home/explorer/.miniconda3/envs/pydaas/lib/python3.9/site-packages/sklearn/base.py:450: UserWarning: X does not have valid feature names, but MLPRegressor was fitted with feature names\n",
      "  warnings.warn(\n"
     ]
    }
   ],
   "source": [
    "print(\"Prediction of RA by random forest is \"+str(rfr_ra.predict(X[a_:b_].to_numpy())[0]))\n",
    "print(\"Prediction of RA by decision tree is \"+str(dtr_ra.predict(X[a_:b_].to_numpy())[0]))\n",
    "print(\"Prediction of RA by gradient boosting is \"+str(gbr_ra.predict(X[a_:b_].to_numpy())[0]))\n",
    "print(\"Prediction of RA by sklearn ann is \"+str(ann_sk_ra.predict(X[a_:b_].to_numpy())[0]))\n",
    "print(\"Prediction of RA by tensorlow is \"+str(dnn_ra.predict(X[a_:b_])[0][0]))\n",
    "print(\"Real value of RA is \"+str(Y2[a_:b_].to_numpy()[0]))"
   ]
  },
  {
   "cell_type": "markdown",
   "id": "9a282097-ba57-4664-92f4-f240abd6291a",
   "metadata": {},
   "source": [
    "### For predicting target values using unknown feature(input) values"
   ]
  },
  {
   "cell_type": "code",
   "execution_count": 17,
   "id": "54547291-57b4-418d-b943-b07232cbafe8",
   "metadata": {},
   "outputs": [
    {
     "name": "stdout",
     "output_type": "stream",
     "text": [
      "Graphene_percentage [0.    0.005 0.01  0.02  0.03 ]\n",
      "FEED [100 150 200]\n",
      "RPM [1000 2000 3000]\n",
      "DOC [0.1  0.15 0.2 ]\n"
     ]
    }
   ],
   "source": [
    "for i in X.columns:\n",
    "    print(str(i) +\" \"+str(X[i].unique()))"
   ]
  },
  {
   "cell_type": "markdown",
   "id": "82231d03-cf05-4275-afcb-50b73fb6b44e",
   "metadata": {},
   "source": [
    "Here we have showed the unique values of each feature variables of the original datasets to let the user\n",
    "know using which range of variables the models were trained."
   ]
  },
  {
   "cell_type": "code",
   "execution_count": 18,
   "id": "31f540cf-2bba-4840-9c15-fe6b4763a669",
   "metadata": {},
   "outputs": [
    {
     "name": "stdin",
     "output_type": "stream",
     "text": [
      "Enter the graphene percentage:  1\n",
      "Enter the Feed:  1\n",
      "Enter the rotation in RPM:  1\n",
      "Enter the DOC:  1\n"
     ]
    }
   ],
   "source": [
    "Graphene_percentage = float(input(\"Enter the graphene percentage: \"))\n",
    "FEED = int(input(\"Enter the Feed: \"))\n",
    "RPM = int(input(\"Enter the rotation in RPM: \"))\n",
    "DOC = float(input(\"Enter the DOC: \"))"
   ]
  },
  {
   "cell_type": "code",
   "execution_count": 19,
   "id": "9382a9e6-3158-49a7-a346-c1af1eb1ee23",
   "metadata": {},
   "outputs": [],
   "source": [
    "inp_ = np.array([[Graphene_percentage,FEED,RPM,DOC]])"
   ]
  },
  {
   "cell_type": "code",
   "execution_count": 20,
   "id": "9abc3766-0791-4d7b-b0b0-37d39225691b",
   "metadata": {},
   "outputs": [
    {
     "name": "stderr",
     "output_type": "stream",
     "text": [
      "/home/explorer/.miniconda3/envs/pydaas/lib/python3.9/site-packages/sklearn/base.py:450: UserWarning: X does not have valid feature names, but RandomForestRegressor was fitted with feature names\n",
      "  warnings.warn(\n",
      "/home/explorer/.miniconda3/envs/pydaas/lib/python3.9/site-packages/sklearn/base.py:450: UserWarning: X does not have valid feature names, but RandomForestRegressor was fitted with feature names\n",
      "  warnings.warn(\n",
      "/home/explorer/.miniconda3/envs/pydaas/lib/python3.9/site-packages/sklearn/base.py:450: UserWarning: X does not have valid feature names, but DecisionTreeRegressor was fitted with feature names\n",
      "  warnings.warn(\n",
      "/home/explorer/.miniconda3/envs/pydaas/lib/python3.9/site-packages/sklearn/base.py:450: UserWarning: X does not have valid feature names, but DecisionTreeRegressor was fitted with feature names\n",
      "  warnings.warn(\n",
      "/home/explorer/.miniconda3/envs/pydaas/lib/python3.9/site-packages/sklearn/base.py:450: UserWarning: X does not have valid feature names, but GradientBoostingRegressor was fitted with feature names\n",
      "  warnings.warn(\n",
      "/home/explorer/.miniconda3/envs/pydaas/lib/python3.9/site-packages/sklearn/base.py:450: UserWarning: X does not have valid feature names, but GradientBoostingRegressor was fitted with feature names\n",
      "  warnings.warn(\n",
      "/home/explorer/.miniconda3/envs/pydaas/lib/python3.9/site-packages/sklearn/base.py:450: UserWarning: X does not have valid feature names, but MLPRegressor was fitted with feature names\n",
      "  warnings.warn(\n",
      "/home/explorer/.miniconda3/envs/pydaas/lib/python3.9/site-packages/sklearn/base.py:450: UserWarning: X does not have valid feature names, but MLPRegressor was fitted with feature names\n",
      "  warnings.warn(\n"
     ]
    },
    {
     "name": "stdout",
     "output_type": "stream",
     "text": [
      "Prediction of MRR and RA by random forest is 0.025927908857203336 and 0.7148596825396827\n",
      "Prediction of MRR and RA by decision tree is 0.025320055627140833 and 0.831875\n",
      "Prediction of MRR and RA by gradient boosting is 0.02584526104756667 and 0.4916652478401731\n",
      "Prediction of MRR and RA by sklearn ANN is 0.6206132557493809 and 0.09650736528347431\n",
      "Prediction of MRR and RA by tensorlow ANN is 0.6127607 and 0.09961874\n"
     ]
    }
   ],
   "source": [
    "print(\"Prediction of MRR and RA by random forest is \"+str(rfr_mrr.predict(inp_)[0])+\n",
    "\" and \"+str(rfr_ra.predict(inp_)[0]))\n",
    "print(\"Prediction of MRR and RA by decision tree is \"+str(dtr_mrr.predict(inp_)[0])+\n",
    "\" and \"+str(dtr_ra.predict(inp_)[0]))\n",
    "print(\"Prediction of MRR and RA by gradient boosting is \"+str(gbr_mrr.predict(inp_)[0])+\n",
    "\" and \"+str(gbr_ra.predict(inp_)[0]))\n",
    "print(\"Prediction of MRR and RA by sklearn ANN is \"+str(ann_sk_mrr.predict(inp_)[0])+\n",
    "\" and \"+str(ann_sk_ra.predict(inp_)[0]))\n",
    "print(\"Prediction of MRR and RA by tensorlow ANN is \"+str(dnn_mrr.predict(inp_)[0][0])+\n",
    "\" and \"+str(dnn_ra.predict(inp_)[0][0]))"
   ]
  },
  {
   "cell_type": "code",
   "execution_count": null,
   "id": "f018f007-f37b-456a-a608-b1689f1fffef",
   "metadata": {},
   "outputs": [],
   "source": []
  }
 ],
 "metadata": {
  "kernelspec": {
   "display_name": "Python 3 (ipykernel)",
   "language": "python",
   "name": "python3"
  },
  "language_info": {
   "codemirror_mode": {
    "name": "ipython",
    "version": 3
   },
   "file_extension": ".py",
   "mimetype": "text/x-python",
   "name": "python",
   "nbconvert_exporter": "python",
   "pygments_lexer": "ipython3",
   "version": "3.9.12"
  }
 },
 "nbformat": 4,
 "nbformat_minor": 5
}
