{
 "cells": [
  {
   "cell_type": "markdown",
   "id": "4ce4facc-e83f-42c8-85f5-5051f373c1c0",
   "metadata": {},
   "source": [
    "## Importing neccessary libraries"
   ]
  },
  {
   "cell_type": "code",
   "execution_count": 1,
   "id": "24fc43ca-f461-4a2e-b850-ced48ad9dccf",
   "metadata": {},
   "outputs": [],
   "source": [
    "import pickle\n",
    "import pandas as pd\n",
    "import numpy as np\n",
    "import tensorflow as tf"
   ]
  },
  {
   "cell_type": "markdown",
   "id": "2cae4b69-b74a-42a9-b037-b47ba69b7185",
   "metadata": {},
   "source": [
    "##"
   ]
  },
  {
   "cell_type": "code",
   "execution_count": 2,
   "id": "1bd36799-c378-4441-9a56-3a724cb5ad34",
   "metadata": {},
   "outputs": [],
   "source": [
    "gr_data = pd.read_csv(\"../data/graphene_data_final.csv\")"
   ]
  },
  {
   "cell_type": "code",
   "execution_count": 3,
   "id": "fe3398e1-fe1c-40d2-9fbe-bbd6d4a8507f",
   "metadata": {},
   "outputs": [],
   "source": [
    "X = gr_data[['Graphene_percentage', 'FEED', 'RPM', 'DOC']]\n",
    "Y = gr_data['MRR_gm_per_sec']\n",
    "Y2 = gr_data['Ra']"
   ]
  },
  {
   "cell_type": "code",
   "execution_count": 4,
   "id": "ce226d3e-7828-441a-85b6-7f2aa0e5b7d5",
   "metadata": {},
   "outputs": [
    {
     "name": "stdout",
     "output_type": "stream",
     "text": [
      "Graphene_percentage [0.    0.005 0.01  0.02  0.03 ]\n",
      "FEED [100 150 200]\n",
      "RPM [1000 2000 3000]\n",
      "DOC [0.1  0.15 0.2 ]\n"
     ]
    }
   ],
   "source": [
    "for i in X.columns:\n",
    "    print(str(i) +\" \"+str(X[i].unique()))"
   ]
  },
  {
   "cell_type": "markdown",
   "id": "c8cea970-80d1-4707-ba6f-3f6e9dfd60a7",
   "metadata": {},
   "source": [
    "## Loading previously saved models"
   ]
  },
  {
   "cell_type": "code",
   "execution_count": 5,
   "id": "835a8b68-26e0-4751-9a2b-3b542593d1c4",
   "metadata": {},
   "outputs": [],
   "source": [
    "with open('../trained_models/decision_tree_RA.pkl', 'rb') as p:\n",
    "    dtr_ra = pickle.load(p)"
   ]
  },
  {
   "cell_type": "code",
   "execution_count": 6,
   "id": "5d848af2-df6b-4dce-afbb-3b2193da1d54",
   "metadata": {},
   "outputs": [],
   "source": [
    "with open('../trained_models/decision_tree_MRR.pkl', 'rb') as p:\n",
    "    dtr_mrr = pickle.load(p)"
   ]
  },
  {
   "cell_type": "code",
   "execution_count": 7,
   "id": "586a483c-a76a-4881-8f25-7ff6b8cac6bb",
   "metadata": {},
   "outputs": [],
   "source": [
    "with open('../trained_models/random_forest_MRR.pkl', 'rb') as p:\n",
    "    rfr_mrr = pickle.load(p)"
   ]
  },
  {
   "cell_type": "code",
   "execution_count": 8,
   "id": "6e2e8382-226c-47ac-b5e0-74e6baadcca1",
   "metadata": {},
   "outputs": [],
   "source": [
    "with open('../trained_models/random_forest_RA.pkl', 'rb') as p:\n",
    "    rfr_ra = pickle.load(p)"
   ]
  },
  {
   "cell_type": "code",
   "execution_count": 9,
   "id": "62540868-6772-44b8-8240-e92a882ece99",
   "metadata": {},
   "outputs": [],
   "source": [
    "with open('../trained_models/gradient_boosting_MRR.pkl', 'rb') as p:\n",
    "    gbr_mrr = pickle.load(p)"
   ]
  },
  {
   "cell_type": "code",
   "execution_count": 10,
   "id": "518f5124-69b2-4ffd-b2ca-a5d7f66706f5",
   "metadata": {},
   "outputs": [],
   "source": [
    "with open('../trained_models/gradient_boosting_RA.pkl', 'rb') as p:\n",
    "    gbr_ra = pickle.load(p)"
   ]
  },
  {
   "cell_type": "code",
   "execution_count": 11,
   "id": "4b377552-5e0f-4a31-aff4-98dcf337a256",
   "metadata": {},
   "outputs": [
    {
     "name": "stderr",
     "output_type": "stream",
     "text": [
      "2022-04-06 20:49:09.614715: I tensorflow/core/platform/cpu_feature_guard.cc:142] This TensorFlow binary is optimized with oneAPI Deep Neural Network Library (oneDNN) to use the following CPU instructions in performance-critical operations:  SSE4.1 SSE4.2 AVX AVX2 FMA\n",
      "To enable them in other operations, rebuild TensorFlow with the appropriate compiler flags.\n"
     ]
    }
   ],
   "source": [
    "dnn_mrr = tf.keras.models.load_model(\"../trained_models/ANN_MRR.h5\")\n",
    "dnn_ra = tf.keras.models.load_model(\"../trained_models/ANN_RA.h5\")"
   ]
  },
  {
   "cell_type": "markdown",
   "id": "225645da-aebe-44d5-894a-7323979a0371",
   "metadata": {},
   "source": [
    "## Prediction of MRR and Ra"
   ]
  },
  {
   "cell_type": "markdown",
   "id": "1e486fe9-e896-4a80-842c-10ca5ab7d998",
   "metadata": {},
   "source": [
    "### For predicting target values from feature(input) values of original dataset"
   ]
  },
  {
   "cell_type": "code",
   "execution_count": 12,
   "id": "d4f20755-c466-4fa5-bb6c-153f38db8973",
   "metadata": {},
   "outputs": [
    {
     "name": "stdin",
     "output_type": "stream",
     "text": [
      "Enter the serial number of observation:  123\n"
     ]
    }
   ],
   "source": [
    "a_ = int(input(\"Enter the serial number of observation: \"))\n",
    "b_ = a_ + 1"
   ]
  },
  {
   "cell_type": "code",
   "execution_count": 13,
   "id": "aa6106ae-95f8-45b0-b235-a97cdf764b1d",
   "metadata": {},
   "outputs": [
    {
     "name": "stdout",
     "output_type": "stream",
     "text": [
      "Prediction of MRR by random forest is 0.021567197224689406\n",
      "Prediction of MRR by decision tree is 0.020499193923779253\n",
      "Prediction of MRR by gradient boosting is 0.020719631261482952\n",
      "Prediction of MRR by artificial neural network is 360.92734\n",
      "Real value of MRR is 0.019335260115608\n"
     ]
    },
    {
     "name": "stderr",
     "output_type": "stream",
     "text": [
      "/home/explorer/.conda/envs/pydaas/lib/python3.9/site-packages/sklearn/base.py:450: UserWarning: X does not have valid feature names, but RandomForestRegressor was fitted with feature names\n",
      "  warnings.warn(\n",
      "/home/explorer/.conda/envs/pydaas/lib/python3.9/site-packages/sklearn/base.py:450: UserWarning: X does not have valid feature names, but DecisionTreeRegressor was fitted with feature names\n",
      "  warnings.warn(\n",
      "/home/explorer/.conda/envs/pydaas/lib/python3.9/site-packages/sklearn/base.py:450: UserWarning: X does not have valid feature names, but GradientBoostingRegressor was fitted with feature names\n",
      "  warnings.warn(\n",
      "2022-04-06 20:49:17.227228: I tensorflow/compiler/mlir/mlir_graph_optimization_pass.cc:116] None of the MLIR optimization passes are enabled (registered 2)\n",
      "2022-04-06 20:49:17.246352: I tensorflow/core/platform/profile_utils/cpu_utils.cc:112] CPU Frequency: 2495570000 Hz\n"
     ]
    }
   ],
   "source": [
    "print(\"Prediction of MRR by random forest is \"+str(rfr_mrr.predict(X[a_:b_].to_numpy())[0]))\n",
    "print(\"Prediction of MRR by decision tree is \"+str(dtr_mrr.predict(X[a_:b_].to_numpy())[0]))\n",
    "print(\"Prediction of MRR by gradient boosting is \"+str(gbr_mrr.predict(X[a_:b_].to_numpy())[0]))\n",
    "print(\"Prediction of MRR by artificial neural network is \"+str(dnn_ra.predict(X[a_:b_])[0][0]))\n",
    "print(\"Real value of MRR is \"+str(Y[a_:b_].to_numpy()[0]))"
   ]
  },
  {
   "cell_type": "code",
   "execution_count": 14,
   "id": "744deb4a-5b41-4e5a-9ea4-27b5c3346d30",
   "metadata": {},
   "outputs": [
    {
     "name": "stderr",
     "output_type": "stream",
     "text": [
      "/home/explorer/.conda/envs/pydaas/lib/python3.9/site-packages/sklearn/base.py:450: UserWarning: X does not have valid feature names, but RandomForestRegressor was fitted with feature names\n",
      "  warnings.warn(\n",
      "/home/explorer/.conda/envs/pydaas/lib/python3.9/site-packages/sklearn/base.py:450: UserWarning: X does not have valid feature names, but DecisionTreeRegressor was fitted with feature names\n",
      "  warnings.warn(\n",
      "/home/explorer/.conda/envs/pydaas/lib/python3.9/site-packages/sklearn/base.py:450: UserWarning: X does not have valid feature names, but GradientBoostingRegressor was fitted with feature names\n",
      "  warnings.warn(\n"
     ]
    },
    {
     "name": "stdout",
     "output_type": "stream",
     "text": [
      "Prediction of RA by random forest is 0.8336736507936507\n",
      "Prediction of RA by decision tree is 0.8346666666666667\n",
      "Prediction of RA by gradient boosting is 0.8756215934854272\n",
      "Prediction of RA by artificial neural network is 360.92734\n",
      "Real value of RA is 0.779\n"
     ]
    }
   ],
   "source": [
    "print(\"Prediction of RA by random forest is \"+str(rfr_ra.predict(X[a_:b_].to_numpy())[0]))\n",
    "print(\"Prediction of RA by decision tree is \"+str(dtr_ra.predict(X[a_:b_].to_numpy())[0]))\n",
    "print(\"Prediction of RA by gradient boosting is \"+str(gbr_ra.predict(X[a_:b_].to_numpy())[0]))\n",
    "print(\"Prediction of RA by artificial neural network is \"+str(dnn_ra.predict(X[a_:b_])[0][0]))\n",
    "print(\"Real value of RA is \"+str(Y2[a_:b_].to_numpy()[0]))"
   ]
  },
  {
   "cell_type": "markdown",
   "id": "9a282097-ba57-4664-92f4-f240abd6291a",
   "metadata": {},
   "source": [
    "### For predicting target values using unknown feature(input) values"
   ]
  },
  {
   "cell_type": "code",
   "execution_count": 15,
   "id": "54547291-57b4-418d-b943-b07232cbafe8",
   "metadata": {},
   "outputs": [
    {
     "name": "stdout",
     "output_type": "stream",
     "text": [
      "Graphene_percentage [0.    0.005 0.01  0.02  0.03 ]\n",
      "FEED [100 150 200]\n",
      "RPM [1000 2000 3000]\n",
      "DOC [0.1  0.15 0.2 ]\n"
     ]
    }
   ],
   "source": [
    "for i in X.columns:\n",
    "    print(str(i) +\" \"+str(X[i].unique()))"
   ]
  },
  {
   "cell_type": "markdown",
   "id": "82231d03-cf05-4275-afcb-50b73fb6b44e",
   "metadata": {},
   "source": [
    "Here we have showed the unique values of each feature variables of the original datasets to let the user\n",
    "know using which range of variables the models were trained."
   ]
  },
  {
   "cell_type": "code",
   "execution_count": 16,
   "id": "31f540cf-2bba-4840-9c15-fe6b4763a669",
   "metadata": {},
   "outputs": [
    {
     "name": "stdin",
     "output_type": "stream",
     "text": [
      "Enter the graphene percentage:  0.014\n",
      "Enter the Feed:  134\n",
      "Enter the rotation in RPM:  1234\n",
      "Enter the DOC:  0.3\n"
     ]
    }
   ],
   "source": [
    "Graphene_percentage = float(input(\"Enter the graphene percentage: \"))\n",
    "FEED = int(input(\"Enter the Feed: \"))\n",
    "RPM = int(input(\"Enter the rotation in RPM: \"))\n",
    "DOC = float(input(\"Enter the DOC: \"))"
   ]
  },
  {
   "cell_type": "code",
   "execution_count": 17,
   "id": "9382a9e6-3158-49a7-a346-c1af1eb1ee23",
   "metadata": {},
   "outputs": [],
   "source": [
    "inp_ = np.array([[Graphene_percentage,FEED,RPM,DOC]])"
   ]
  },
  {
   "cell_type": "code",
   "execution_count": 18,
   "id": "9abc3766-0791-4d7b-b0b0-37d39225691b",
   "metadata": {},
   "outputs": [
    {
     "name": "stdout",
     "output_type": "stream",
     "text": [
      "Prediction of MRR and RA by random forest is 0.039476301454351305 and 1.1929563492063489\n",
      "Prediction of MRR and RA by decision tree is 0.03783037740644716 and 1.4571428571428573\n",
      "Prediction of MRR and RA by gradient boosting is 0.03826861570640396 and 1.2356470610103059\n",
      "Prediction of MRR and RA by artificial neural network is -7.8313866 and 146.32965\n"
     ]
    },
    {
     "name": "stderr",
     "output_type": "stream",
     "text": [
      "/home/explorer/.conda/envs/pydaas/lib/python3.9/site-packages/sklearn/base.py:450: UserWarning: X does not have valid feature names, but RandomForestRegressor was fitted with feature names\n",
      "  warnings.warn(\n",
      "/home/explorer/.conda/envs/pydaas/lib/python3.9/site-packages/sklearn/base.py:450: UserWarning: X does not have valid feature names, but RandomForestRegressor was fitted with feature names\n",
      "  warnings.warn(\n",
      "/home/explorer/.conda/envs/pydaas/lib/python3.9/site-packages/sklearn/base.py:450: UserWarning: X does not have valid feature names, but DecisionTreeRegressor was fitted with feature names\n",
      "  warnings.warn(\n",
      "/home/explorer/.conda/envs/pydaas/lib/python3.9/site-packages/sklearn/base.py:450: UserWarning: X does not have valid feature names, but DecisionTreeRegressor was fitted with feature names\n",
      "  warnings.warn(\n",
      "/home/explorer/.conda/envs/pydaas/lib/python3.9/site-packages/sklearn/base.py:450: UserWarning: X does not have valid feature names, but GradientBoostingRegressor was fitted with feature names\n",
      "  warnings.warn(\n",
      "/home/explorer/.conda/envs/pydaas/lib/python3.9/site-packages/sklearn/base.py:450: UserWarning: X does not have valid feature names, but GradientBoostingRegressor was fitted with feature names\n",
      "  warnings.warn(\n"
     ]
    }
   ],
   "source": [
    "print(\"Prediction of MRR and RA by random forest is \"+str(rfr_mrr.predict(inp_)[0])+\n",
    "\" and \"+str(rfr_ra.predict(inp_)[0]))\n",
    "print(\"Prediction of MRR and RA by decision tree is \"+str(dtr_mrr.predict(inp_)[0])+\n",
    "\" and \"+str(dtr_ra.predict(inp_)[0]))\n",
    "print(\"Prediction of MRR and RA by gradient boosting is \"+str(gbr_mrr.predict(inp_)[0])+\n",
    "\" and \"+str(gbr_ra.predict(inp_)[0]))\n",
    "print(\"Prediction of MRR and RA by artificial neural network is \"+str(dnn_mrr.predict(inp_)[0][0])+\n",
    "\" and \"+str(dnn_ra.predict(inp_)[0][0]))"
   ]
  },
  {
   "cell_type": "code",
   "execution_count": null,
   "id": "f018f007-f37b-456a-a608-b1689f1fffef",
   "metadata": {},
   "outputs": [],
   "source": []
  }
 ],
 "metadata": {
  "kernelspec": {
   "display_name": "Python 3 (ipykernel)",
   "language": "python",
   "name": "python3"
  },
  "language_info": {
   "codemirror_mode": {
    "name": "ipython",
    "version": 3
   },
   "file_extension": ".py",
   "mimetype": "text/x-python",
   "name": "python",
   "nbconvert_exporter": "python",
   "pygments_lexer": "ipython3",
   "version": "3.9.7"
  }
 },
 "nbformat": 4,
 "nbformat_minor": 5
}
