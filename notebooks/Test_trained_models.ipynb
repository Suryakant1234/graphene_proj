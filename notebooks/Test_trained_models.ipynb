{
 "cells": [
  {
   "cell_type": "markdown",
   "id": "4ce4facc-e83f-42c8-85f5-5051f373c1c0",
   "metadata": {},
   "source": [
    "## Importing neccessary libraries"
   ]
  },
  {
   "cell_type": "markdown",
   "id": "3183a16c-1df1-46e7-bf53-c5e1f2a1d91c",
   "metadata": {
    "tags": []
   },
   "source": [
    "Pickle library is imported to load  pre trained machine learning models which are saved in pickle file format. Pandas library is used to read and manipulate data sets as data frame objects. Numpy library which is normally used for numerical analysis is used here to create an array that contains input for predict method of various machine learning models. "
   ]
  },
  {
   "cell_type": "code",
   "execution_count": 1,
   "id": "b739eb9e-b4c3-4d6b-a4a9-e9fa60bb09d3",
   "metadata": {},
   "outputs": [],
   "source": [
    "!conda activate surya"
   ]
  },
  {
   "cell_type": "code",
   "execution_count": 2,
   "id": "24fc43ca-f461-4a2e-b850-ced48ad9dccf",
   "metadata": {},
   "outputs": [],
   "source": [
    "import pickle\n",
    "import pandas as pd\n",
    "import numpy as np"
   ]
  },
  {
   "cell_type": "markdown",
   "id": "2cae4b69-b74a-42a9-b037-b47ba69b7185",
   "metadata": {},
   "source": []
  },
  {
   "cell_type": "markdown",
   "id": "100e2fe9-abcd-40e1-ad15-ecc98c55df11",
   "metadata": {},
   "source": [
    "The observational dataset is imported from the csv file and saved as a pandas data frame in variable grd."
   ]
  },
  {
   "cell_type": "code",
   "execution_count": 3,
   "id": "1bd36799-c378-4441-9a56-3a724cb5ad34",
   "metadata": {},
   "outputs": [],
   "source": [
    "gr_data = pd.read_csv(\"../data/graphene_data_final.csv\")"
   ]
  },
  {
   "cell_type": "markdown",
   "id": "94bd37de-d3f4-4b82-8170-fc3506dbd268",
   "metadata": {},
   "source": [
    "The 1st four columns Graphene_percentage, feed, RPM and DOC were taken as input and MRR as 2st output and `Ra` as 2nd output."
   ]
  },
  {
   "cell_type": "code",
   "execution_count": 4,
   "id": "fe3398e1-fe1c-40d2-9fbe-bbd6d4a8507f",
   "metadata": {},
   "outputs": [],
   "source": [
    "X = gr_data[['Graphene_percentage', 'FEED', 'RPM', 'DOC']]\n",
    "Y = gr_data['MRR_gm_per_sec']\n",
    "Y2 = gr_data['Ra']"
   ]
  },
  {
   "cell_type": "markdown",
   "id": "c8cea970-80d1-4707-ba6f-3f6e9dfd60a7",
   "metadata": {},
   "source": [
    "## Loading previously saved models"
   ]
  },
  {
   "cell_type": "markdown",
   "id": "3d851df8-d018-4d1e-84a8-7aa17a5821b5",
   "metadata": {},
   "source": [
    "The machine learning models which were created using scikit learn were saved as pickle files and tensorflow models were saved as h5 files. Now those saved models are being loaded from the model files."
   ]
  },
  {
   "cell_type": "code",
   "execution_count": 5,
   "id": "835a8b68-26e0-4751-9a2b-3b542593d1c4",
   "metadata": {},
   "outputs": [],
   "source": [
    "with open('../trained_models/decision_tree_RA.pkl', 'rb') as p:\n",
    "    dtr_ra = pickle.load(p)"
   ]
  },
  {
   "cell_type": "code",
   "execution_count": 6,
   "id": "5d848af2-df6b-4dce-afbb-3b2193da1d54",
   "metadata": {},
   "outputs": [],
   "source": [
    "with open('../trained_models/decision_tree_MRR.pkl', 'rb') as p:\n",
    "    dtr_mrr = pickle.load(p)"
   ]
  },
  {
   "cell_type": "code",
   "execution_count": 7,
   "id": "586a483c-a76a-4881-8f25-7ff6b8cac6bb",
   "metadata": {},
   "outputs": [],
   "source": [
    "with open('../trained_models/random_forest_MRR.pkl', 'rb') as p:\n",
    "    rfr_mrr = pickle.load(p)"
   ]
  },
  {
   "cell_type": "code",
   "execution_count": 8,
   "id": "6e2e8382-226c-47ac-b5e0-74e6baadcca1",
   "metadata": {},
   "outputs": [],
   "source": [
    "with open('../trained_models/random_forest_RA.pkl', 'rb') as p:\n",
    "    rfr_ra = pickle.load(p)"
   ]
  },
  {
   "cell_type": "code",
   "execution_count": 9,
   "id": "62540868-6772-44b8-8240-e92a882ece99",
   "metadata": {},
   "outputs": [],
   "source": [
    "with open('../trained_models/gradient_boosting_MRR.pkl', 'rb') as p:\n",
    "    gbr_mrr = pickle.load(p)"
   ]
  },
  {
   "cell_type": "code",
   "execution_count": 10,
   "id": "518f5124-69b2-4ffd-b2ca-a5d7f66706f5",
   "metadata": {},
   "outputs": [],
   "source": [
    "with open('../trained_models/gradient_boosting_RA.pkl', 'rb') as p:\n",
    "    gbr_ra = pickle.load(p)"
   ]
  },
  {
   "cell_type": "code",
   "execution_count": 11,
   "id": "55480413-4fdb-4969-90c0-a9445c3edf10",
   "metadata": {},
   "outputs": [],
   "source": [
    "with open('../trained_models/ANN_RA_sklearn.pkl', 'rb') as p:\n",
    "    ann_sk_ra = pickle.load(p)"
   ]
  },
  {
   "cell_type": "code",
   "execution_count": 12,
   "id": "ccb992a0-6aae-4635-ba46-dcd749d76a6e",
   "metadata": {},
   "outputs": [],
   "source": [
    "with open('../trained_models/ANN_MRR_sklearn.pkl', 'rb') as p:\n",
    "    ann_sk_mrr = pickle.load(p)"
   ]
  },
  {
   "cell_type": "markdown",
   "id": "225645da-aebe-44d5-894a-7323979a0371",
   "metadata": {},
   "source": [
    "## Prediction of MRR and Ra"
   ]
  },
  {
   "cell_type": "markdown",
   "id": "1e486fe9-e896-4a80-842c-10ca5ab7d998",
   "metadata": {},
   "source": [
    "### For predicting target values from feature(input) values of original dataset"
   ]
  },
  {
   "cell_type": "markdown",
   "id": "32a0ad94-31fa-4173-a7b1-731e7e00129d",
   "metadata": {},
   "source": [
    "In this section the feature values are not taken directly from the user rather the prompt asks for the serial number of observation from the original dataset. Then through slicing of dataframe using the entered serial number the program gets the corresponding input values. After getting the 4 input values it feeds them to the loaded models and displays the predicted output."
   ]
  },
  {
   "cell_type": "code",
   "execution_count": 13,
   "id": "d4f20755-c466-4fa5-bb6c-153f38db8973",
   "metadata": {},
   "outputs": [
    {
     "name": "stdin",
     "output_type": "stream",
     "text": [
      "Enter the serial number of observation(1 to 135):  8\n"
     ]
    }
   ],
   "source": [
    "a_ = int(input(\"Enter the serial number of observation(1 to 135): \"))\n",
    "b_ = a_ + 1"
   ]
  },
  {
   "cell_type": "code",
   "execution_count": 14,
   "id": "aa6106ae-95f8-45b0-b235-a97cdf764b1d",
   "metadata": {},
   "outputs": [
    {
     "name": "stdout",
     "output_type": "stream",
     "text": [
      "Prediction of MRR by random forest is 0.025927908857203336\n",
      "Prediction of MRR by decision tree is 0.02700966658399475\n",
      "Prediction of MRR by gradient boosting is 0.027393600655641944\n",
      "Prediction of MRR by ann is -22.48149536013368\n",
      "Real value of MRR is 0.026577645895153\n"
     ]
    },
    {
     "name": "stderr",
     "output_type": "stream",
     "text": [
      "c:\\users\\suryakant\\appdata\\local\\programs\\python\\python39\\lib\\site-packages\\sklearn\\base.py:450: UserWarning: X does not have valid feature names, but RandomForestRegressor was fitted with feature names\n",
      "  warnings.warn(\n",
      "c:\\users\\suryakant\\appdata\\local\\programs\\python\\python39\\lib\\site-packages\\sklearn\\base.py:450: UserWarning: X does not have valid feature names, but DecisionTreeRegressor was fitted with feature names\n",
      "  warnings.warn(\n",
      "c:\\users\\suryakant\\appdata\\local\\programs\\python\\python39\\lib\\site-packages\\sklearn\\base.py:450: UserWarning: X does not have valid feature names, but GradientBoostingRegressor was fitted with feature names\n",
      "  warnings.warn(\n",
      "c:\\users\\suryakant\\appdata\\local\\programs\\python\\python39\\lib\\site-packages\\sklearn\\base.py:450: UserWarning: X does not have valid feature names, but MLPRegressor was fitted with feature names\n",
      "  warnings.warn(\n"
     ]
    }
   ],
   "source": [
    "print(\"Prediction of MRR by random forest is \"+str(rfr_mrr.predict(X[a_:b_].to_numpy())[0]))\n",
    "print(\"Prediction of MRR by decision tree is \"+str(dtr_mrr.predict(X[a_:b_].to_numpy())[0]))\n",
    "print(\"Prediction of MRR by gradient boosting is \"+str(gbr_mrr.predict(X[a_:b_].to_numpy())[0]))\n",
    "print(\"Prediction of MRR by ann is \"+str(ann_sk_mrr.predict(X[a_:b_].to_numpy())[0]))\n",
    "print(\"Real value of MRR is \"+str(Y[a_:b_].to_numpy()[0]))"
   ]
  },
  {
   "cell_type": "code",
   "execution_count": 15,
   "id": "744deb4a-5b41-4e5a-9ea4-27b5c3346d30",
   "metadata": {},
   "outputs": [
    {
     "name": "stdout",
     "output_type": "stream",
     "text": [
      "Prediction of RA by random forest is 0.5341314285714284\n",
      "Prediction of RA by decision tree is 0.39116666666666666\n",
      "Prediction of RA by gradient boosting is 0.4697467581159877\n",
      "Prediction of RA by ann is -292.74544213941067\n",
      "Real value of RA is 0.429\n"
     ]
    },
    {
     "name": "stderr",
     "output_type": "stream",
     "text": [
      "c:\\users\\suryakant\\appdata\\local\\programs\\python\\python39\\lib\\site-packages\\sklearn\\base.py:450: UserWarning: X does not have valid feature names, but RandomForestRegressor was fitted with feature names\n",
      "  warnings.warn(\n",
      "c:\\users\\suryakant\\appdata\\local\\programs\\python\\python39\\lib\\site-packages\\sklearn\\base.py:450: UserWarning: X does not have valid feature names, but DecisionTreeRegressor was fitted with feature names\n",
      "  warnings.warn(\n",
      "c:\\users\\suryakant\\appdata\\local\\programs\\python\\python39\\lib\\site-packages\\sklearn\\base.py:450: UserWarning: X does not have valid feature names, but GradientBoostingRegressor was fitted with feature names\n",
      "  warnings.warn(\n",
      "c:\\users\\suryakant\\appdata\\local\\programs\\python\\python39\\lib\\site-packages\\sklearn\\base.py:450: UserWarning: X does not have valid feature names, but MLPRegressor was fitted with feature names\n",
      "  warnings.warn(\n"
     ]
    }
   ],
   "source": [
    "print(\"Prediction of RA by random forest is \"+str(rfr_ra.predict(X[a_:b_].to_numpy())[0]))\n",
    "print(\"Prediction of RA by decision tree is \"+str(dtr_ra.predict(X[a_:b_].to_numpy())[0]))\n",
    "print(\"Prediction of RA by gradient boosting is \"+str(gbr_ra.predict(X[a_:b_].to_numpy())[0]))\n",
    "print(\"Prediction of RA by ann is \"+str(ann_sk_ra.predict(X[a_:b_].to_numpy())[0]))\n",
    "print(\"Real value of RA is \"+str(Y2[a_:b_].to_numpy()[0]))"
   ]
  },
  {
   "cell_type": "markdown",
   "id": "9a282097-ba57-4664-92f4-f240abd6291a",
   "metadata": {},
   "source": [
    "### For predicting target values using unknown feature(input) values"
   ]
  },
  {
   "cell_type": "code",
   "execution_count": 16,
   "id": "54547291-57b4-418d-b943-b07232cbafe8",
   "metadata": {},
   "outputs": [
    {
     "name": "stdout",
     "output_type": "stream",
     "text": [
      "Graphene_percentage [0.    0.005 0.01  0.02  0.03 ]\n",
      "FEED [100 150 200]\n",
      "RPM [1000 2000 3000]\n",
      "DOC [0.1  0.15 0.2 ]\n"
     ]
    }
   ],
   "source": [
    "for i in X.columns:\n",
    "    print(str(i) +\" \"+str(X[i].unique()))"
   ]
  },
  {
   "cell_type": "markdown",
   "id": "82231d03-cf05-4275-afcb-50b73fb6b44e",
   "metadata": {},
   "source": [
    "Here the unique values of each feature variables of the original dataset is shown to let the user know using which range of variables the models were trained on."
   ]
  },
  {
   "cell_type": "markdown",
   "id": "2c7810d5-ae65-4d12-961e-77161007d978",
   "metadata": {},
   "source": [
    "In this section the prompt asks for the four input values to the user and it shows the predicted output."
   ]
  },
  {
   "cell_type": "code",
   "execution_count": 17,
   "id": "31f540cf-2bba-4840-9c15-fe6b4763a669",
   "metadata": {},
   "outputs": [
    {
     "name": "stdin",
     "output_type": "stream",
     "text": [
      "Enter the graphene percentage:  0.1\n",
      "Enter the Feed:  100\n",
      "Enter the rotation in RPM:  1000\n",
      "Enter the DOC:  0.15\n"
     ]
    }
   ],
   "source": [
    "Graphene_percentage = float(input(\"Enter the graphene percentage: \"))\n",
    "FEED = int(input(\"Enter the Feed: \"))\n",
    "RPM = int(input(\"Enter the rotation in RPM: \"))\n",
    "DOC = float(input(\"Enter the DOC: \"))"
   ]
  },
  {
   "cell_type": "code",
   "execution_count": 18,
   "id": "9382a9e6-3158-49a7-a346-c1af1eb1ee23",
   "metadata": {},
   "outputs": [],
   "source": [
    "inp_ = np.array([[Graphene_percentage,FEED,RPM,DOC]])"
   ]
  },
  {
   "cell_type": "code",
   "execution_count": 19,
   "id": "9abc3766-0791-4d7b-b0b0-37d39225691b",
   "metadata": {},
   "outputs": [
    {
     "name": "stdout",
     "output_type": "stream",
     "text": [
      "Prediction of MRR and RA by random forest is 0.01915920255224763 and 0.6720357142857144\n",
      "Prediction of MRR and RA by decision tree is 0.017820500037391503 and 0.831875\n",
      "Prediction of MRR and RA by gradient boosting is 0.019133676986150993 and 0.35844740784680107\n",
      "Prediction of MRR and RA by sklearn ANN is -9.590976162746646 and -89.0617775723303\n"
     ]
    },
    {
     "name": "stderr",
     "output_type": "stream",
     "text": [
      "c:\\users\\suryakant\\appdata\\local\\programs\\python\\python39\\lib\\site-packages\\sklearn\\base.py:450: UserWarning: X does not have valid feature names, but RandomForestRegressor was fitted with feature names\n",
      "  warnings.warn(\n",
      "c:\\users\\suryakant\\appdata\\local\\programs\\python\\python39\\lib\\site-packages\\sklearn\\base.py:450: UserWarning: X does not have valid feature names, but RandomForestRegressor was fitted with feature names\n",
      "  warnings.warn(\n",
      "c:\\users\\suryakant\\appdata\\local\\programs\\python\\python39\\lib\\site-packages\\sklearn\\base.py:450: UserWarning: X does not have valid feature names, but DecisionTreeRegressor was fitted with feature names\n",
      "  warnings.warn(\n",
      "c:\\users\\suryakant\\appdata\\local\\programs\\python\\python39\\lib\\site-packages\\sklearn\\base.py:450: UserWarning: X does not have valid feature names, but DecisionTreeRegressor was fitted with feature names\n",
      "  warnings.warn(\n",
      "c:\\users\\suryakant\\appdata\\local\\programs\\python\\python39\\lib\\site-packages\\sklearn\\base.py:450: UserWarning: X does not have valid feature names, but GradientBoostingRegressor was fitted with feature names\n",
      "  warnings.warn(\n",
      "c:\\users\\suryakant\\appdata\\local\\programs\\python\\python39\\lib\\site-packages\\sklearn\\base.py:450: UserWarning: X does not have valid feature names, but GradientBoostingRegressor was fitted with feature names\n",
      "  warnings.warn(\n",
      "c:\\users\\suryakant\\appdata\\local\\programs\\python\\python39\\lib\\site-packages\\sklearn\\base.py:450: UserWarning: X does not have valid feature names, but MLPRegressor was fitted with feature names\n",
      "  warnings.warn(\n",
      "c:\\users\\suryakant\\appdata\\local\\programs\\python\\python39\\lib\\site-packages\\sklearn\\base.py:450: UserWarning: X does not have valid feature names, but MLPRegressor was fitted with feature names\n",
      "  warnings.warn(\n"
     ]
    }
   ],
   "source": [
    "print(\"Prediction of MRR and RA by random forest is \"+str(rfr_mrr.predict(inp_)[0])+\n",
    "\" and \"+str(rfr_ra.predict(inp_)[0]))\n",
    "print(\"Prediction of MRR and RA by decision tree is \"+str(dtr_mrr.predict(inp_)[0])+\n",
    "\" and \"+str(dtr_ra.predict(inp_)[0]))\n",
    "print(\"Prediction of MRR and RA by gradient boosting is \"+str(gbr_mrr.predict(inp_)[0])+\n",
    "\" and \"+str(gbr_ra.predict(inp_)[0]))\n",
    "print(\"Prediction of MRR and RA by sklearn ANN is \"+str(ann_sk_mrr.predict(inp_)[0])+\n",
    "\" and \"+str(ann_sk_ra.predict(inp_)[0]))"
   ]
  },
  {
   "cell_type": "code",
   "execution_count": null,
   "id": "f018f007-f37b-456a-a608-b1689f1fffef",
   "metadata": {},
   "outputs": [],
   "source": []
  }
 ],
 "metadata": {
  "kernelspec": {
   "display_name": "Python 3 (ipykernel)",
   "language": "python",
   "name": "python3"
  },
  "language_info": {
   "codemirror_mode": {
    "name": "ipython",
    "version": 3
   },
   "file_extension": ".py",
   "mimetype": "text/x-python",
   "name": "python",
   "nbconvert_exporter": "python",
   "pygments_lexer": "ipython3",
   "version": "3.9.6"
  }
 },
 "nbformat": 4,
 "nbformat_minor": 5
}
