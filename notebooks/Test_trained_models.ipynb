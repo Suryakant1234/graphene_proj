{
 "cells": [
  {
   "cell_type": "code",
   "execution_count": 1,
   "id": "24fc43ca-f461-4a2e-b850-ced48ad9dccf",
   "metadata": {},
   "outputs": [],
   "source": [
    "import pickle\n",
    "import pandas as pd\n",
    "import numpy as np"
   ]
  },
  {
   "cell_type": "code",
   "execution_count": 2,
   "id": "1bd36799-c378-4441-9a56-3a724cb5ad34",
   "metadata": {},
   "outputs": [],
   "source": [
    "gr_data = pd.read_csv(\"../data/graphene_data_final.csv\")"
   ]
  },
  {
   "cell_type": "code",
   "execution_count": 3,
   "id": "fe3398e1-fe1c-40d2-9fbe-bbd6d4a8507f",
   "metadata": {},
   "outputs": [],
   "source": [
    "X = gr_data[['Graphene_percentage', 'FEED', 'RPM', 'DOC']]\n",
    "X2 = gr_data[['FEED', 'DOC']]\n",
    "Y = gr_data['MRR_gm_per_sec']\n",
    "Y2 = gr_data['Ra']"
   ]
  },
  {
   "cell_type": "code",
   "execution_count": 4,
   "id": "ce226d3e-7828-441a-85b6-7f2aa0e5b7d5",
   "metadata": {},
   "outputs": [
    {
     "name": "stdout",
     "output_type": "stream",
     "text": [
      "Graphene_percentage [0.    0.005 0.01  0.02  0.03 ]\n",
      "FEED [100 150 200]\n",
      "RPM [1000 2000 3000]\n",
      "DOC [0.1  0.15 0.2 ]\n"
     ]
    }
   ],
   "source": [
    "for i in X.columns:\n",
    "    print(str(i) +\" \"+str(X[i].unique()))"
   ]
  },
  {
   "cell_type": "code",
   "execution_count": 5,
   "id": "0ca169a2-e67d-488b-a4f6-d1b77c0d0112",
   "metadata": {},
   "outputs": [
    {
     "name": "stdin",
     "output_type": "stream",
     "text": [
      "Enter the graphene percentage:  1\n",
      "Enter the Feed:  1\n",
      "Enter the rotation in RPM:  1\n",
      "Enter the DOC:  1\n"
     ]
    }
   ],
   "source": [
    "Graphene_percentage = float(input(\"Enter the graphene percentage: \"))\n",
    "FEED = int(input(\"Enter the Feed: \"))\n",
    "RPM = int(input(\"Enter the rotation in RPM: \"))\n",
    "DOC = float(input(\"Enter the DOC: \"))"
   ]
  },
  {
   "cell_type": "code",
   "execution_count": 6,
   "id": "f05e6795-ec14-443a-88fb-b458ceb2f69f",
   "metadata": {},
   "outputs": [],
   "source": [
    "inp4_ = np.array([[Graphene_percentage,FEED,RPM,DOC]])\n",
    "inp2_ = np.array([[FEED,DOC]])"
   ]
  },
  {
   "cell_type": "code",
   "execution_count": 7,
   "id": "835a8b68-26e0-4751-9a2b-3b542593d1c4",
   "metadata": {},
   "outputs": [],
   "source": [
    "with open('../trained_models/best_random_forest.pkl', 'rb') as p:\n",
    "    rfr = pickle.load(p)"
   ]
  },
  {
   "cell_type": "code",
   "execution_count": 8,
   "id": "5d848af2-df6b-4dce-afbb-3b2193da1d54",
   "metadata": {},
   "outputs": [],
   "source": [
    "with open('../trained_models/best_decision_tree.pkl', 'rb') as p:\n",
    "    dtr = pickle.load(p)"
   ]
  },
  {
   "cell_type": "code",
   "execution_count": 9,
   "id": "aa6106ae-95f8-45b0-b235-a97cdf764b1d",
   "metadata": {},
   "outputs": [
    {
     "name": "stdout",
     "output_type": "stream",
     "text": [
      "Prediction of MRR by random forest is 0.019764096622321703\n"
     ]
    },
    {
     "name": "stderr",
     "output_type": "stream",
     "text": [
      "/home/explorer/.conda/envs/pydaas/lib/python3.9/site-packages/sklearn/base.py:450: UserWarning: X does not have valid feature names, but RandomForestRegressor was fitted with feature names\n",
      "  warnings.warn(\n"
     ]
    }
   ],
   "source": [
    "print(\"Prediction of MRR by random forest is \"+str(rfr.predict(X2[1:2].to_numpy())[0]))"
   ]
  },
  {
   "cell_type": "code",
   "execution_count": 10,
   "id": "1567bd18-9cd3-4419-a935-8e264618aeb5",
   "metadata": {},
   "outputs": [],
   "source": [
    "with open('../trained_models/best_decision_tree.pkl', 'rb') as f:\n",
    "    dtr = pickle.load(f)"
   ]
  },
  {
   "cell_type": "code",
   "execution_count": 11,
   "id": "f8ce8a34-213f-4061-bd1f-fb8c3bad6385",
   "metadata": {},
   "outputs": [
    {
     "name": "stdout",
     "output_type": "stream",
     "text": [
      "Prediction of MRR by random forest is 0.0191785947630285\n"
     ]
    },
    {
     "name": "stderr",
     "output_type": "stream",
     "text": [
      "/home/explorer/.conda/envs/pydaas/lib/python3.9/site-packages/sklearn/base.py:450: UserWarning: X does not have valid feature names, but DecisionTreeRegressor was fitted with feature names\n",
      "  warnings.warn(\n"
     ]
    }
   ],
   "source": [
    "print(\"Prediction of MRR by random forest is \"+str(dtr.predict(X[1:2].to_numpy())[0]))"
   ]
  },
  {
   "cell_type": "code",
   "execution_count": 12,
   "id": "884bf689-d904-4f1c-9794-f03116208241",
   "metadata": {},
   "outputs": [],
   "source": [
    "#Y[1:2]"
   ]
  },
  {
   "cell_type": "code",
   "execution_count": null,
   "id": "9688a240-7b3f-4e37-80b2-ef5a41f86c5e",
   "metadata": {},
   "outputs": [],
   "source": []
  }
 ],
 "metadata": {
  "kernelspec": {
   "display_name": "Python 3 (ipykernel)",
   "language": "python",
   "name": "python3"
  },
  "language_info": {
   "codemirror_mode": {
    "name": "ipython",
    "version": 3
   },
   "file_extension": ".py",
   "mimetype": "text/x-python",
   "name": "python",
   "nbconvert_exporter": "python",
   "pygments_lexer": "ipython3",
   "version": "3.9.7"
  }
 },
 "nbformat": 4,
 "nbformat_minor": 5
}
