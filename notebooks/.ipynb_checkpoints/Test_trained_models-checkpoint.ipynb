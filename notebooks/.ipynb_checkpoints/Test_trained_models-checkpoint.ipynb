{
 "cells": [
  {
   "cell_type": "code",
   "execution_count": null,
   "id": "24fc43ca-f461-4a2e-b850-ced48ad9dccf",
   "metadata": {},
   "outputs": [],
   "source": [
    "import pickle\n",
    "import pandas as pd\n"
   ]
  },
  {
   "cell_type": "code",
   "execution_count": null,
   "id": "835a8b68-26e0-4751-9a2b-3b542593d1c4",
   "metadata": {},
   "outputs": [],
   "source": [
    "# load\n",
    "with open('.pkl', 'rb') as f:\n",
    "    rfr = pickle.load(f)\n",
    "\n",
    "rfr.predict(X[0:1])"
   ]
  }
 ],
 "metadata": {
  "kernelspec": {
   "display_name": "Python 3 (ipykernel)",
   "language": "python",
   "name": "python3"
  },
  "language_info": {
   "codemirror_mode": {
    "name": "ipython",
    "version": 3
   },
   "file_extension": ".py",
   "mimetype": "text/x-python",
   "name": "python",
   "nbconvert_exporter": "python",
   "pygments_lexer": "ipython3",
   "version": "3.9.7"
  }
 },
 "nbformat": 4,
 "nbformat_minor": 5
}
