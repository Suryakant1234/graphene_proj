{
 "cells": [
  {
   "cell_type": "code",
   "execution_count": 1,
   "id": "542fe965-7a20-4d16-b75a-1e78904156eb",
   "metadata": {},
   "outputs": [],
   "source": [
    "import pandas as pd\n",
    "import matplotlib.pyplot as plt"
   ]
  },
  {
   "cell_type": "code",
   "execution_count": 2,
   "id": "b5b40e70-d04f-42c2-941b-caea0fc8887c",
   "metadata": {},
   "outputs": [],
   "source": [
    "grd = pd.read_csv('../data/graphene_data_final.csv')"
   ]
  },
  {
   "cell_type": "code",
   "execution_count": 3,
   "id": "973b6976-2ed0-4227-8de6-da1202babf4d",
   "metadata": {},
   "outputs": [
    {
     "data": {
      "text/html": [
       "<div>\n",
       "<style scoped>\n",
       "    .dataframe tbody tr th:only-of-type {\n",
       "        vertical-align: middle;\n",
       "    }\n",
       "\n",
       "    .dataframe tbody tr th {\n",
       "        vertical-align: top;\n",
       "    }\n",
       "\n",
       "    .dataframe thead th {\n",
       "        text-align: right;\n",
       "    }\n",
       "</style>\n",
       "<table border=\"1\" class=\"dataframe\">\n",
       "  <thead>\n",
       "    <tr style=\"text-align: right;\">\n",
       "      <th></th>\n",
       "      <th>Graphene_percentage</th>\n",
       "      <th>FEED</th>\n",
       "      <th>RPM</th>\n",
       "      <th>DOC</th>\n",
       "      <th>MRR_gm_per_sec</th>\n",
       "      <th>Ra</th>\n",
       "    </tr>\n",
       "  </thead>\n",
       "  <tbody>\n",
       "    <tr>\n",
       "      <th>0</th>\n",
       "      <td>0.00</td>\n",
       "      <td>100</td>\n",
       "      <td>1000</td>\n",
       "      <td>0.10</td>\n",
       "      <td>0.012697</td>\n",
       "      <td>0.418</td>\n",
       "    </tr>\n",
       "    <tr>\n",
       "      <th>1</th>\n",
       "      <td>0.00</td>\n",
       "      <td>100</td>\n",
       "      <td>1000</td>\n",
       "      <td>0.15</td>\n",
       "      <td>0.020327</td>\n",
       "      <td>0.959</td>\n",
       "    </tr>\n",
       "    <tr>\n",
       "      <th>2</th>\n",
       "      <td>0.00</td>\n",
       "      <td>100</td>\n",
       "      <td>1000</td>\n",
       "      <td>0.20</td>\n",
       "      <td>0.031002</td>\n",
       "      <td>0.331</td>\n",
       "    </tr>\n",
       "    <tr>\n",
       "      <th>3</th>\n",
       "      <td>0.00</td>\n",
       "      <td>100</td>\n",
       "      <td>2000</td>\n",
       "      <td>0.10</td>\n",
       "      <td>0.012720</td>\n",
       "      <td>0.378</td>\n",
       "    </tr>\n",
       "    <tr>\n",
       "      <th>4</th>\n",
       "      <td>0.00</td>\n",
       "      <td>100</td>\n",
       "      <td>2000</td>\n",
       "      <td>0.15</td>\n",
       "      <td>0.019914</td>\n",
       "      <td>0.441</td>\n",
       "    </tr>\n",
       "    <tr>\n",
       "      <th>...</th>\n",
       "      <td>...</td>\n",
       "      <td>...</td>\n",
       "      <td>...</td>\n",
       "      <td>...</td>\n",
       "      <td>...</td>\n",
       "      <td>...</td>\n",
       "    </tr>\n",
       "    <tr>\n",
       "      <th>130</th>\n",
       "      <td>0.03</td>\n",
       "      <td>200</td>\n",
       "      <td>2000</td>\n",
       "      <td>0.15</td>\n",
       "      <td>0.041111</td>\n",
       "      <td>0.708</td>\n",
       "    </tr>\n",
       "    <tr>\n",
       "      <th>131</th>\n",
       "      <td>0.03</td>\n",
       "      <td>200</td>\n",
       "      <td>2000</td>\n",
       "      <td>0.20</td>\n",
       "      <td>0.050602</td>\n",
       "      <td>0.586</td>\n",
       "    </tr>\n",
       "    <tr>\n",
       "      <th>132</th>\n",
       "      <td>0.03</td>\n",
       "      <td>200</td>\n",
       "      <td>3000</td>\n",
       "      <td>0.10</td>\n",
       "      <td>0.021910</td>\n",
       "      <td>0.906</td>\n",
       "    </tr>\n",
       "    <tr>\n",
       "      <th>133</th>\n",
       "      <td>0.03</td>\n",
       "      <td>200</td>\n",
       "      <td>3000</td>\n",
       "      <td>0.15</td>\n",
       "      <td>0.038930</td>\n",
       "      <td>0.927</td>\n",
       "    </tr>\n",
       "    <tr>\n",
       "      <th>134</th>\n",
       "      <td>0.03</td>\n",
       "      <td>200</td>\n",
       "      <td>3000</td>\n",
       "      <td>0.20</td>\n",
       "      <td>0.047250</td>\n",
       "      <td>1.284</td>\n",
       "    </tr>\n",
       "  </tbody>\n",
       "</table>\n",
       "<p>135 rows × 6 columns</p>\n",
       "</div>"
      ],
      "text/plain": [
       "     Graphene_percentage  FEED   RPM   DOC  MRR_gm_per_sec     Ra\n",
       "0                   0.00   100  1000  0.10        0.012697  0.418\n",
       "1                   0.00   100  1000  0.15        0.020327  0.959\n",
       "2                   0.00   100  1000  0.20        0.031002  0.331\n",
       "3                   0.00   100  2000  0.10        0.012720  0.378\n",
       "4                   0.00   100  2000  0.15        0.019914  0.441\n",
       "..                   ...   ...   ...   ...             ...    ...\n",
       "130                 0.03   200  2000  0.15        0.041111  0.708\n",
       "131                 0.03   200  2000  0.20        0.050602  0.586\n",
       "132                 0.03   200  3000  0.10        0.021910  0.906\n",
       "133                 0.03   200  3000  0.15        0.038930  0.927\n",
       "134                 0.03   200  3000  0.20        0.047250  1.284\n",
       "\n",
       "[135 rows x 6 columns]"
      ]
     },
     "execution_count": 3,
     "metadata": {},
     "output_type": "execute_result"
    }
   ],
   "source": [
    "grd"
   ]
  },
  {
   "cell_type": "code",
   "execution_count": 4,
   "id": "9a932743-8fe5-43a0-9a10-1ed9094f47c9",
   "metadata": {},
   "outputs": [
    {
     "data": {
      "text/html": [
       "<div>\n",
       "<style scoped>\n",
       "    .dataframe tbody tr th:only-of-type {\n",
       "        vertical-align: middle;\n",
       "    }\n",
       "\n",
       "    .dataframe tbody tr th {\n",
       "        vertical-align: top;\n",
       "    }\n",
       "\n",
       "    .dataframe thead th {\n",
       "        text-align: right;\n",
       "    }\n",
       "</style>\n",
       "<table border=\"1\" class=\"dataframe\">\n",
       "  <thead>\n",
       "    <tr style=\"text-align: right;\">\n",
       "      <th></th>\n",
       "      <th>Graphene_percentage</th>\n",
       "      <th>FEED</th>\n",
       "      <th>RPM</th>\n",
       "      <th>DOC</th>\n",
       "      <th>MRR_gm_per_sec</th>\n",
       "      <th>Ra</th>\n",
       "    </tr>\n",
       "  </thead>\n",
       "  <tbody>\n",
       "    <tr>\n",
       "      <th>Graphene_percentage</th>\n",
       "      <td>1.000000e+00</td>\n",
       "      <td>-4.862912e-17</td>\n",
       "      <td>-4.189586e-17</td>\n",
       "      <td>-1.643863e-17</td>\n",
       "      <td>-0.040645</td>\n",
       "      <td>0.082983</td>\n",
       "    </tr>\n",
       "    <tr>\n",
       "      <th>FEED</th>\n",
       "      <td>-4.862912e-17</td>\n",
       "      <td>1.000000e+00</td>\n",
       "      <td>3.233759e-18</td>\n",
       "      <td>0.000000e+00</td>\n",
       "      <td>0.590197</td>\n",
       "      <td>0.191750</td>\n",
       "    </tr>\n",
       "    <tr>\n",
       "      <th>RPM</th>\n",
       "      <td>-4.189586e-17</td>\n",
       "      <td>3.233759e-18</td>\n",
       "      <td>1.000000e+00</td>\n",
       "      <td>0.000000e+00</td>\n",
       "      <td>0.022629</td>\n",
       "      <td>-0.305373</td>\n",
       "    </tr>\n",
       "    <tr>\n",
       "      <th>DOC</th>\n",
       "      <td>-1.643863e-17</td>\n",
       "      <td>0.000000e+00</td>\n",
       "      <td>0.000000e+00</td>\n",
       "      <td>1.000000e+00</td>\n",
       "      <td>0.716658</td>\n",
       "      <td>-0.034006</td>\n",
       "    </tr>\n",
       "    <tr>\n",
       "      <th>MRR_gm_per_sec</th>\n",
       "      <td>-4.064458e-02</td>\n",
       "      <td>5.901971e-01</td>\n",
       "      <td>2.262917e-02</td>\n",
       "      <td>7.166582e-01</td>\n",
       "      <td>1.000000</td>\n",
       "      <td>0.124521</td>\n",
       "    </tr>\n",
       "    <tr>\n",
       "      <th>Ra</th>\n",
       "      <td>8.298294e-02</td>\n",
       "      <td>1.917504e-01</td>\n",
       "      <td>-3.053734e-01</td>\n",
       "      <td>-3.400605e-02</td>\n",
       "      <td>0.124521</td>\n",
       "      <td>1.000000</td>\n",
       "    </tr>\n",
       "  </tbody>\n",
       "</table>\n",
       "</div>"
      ],
      "text/plain": [
       "                     Graphene_percentage          FEED           RPM  \\\n",
       "Graphene_percentage         1.000000e+00 -4.862912e-17 -4.189586e-17   \n",
       "FEED                       -4.862912e-17  1.000000e+00  3.233759e-18   \n",
       "RPM                        -4.189586e-17  3.233759e-18  1.000000e+00   \n",
       "DOC                        -1.643863e-17  0.000000e+00  0.000000e+00   \n",
       "MRR_gm_per_sec             -4.064458e-02  5.901971e-01  2.262917e-02   \n",
       "Ra                          8.298294e-02  1.917504e-01 -3.053734e-01   \n",
       "\n",
       "                              DOC  MRR_gm_per_sec        Ra  \n",
       "Graphene_percentage -1.643863e-17       -0.040645  0.082983  \n",
       "FEED                 0.000000e+00        0.590197  0.191750  \n",
       "RPM                  0.000000e+00        0.022629 -0.305373  \n",
       "DOC                  1.000000e+00        0.716658 -0.034006  \n",
       "MRR_gm_per_sec       7.166582e-01        1.000000  0.124521  \n",
       "Ra                  -3.400605e-02        0.124521  1.000000  "
      ]
     },
     "execution_count": 4,
     "metadata": {},
     "output_type": "execute_result"
    }
   ],
   "source": [
    "grd.corr()"
   ]
  },
  {
   "cell_type": "code",
   "execution_count": 5,
   "id": "f142bdb8-e697-46b5-8130-92f07e87b3c7",
   "metadata": {},
   "outputs": [
    {
     "data": {
      "text/html": [
       "<div>\n",
       "<style scoped>\n",
       "    .dataframe tbody tr th:only-of-type {\n",
       "        vertical-align: middle;\n",
       "    }\n",
       "\n",
       "    .dataframe tbody tr th {\n",
       "        vertical-align: top;\n",
       "    }\n",
       "\n",
       "    .dataframe thead th {\n",
       "        text-align: right;\n",
       "    }\n",
       "</style>\n",
       "<table border=\"1\" class=\"dataframe\">\n",
       "  <thead>\n",
       "    <tr style=\"text-align: right;\">\n",
       "      <th></th>\n",
       "      <th>Graphene_percentage</th>\n",
       "      <th>FEED</th>\n",
       "      <th>RPM</th>\n",
       "      <th>DOC</th>\n",
       "      <th>MRR_gm_per_sec</th>\n",
       "      <th>Ra</th>\n",
       "    </tr>\n",
       "  </thead>\n",
       "  <tbody>\n",
       "    <tr>\n",
       "      <th>Graphene_percentage</th>\n",
       "      <td>1.0</td>\n",
       "      <td>0.0</td>\n",
       "      <td>0.0</td>\n",
       "      <td>0.0</td>\n",
       "      <td>0.0</td>\n",
       "      <td>0.0</td>\n",
       "    </tr>\n",
       "    <tr>\n",
       "      <th>FEED</th>\n",
       "      <td>0.0</td>\n",
       "      <td>1.0</td>\n",
       "      <td>0.0</td>\n",
       "      <td>0.0</td>\n",
       "      <td>1.0</td>\n",
       "      <td>1.0</td>\n",
       "    </tr>\n",
       "    <tr>\n",
       "      <th>RPM</th>\n",
       "      <td>0.0</td>\n",
       "      <td>0.0</td>\n",
       "      <td>1.0</td>\n",
       "      <td>0.0</td>\n",
       "      <td>0.0</td>\n",
       "      <td>0.0</td>\n",
       "    </tr>\n",
       "    <tr>\n",
       "      <th>DOC</th>\n",
       "      <td>0.0</td>\n",
       "      <td>0.0</td>\n",
       "      <td>0.0</td>\n",
       "      <td>1.0</td>\n",
       "      <td>1.0</td>\n",
       "      <td>0.0</td>\n",
       "    </tr>\n",
       "    <tr>\n",
       "      <th>MRR_gm_per_sec</th>\n",
       "      <td>0.0</td>\n",
       "      <td>1.0</td>\n",
       "      <td>0.0</td>\n",
       "      <td>1.0</td>\n",
       "      <td>1.0</td>\n",
       "      <td>1.0</td>\n",
       "    </tr>\n",
       "    <tr>\n",
       "      <th>Ra</th>\n",
       "      <td>0.0</td>\n",
       "      <td>1.0</td>\n",
       "      <td>0.0</td>\n",
       "      <td>0.0</td>\n",
       "      <td>1.0</td>\n",
       "      <td>1.0</td>\n",
       "    </tr>\n",
       "  </tbody>\n",
       "</table>\n",
       "</div>"
      ],
      "text/plain": [
       "                     Graphene_percentage  FEED  RPM  DOC  MRR_gm_per_sec   Ra\n",
       "Graphene_percentage                  1.0   0.0  0.0  0.0             0.0  0.0\n",
       "FEED                                 0.0   1.0  0.0  0.0             1.0  1.0\n",
       "RPM                                  0.0   0.0  1.0  0.0             0.0  0.0\n",
       "DOC                                  0.0   0.0  0.0  1.0             1.0  0.0\n",
       "MRR_gm_per_sec                       0.0   1.0  0.0  1.0             1.0  1.0\n",
       "Ra                                   0.0   1.0  0.0  0.0             1.0  1.0"
      ]
     },
     "execution_count": 5,
     "metadata": {},
     "output_type": "execute_result"
    }
   ],
   "source": [
    "(grd.corr()>0.1).astype('float')"
   ]
  },
  {
   "cell_type": "code",
   "execution_count": 6,
   "id": "aab1c2f3-1591-43bc-b628-a04047d4b8b4",
   "metadata": {},
   "outputs": [
    {
     "data": {
      "text/html": [
       "<div>\n",
       "<style scoped>\n",
       "    .dataframe tbody tr th:only-of-type {\n",
       "        vertical-align: middle;\n",
       "    }\n",
       "\n",
       "    .dataframe tbody tr th {\n",
       "        vertical-align: top;\n",
       "    }\n",
       "\n",
       "    .dataframe thead th {\n",
       "        text-align: right;\n",
       "    }\n",
       "</style>\n",
       "<table border=\"1\" class=\"dataframe\">\n",
       "  <thead>\n",
       "    <tr style=\"text-align: right;\">\n",
       "      <th></th>\n",
       "      <th>Graphene_percentage</th>\n",
       "      <th>FEED</th>\n",
       "      <th>RPM</th>\n",
       "      <th>DOC</th>\n",
       "      <th>MRR_gm_per_sec</th>\n",
       "      <th>Ra</th>\n",
       "    </tr>\n",
       "  </thead>\n",
       "  <tbody>\n",
       "    <tr>\n",
       "      <th>Graphene_percentage</th>\n",
       "      <td>1.0</td>\n",
       "      <td>-0.000000</td>\n",
       "      <td>-0.0</td>\n",
       "      <td>-0.000000</td>\n",
       "      <td>-0.000000</td>\n",
       "      <td>0.000000</td>\n",
       "    </tr>\n",
       "    <tr>\n",
       "      <th>FEED</th>\n",
       "      <td>-0.0</td>\n",
       "      <td>1.000000</td>\n",
       "      <td>0.0</td>\n",
       "      <td>0.000000</td>\n",
       "      <td>0.590197</td>\n",
       "      <td>0.191750</td>\n",
       "    </tr>\n",
       "    <tr>\n",
       "      <th>RPM</th>\n",
       "      <td>-0.0</td>\n",
       "      <td>0.000000</td>\n",
       "      <td>1.0</td>\n",
       "      <td>0.000000</td>\n",
       "      <td>0.000000</td>\n",
       "      <td>-0.000000</td>\n",
       "    </tr>\n",
       "    <tr>\n",
       "      <th>DOC</th>\n",
       "      <td>-0.0</td>\n",
       "      <td>0.000000</td>\n",
       "      <td>0.0</td>\n",
       "      <td>1.000000</td>\n",
       "      <td>0.716658</td>\n",
       "      <td>-0.000000</td>\n",
       "    </tr>\n",
       "    <tr>\n",
       "      <th>MRR_gm_per_sec</th>\n",
       "      <td>-0.0</td>\n",
       "      <td>0.590197</td>\n",
       "      <td>0.0</td>\n",
       "      <td>0.716658</td>\n",
       "      <td>1.000000</td>\n",
       "      <td>0.124521</td>\n",
       "    </tr>\n",
       "    <tr>\n",
       "      <th>Ra</th>\n",
       "      <td>0.0</td>\n",
       "      <td>0.191750</td>\n",
       "      <td>-0.0</td>\n",
       "      <td>-0.000000</td>\n",
       "      <td>0.124521</td>\n",
       "      <td>1.000000</td>\n",
       "    </tr>\n",
       "  </tbody>\n",
       "</table>\n",
       "</div>"
      ],
      "text/plain": [
       "                     Graphene_percentage      FEED  RPM       DOC  \\\n",
       "Graphene_percentage                  1.0 -0.000000 -0.0 -0.000000   \n",
       "FEED                                -0.0  1.000000  0.0  0.000000   \n",
       "RPM                                 -0.0  0.000000  1.0  0.000000   \n",
       "DOC                                 -0.0  0.000000  0.0  1.000000   \n",
       "MRR_gm_per_sec                      -0.0  0.590197  0.0  0.716658   \n",
       "Ra                                   0.0  0.191750 -0.0 -0.000000   \n",
       "\n",
       "                     MRR_gm_per_sec        Ra  \n",
       "Graphene_percentage       -0.000000  0.000000  \n",
       "FEED                       0.590197  0.191750  \n",
       "RPM                        0.000000 -0.000000  \n",
       "DOC                        0.716658 -0.000000  \n",
       "MRR_gm_per_sec             1.000000  0.124521  \n",
       "Ra                         0.124521  1.000000  "
      ]
     },
     "execution_count": 6,
     "metadata": {},
     "output_type": "execute_result"
    }
   ],
   "source": [
    "grd.corr()*(grd.corr()>0.1).astype('float')"
   ]
  },
  {
   "cell_type": "code",
   "execution_count": 7,
   "id": "c2d2d2f0-8166-4bf6-9099-ae50e1927fa9",
   "metadata": {},
   "outputs": [
    {
     "data": {
      "text/plain": [
       "Index(['Graphene_percentage', 'FEED', 'RPM', 'DOC'], dtype='object')"
      ]
     },
     "execution_count": 7,
     "metadata": {},
     "output_type": "execute_result"
    }
   ],
   "source": [
    "grd.columns[:4]"
   ]
  },
  {
   "cell_type": "code",
   "execution_count": 8,
   "id": "7935da82-7a61-4df8-8bdf-33325e049ebb",
   "metadata": {},
   "outputs": [
    {
     "data": {
      "image/png": "[encoded data removed]",
      "text/plain": [
       "<Figure size 432x288 with 1 Axes>"
      ]
     },
     "metadata": {
      "needs_background": "light"
     },
     "output_type": "display_data"
    },
    {
     "data": {
      "image/png": "[encoded data removed]",
      "text/plain": [
       "<Figure size 432x288 with 1 Axes>"
      ]
     },
     "metadata": {
      "needs_background": "light"
     },
     "output_type": "display_data"
    },
    {
     "data": {
      "image/png": "[encoded data removed]",
      "text/plain": [
       "<Figure size 432x288 with 1 Axes>"
      ]
     },
     "metadata": {
      "needs_background": "light"
     },
     "output_type": "display_data"
    },
    {
     "data": {
      "image/png": "[encoded data removed]",
      "text/plain": [
       "<Figure size 432x288 with 1 Axes>"
      ]
     },
     "metadata": {
      "needs_background": "light"
     },
     "output_type": "display_data"
    }
   ],
   "source": [
    "num_ = 1\n",
    "for i in grd.columns[:4]:\n",
    "    plt.figure(num = num_)\n",
    "    num_ += 1\n",
    "    plt.scatter(grd[i],grd['MRR_gm_per_sec'])\n",
    "    plt.ylabel(i)\n",
    "    plt.xlabel('MRR_gm_per_sec')\n",
    "    plt.title(i+' vs MRR_gm_per_sec')"
   ]
  },
  {
   "cell_type": "code",
   "execution_count": 9,
   "id": "1a615b80-d8cc-4b06-966f-5077824494ab",
   "metadata": {},
   "outputs": [
    {
     "data": {
      "image/png": "[encoded data removed]",
      "text/plain": [
       "<Figure size 432x288 with 1 Axes>"
      ]
     },
     "metadata": {
      "needs_background": "light"
     },
     "output_type": "display_data"
    },
    {
     "data": {
      "image/png": "[encoded data removed]",
      "text/plain": [
       "<Figure size 432x288 with 1 Axes>"
      ]
     },
     "metadata": {
      "needs_background": "light"
     },
     "output_type": "display_data"
    },
    {
     "data": {
      "image/png": "[encoded data removed]",
      "text/plain": [
       "<Figure size 432x288 with 1 Axes>"
      ]
     },
     "metadata": {
      "needs_background": "light"
     },
     "output_type": "display_data"
    },
    {
     "data": {
      "image/png": "[encoded data removed]",
      "text/plain": [
       "<Figure size 432x288 with 1 Axes>"
      ]
     },
     "metadata": {
      "needs_background": "light"
     },
     "output_type": "display_data"
    }
   ],
   "source": [
    "num_ = 1\n",
    "for i in grd.columns[:4]:\n",
    "    plt.figure(num = num_)\n",
    "    num_ += 1\n",
    "    plt.scatter(grd[i],grd['Ra'])\n",
    "    plt.ylabel(i)\n",
    "    plt.xlabel('Ra')\n",
    "    plt.title(i+' vs Ra')"
   ]
  },
  {
   "cell_type": "code",
   "execution_count": 10,
   "id": "56cd2295-f372-4269-a2be-ba750d5ed114",
   "metadata": {},
   "outputs": [
    {
     "name": "stdout",
     "output_type": "stream",
     "text": [
      "[0.    0.005 0.01  0.02  0.03 ]\n",
      "[100 150 200]\n",
      "[1000 2000 3000]\n",
      "[0.1  0.15 0.2 ]\n"
     ]
    }
   ],
   "source": [
    "print(grd['Graphene_percentage'].unique())\n",
    "print(grd['FEED'].unique())\n",
    "print(grd['RPM'].unique())\n",
    "print(grd['DOC'].unique())"
   ]
  }
 ],
 "metadata": {
  "kernelspec": {
   "display_name": "Python 3 (ipykernel)",
   "language": "python",
   "name": "python3"
  },
  "language_info": {
   "codemirror_mode": {
    "name": "ipython",
    "version": 3
   },
   "file_extension": ".py",
   "mimetype": "text/x-python",
   "name": "python",
   "nbconvert_exporter": "python",
   "pygments_lexer": "ipython3",
   "version": "3.9.7"
  }
 },
 "nbformat": 4,
 "nbformat_minor": 5
}
