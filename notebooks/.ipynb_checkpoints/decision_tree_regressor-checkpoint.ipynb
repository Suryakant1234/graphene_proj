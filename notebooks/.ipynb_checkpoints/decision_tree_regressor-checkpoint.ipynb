{
 "cells": [
  {
   "cell_type": "markdown",
   "id": "9061d7d6-3524-4fa2-a379-2165f636415e",
   "metadata": {},
   "source": [
    "# Decision Tree Regressor"
   ]
  },
  {
   "cell_type": "code",
   "execution_count": 1,
   "id": "1ad2e12f-d0d5-4297-9e91-ac44b2607f2a",
   "metadata": {},
   "outputs": [],
   "source": [
    "import pandas as pd\n",
    "import numpy as np\n",
    "from sklearn.model_selection import train_test_split\n",
    "import matplotlib.pyplot as plt\n",
    "from sklearn import tree\n",
    "from sklearn.model_selection import GridSearchCV\n",
    "from sklearn.preprocessing import StandardScaler\n",
    "from sklearn.pipeline import make_pipeline\n",
    "from sklearn.metrics import make_scorer"
   ]
  },
  {
   "cell_type": "code",
   "execution_count": 2,
   "id": "9bc435d6-d118-4d9e-84ec-4cebf8695198",
   "metadata": {},
   "outputs": [],
   "source": [
    "grd = pd.read_csv(\"../data/graphene_data_final.csv\")"
   ]
  },
  {
   "cell_type": "code",
   "execution_count": 3,
   "id": "f622e1df-602f-44de-903a-2bc394e94d21",
   "metadata": {},
   "outputs": [],
   "source": [
    "X, Y = grd[['Graphene_percentage', 'FEED', 'RPM', 'DOC']], grd['MRR_gm_per_sec']\n",
    "Y2 = grd['Ra']"
   ]
  },
  {
   "cell_type": "code",
   "execution_count": 4,
   "id": "4ed3fe54-662b-4b03-8fda-07094bee48c3",
   "metadata": {},
   "outputs": [],
   "source": [
    "X_train, X_test, Y_train, Y_test = train_test_split(X, Y, test_size = 0.3, random_state=1)\n",
    "X_train, X_test, Y2_train, Y2_test = train_test_split(X, Y2, test_size = 0.3, random_state=1)"
   ]
  },
  {
   "cell_type": "code",
   "execution_count": 5,
   "id": "a5f60187-daaa-4668-96b8-d0ea2b06e3d7",
   "metadata": {},
   "outputs": [
    {
     "name": "stdout",
     "output_type": "stream",
     "text": [
      "0.8456605882420749\n"
     ]
    }
   ],
   "source": [
    "print(tree.DecisionTreeRegressor().fit(X_train,Y_train).score(X_test,Y_test))"
   ]
  },
  {
   "cell_type": "markdown",
   "id": "a4bd7d80-514a-4d45-84b0-0da913c2091f",
   "metadata": {},
   "source": [
    "#### Maximum depth vs Test score"
   ]
  },
  {
   "cell_type": "code",
   "execution_count": 6,
   "id": "f9e46b7c-4172-438e-9722-79f8d1781dbb",
   "metadata": {},
   "outputs": [
    {
     "name": "stdout",
     "output_type": "stream",
     "text": [
      "1  0.34215504461832535\n",
      "2  0.6584615859318392\n",
      "3  0.7683696377168678\n",
      "4  0.8427968886279225\n",
      "5  0.8294883692112021\n",
      "6  0.8316129305883023\n",
      "7  0.8497825924673458\n",
      "8  0.8456605882420749\n",
      "9  0.8456605882420749\n"
     ]
    }
   ],
   "source": [
    "for i in range(1,10):\n",
    "    tree_0 = tree.DecisionTreeRegressor(max_depth=i).fit(X_train,Y_train)   \n",
    "    print(str(i)+\"  \"+str(tree_0.score(X_test,Y_test)))"
   ]
  },
  {
   "cell_type": "markdown",
   "id": "b029a77e-d298-4ca3-913c-e377129f2e8f",
   "metadata": {},
   "source": [
    "#### Minimum Sample Split vs Test score"
   ]
  },
  {
   "cell_type": "code",
   "execution_count": 7,
   "id": "af5f4cee-af7b-4855-9b84-7e3fde1df859",
   "metadata": {},
   "outputs": [
    {
     "name": "stdout",
     "output_type": "stream",
     "text": [
      "2  0.8456605882420749\n",
      "3  0.8470616635414071\n",
      "4  0.860390263796653\n",
      "5  0.8701307304048008\n",
      "6  0.8473999412257508\n",
      "7  0.8467823180570306\n",
      "8  0.8461547716851098\n",
      "9  0.8383191686380057\n",
      "10  0.8432851400474274\n",
      "11  0.8432564135002852\n",
      "12  0.8464894105095316\n",
      "13  0.8513055680304796\n",
      "14  0.8513055680304796\n",
      "15  0.8513055680304796\n",
      "16  0.8513055680304795\n",
      "17  0.8513055680304796\n",
      "18  0.8534638877180607\n",
      "19  0.8332526763504087\n",
      "20  0.8332526763504087\n"
     ]
    }
   ],
   "source": [
    "for i in range(1,20):\n",
    "    tree_0 = tree.DecisionTreeRegressor(min_samples_split=i+1).fit(X_train,Y_train)   \n",
    "    print(str(i+1)+\"  \"+str(tree_0.score(X_test,Y_test)))"
   ]
  },
  {
   "cell_type": "markdown",
   "id": "7b4de8b6-13e1-4fbe-9072-bca3b98d7e9d",
   "metadata": {},
   "source": [
    "#### Leaf count vs Test score"
   ]
  },
  {
   "cell_type": "code",
   "execution_count": 8,
   "id": "f246f224-7ae8-4f38-b0b0-ff5573825a25",
   "metadata": {},
   "outputs": [
    {
     "name": "stdout",
     "output_type": "stream",
     "text": [
      "2  0.8629876868642068\n",
      "3  0.8472328331455622\n",
      "4  0.8522967533572814\n",
      "5  0.8551022398855789\n",
      "6  0.8493352290787524\n",
      "7  0.8496606267024551\n",
      "8  0.8496606267024551\n",
      "9  0.8330052587584644\n",
      "10  0.758129224778583\n",
      "11  0.758129224778583\n",
      "12  0.7272398824831834\n",
      "13  0.7213185183452002\n",
      "14  0.7213185183452002\n",
      "15  0.7213185183452002\n",
      "16  0.7213185183452002\n",
      "17  0.7213185183452002\n",
      "18  0.7213185183452002\n",
      "19  0.5695004993981048\n",
      "20  0.5695004993981045\n"
     ]
    }
   ],
   "source": [
    "for i in range(1,20):\n",
    "    tree_0 = tree.DecisionTreeRegressor(min_samples_leaf=i+1).fit(X_train,Y_train)   \n",
    "    print(str(i+1)+\"  \"+str(tree_0.score(X_test,Y_test)))"
   ]
  },
  {
   "cell_type": "code",
   "execution_count": 9,
   "id": "8109c7f6-3010-4fda-bbd8-48bbd2d68a15",
   "metadata": {},
   "outputs": [
    {
     "data": {
      "text/plain": [
       "DecisionTreeRegressor(max_depth=7, min_samples_leaf=2, min_samples_split=5)"
      ]
     },
     "execution_count": 9,
     "metadata": {},
     "output_type": "execute_result"
    }
   ],
   "source": [
    "best_tree = tree.DecisionTreeRegressor(min_samples_leaf=2,min_samples_split=5,max_depth=7)\n",
    "best_tree.fit(X_train,Y_train)"
   ]
  },
  {
   "cell_type": "code",
   "execution_count": 10,
   "id": "d9db5761-586d-43f2-abaa-92bd63ddc5e8",
   "metadata": {},
   "outputs": [
    {
     "name": "stdout",
     "output_type": "stream",
     "text": [
      "0.8701307304048008\n"
     ]
    }
   ],
   "source": [
    "print(best_tree.score(X_test,Y_test))"
   ]
  },
  {
   "cell_type": "markdown",
   "id": "967d3233-2b83-4344-889e-4366c84d281e",
   "metadata": {},
   "source": [
    "Now let's save the best performing decision tree model as a \"Pickle\" file."
   ]
  },
  {
   "cell_type": "code",
   "execution_count": 13,
   "id": "4ad8e978-fcba-4acd-a452-7a04653e54b8",
   "metadata": {},
   "outputs": [],
   "source": [
    "import pickle\n",
    "\n",
    "# save\n",
    "with open('../trained_models/best_decision_tree.pkl','wb') as f:\n",
    "    pickle.dump(best_tree,f)\n"
   ]
  },
  {
   "cell_type": "code",
   "execution_count": 14,
   "id": "fa9d0b02-e872-4d35-8f46-5eac5da897d0",
   "metadata": {},
   "outputs": [
    {
     "data": {
      "text/plain": [
       "DecisionTreeRegressor(max_depth=7, min_samples_leaf=2, min_samples_split=5)"
      ]
     },
     "execution_count": 14,
     "metadata": {},
     "output_type": "execute_result"
    }
   ],
   "source": [
    "best_tree = tree.DecisionTreeRegressor(min_samples_leaf=2,min_samples_split=5,max_depth=7)\n",
    "best_tree.fit(X_train,Y2_train)"
   ]
  },
  {
   "cell_type": "code",
   "execution_count": 15,
   "id": "bcb2cebd-5f21-4d79-a446-c158d8a7c1dc",
   "metadata": {},
   "outputs": [
    {
     "name": "stdout",
     "output_type": "stream",
     "text": [
      "0.28595401085148686\n"
     ]
    }
   ],
   "source": [
    "print(best_tree.score(X_test,Y2_test))"
   ]
  },
  {
   "cell_type": "code",
   "execution_count": 16,
   "id": "508bb9cd-cb0d-4c9b-bf50-01e1be431da9",
   "metadata": {},
   "outputs": [
    {
     "name": "stdout",
     "output_type": "stream",
     "text": [
      "2  0.28759496531981643\n",
      "3  0.08718111471671053\n",
      "4  0.3430460230811968\n",
      "5  0.3668768010962986\n",
      "6  0.34724831489740293\n",
      "7  0.34599182608458545\n",
      "8  0.2298433767390714\n",
      "9  0.2438203750859521\n",
      "10  0.2418367106224163\n",
      "11  0.09577674907516054\n",
      "12  0.09577674907516054\n",
      "13  0.05366391035544793\n",
      "14  0.05366391035544804\n",
      "15  0.053663910355448374\n",
      "16  0.053663910355448374\n",
      "17  0.10742661123350994\n",
      "18  0.10742661123351027\n",
      "19  0.10742661123350983\n",
      "20  0.09644700256230099\n"
     ]
    }
   ],
   "source": [
    "for i in range(1,20):\n",
    "    tree_0 = tree.DecisionTreeRegressor(min_samples_leaf=i+1).fit(X_train,Y2_train)   \n",
    "    print(str(i+1)+\"  \"+str(tree_0.score(X_test,Y2_test)))"
   ]
  },
  {
   "cell_type": "code",
   "execution_count": 17,
   "id": "a406eef7-9ae1-4178-b1db-99b6ab57fff2",
   "metadata": {},
   "outputs": [
    {
     "name": "stdout",
     "output_type": "stream",
     "text": [
      "2  -0.4381715753155493\n",
      "3  -0.37211759527868304\n",
      "4  -0.1622020882877082\n",
      "5  -0.10812753300146727\n",
      "6  0.2651152598904555\n",
      "7  0.2651152598904555\n",
      "8  0.3041259178415653\n",
      "9  0.3338598489829536\n",
      "10  0.3283335230337189\n",
      "11  0.22171064898793924\n",
      "12  0.22171064898793924\n",
      "13  0.22951589835206887\n",
      "14  0.2443557809184047\n",
      "15  0.24133275086576855\n",
      "16  0.1449890788897077\n",
      "17  0.17546180204292827\n",
      "18  0.23461732780400157\n",
      "19  0.23461732780400157\n",
      "20  0.23461732780400157\n"
     ]
    }
   ],
   "source": [
    "for i in range(1,20):\n",
    "    tree_0 = tree.DecisionTreeRegressor(min_samples_split=i+1).fit(X_train,Y2_train)   \n",
    "    print(str(i+1)+\"  \"+str(tree_0.score(X_test,Y2_test)))"
   ]
  },
  {
   "cell_type": "code",
   "execution_count": 18,
   "id": "fb9bcc9d-4e75-4ea7-a581-ae03341bb208",
   "metadata": {},
   "outputs": [
    {
     "name": "stdout",
     "output_type": "stream",
     "text": [
      "1  0.02754132755869987\n",
      "2  0.10230743951433563\n",
      "3  0.23529894670289597\n",
      "4  0.4006317412179581\n",
      "5  0.25043046608885466\n",
      "6  -0.35560013250944267\n",
      "7  -0.4336708161559406\n",
      "8  -0.4396137256545152\n",
      "9  -0.439745350898771\n"
     ]
    }
   ],
   "source": [
    "for i in range(1,10):\n",
    "    tree_0 = tree.DecisionTreeRegressor(max_depth=i).fit(X_train,Y2_train)   \n",
    "    print(str(i)+\"  \"+str(tree_0.score(X_test,Y2_test)))"
   ]
  },
  {
   "cell_type": "code",
   "execution_count": 19,
   "id": "94a0cb84-9d32-4ac7-85c3-72554c1098b8",
   "metadata": {},
   "outputs": [
    {
     "data": {
      "text/plain": [
       "DecisionTreeRegressor(max_depth=4, min_samples_leaf=5, min_samples_split=9)"
      ]
     },
     "execution_count": 19,
     "metadata": {},
     "output_type": "execute_result"
    }
   ],
   "source": [
    "best1 = tree.DecisionTreeRegressor(min_samples_leaf=5,min_samples_split=9,max_depth=4)\n",
    "best1.fit(X_train,Y2_train)"
   ]
  },
  {
   "cell_type": "code",
   "execution_count": 20,
   "id": "c401cd28-ab77-4c75-b920-e3cb55720d39",
   "metadata": {},
   "outputs": [
    {
     "name": "stdout",
     "output_type": "stream",
     "text": [
      "0.5540966457072056\n"
     ]
    }
   ],
   "source": [
    "print(best1.score(X_train,Y2_train))"
   ]
  }
 ],
 "metadata": {
  "kernelspec": {
   "display_name": "Python 3 (ipykernel)",
   "language": "python",
   "name": "python3"
  },
  "language_info": {
   "codemirror_mode": {
    "name": "ipython",
    "version": 3
   },
   "file_extension": ".py",
   "mimetype": "text/x-python",
   "name": "python",
   "nbconvert_exporter": "python",
   "pygments_lexer": "ipython3",
   "version": "3.9.7"
  }
 },
 "nbformat": 4,
 "nbformat_minor": 5
}
